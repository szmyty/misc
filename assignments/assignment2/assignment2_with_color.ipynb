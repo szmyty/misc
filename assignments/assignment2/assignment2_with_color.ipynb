{
 "cells": [
  {
   "cell_type": "markdown",
   "metadata": {},
   "source": [
    "## <center> MET CS677 Data Science with Python - Assignment 2\n",
    "### <center> Alan Szmyt\n",
    "#### <center> Built with Python 3.10.6"
   ]
  },
  {
   "cell_type": "code",
   "execution_count": 1,
   "metadata": {
    "jupyter": {
     "outputs_hidden": false
    }
   },
   "outputs": [
    {
     "name": "stdout",
     "output_type": "stream",
     "text": [
      "Python 3.10.6\r\n"
     ]
    }
   ],
   "source": [
    "!python --version"
   ]
  },
  {
   "cell_type": "code",
   "execution_count": 2,
   "metadata": {},
   "outputs": [],
   "source": [
    "# This enables SVG graphics inline (only use with static plots (non-Bokeh))\n",
    "%config InlineBackend.figure_formats = {'svg',}"
   ]
  },
  {
   "cell_type": "code",
   "execution_count": 3,
   "metadata": {},
   "outputs": [
    {
     "data": {
      "text/plain": "<IPython.core.display.Javascript object>",
      "application/javascript": "MathJax.Hub.Config({\n    tex2jax: {\n        inlineMath: [['$','$'], ['\\\\(','\\\\)']],\n        processEscapes: true\n    },\n    tex: {\n        packages: {'[+]': ['require']},\n    },\n});\n"
     },
     "metadata": {},
     "output_type": "display_data"
    }
   ],
   "source": [
    "%%javascript\n",
    "MathJax.Hub.Config({\n",
    "    tex2jax: {\n",
    "        inlineMath: [['$','$'], ['\\\\(','\\\\)']],\n",
    "        processEscapes: true\n",
    "    },\n",
    "    tex: {\n",
    "        packages: {'[+]': ['require']},\n",
    "    },\n",
    "});"
   ]
  },
  {
   "cell_type": "code",
   "execution_count": 4,
   "metadata": {},
   "outputs": [
    {
     "data": {
      "text/plain": "<IPython.core.display.Latex object>",
      "text/latex": "$\\require{color}$\n$\\definecolor{plus}{RGB}{84,178,84}$\n$\\definecolor{minus}{RGB}{228,61,48}$\n$\\def\\positive{\\color{plus}{\"+\"}}$\n$\\def\\negative{\\color{minus}{\"-\"}}$\n$\\def\\rge{r_i \\ge{0}}$\n$\\def\\rl{r_i <{0}}$\n"
     },
     "metadata": {},
     "output_type": "display_data"
    }
   ],
   "source": [
    "%%latex\n",
    "$\\require{color}$\n",
    "$\\definecolor{plus}{RGB}{84,178,84}$\n",
    "$\\definecolor{minus}{RGB}{228,61,48}$\n",
    "$\\def\\positive{\\color{plus}{\"+\"}}$\n",
    "$\\def\\negative{\\color{minus}{\"-\"}}$\n",
    "$\\def\\rge{r_i \\ge{0}}$\n",
    "$\\def\\rl{r_i <{0}}$"
   ]
  },
  {
   "cell_type": "code",
   "execution_count": 5,
   "metadata": {},
   "outputs": [
    {
     "name": "stdout",
     "output_type": "stream",
     "text": [
      "Resources directory is located at /home/alan/src/bu/cs677/assignment2/assignment2/resources.\n"
     ]
    }
   ],
   "source": [
    "import operator\n",
    "import numpy as np\n",
    "import pandas as pd\n",
    "\n",
    "from assignment2 import (\n",
    "    add_true_labels,\n",
    "    buy_and_hold,\n",
    "    buy_from_prediction,\n",
    "    colorize,\n",
    "    get_labels,\n",
    "    linechart,\n",
    "    get_both_up_days,\n",
    "    get_training_tables,\n",
    "    get_testing_tables,\n",
    "    get_years,\n",
    "    get_statistics,\n",
    "    float_to_percentage,\n",
    "    predict_next_day,\n",
    "    w_prediction_accuracy,\n",
    "    question_1_3,\n",
    "    question_1_4,\n",
    "    read_stocks,\n",
    "    prediction_accuracy,\n",
    "    show_table,\n",
    "    show_tables,\n",
    "    compute_ensemble,\n",
    "    style_df,\n",
    ")\n",
    "from constants import (\n",
    "    SONY_TICKER,\n",
    "    SPY_TICKER,\n",
    "    DATE_KEY,\n",
    "    TRUE_LABEL_KEY,\n",
    "    ENSEMBLE_ORACLE_KEY,\n",
    "    W_ORACLE,\n",
    "    BUY_AND_HOLD_KEY,\n",
    "    ENSEMBLE_KEY\n",
    ")\n",
    "from utils import (\n",
    "    compute_probability,\n",
    "    mean,\n",
    "    resources,\n",
    ")\n",
    "from typing import cast\n",
    "from pandas import DataFrame, Series\n",
    "from IPython.display import Latex\n",
    "from pandas.io.formats.style import Styler\n",
    "from pandas._config import config # noqa\n",
    "from pandas._config.config import is_bool, OptionError # noqa\n",
    "\n",
    "# Global pandas options.\n",
    "pd.set_option('display.max_rows', 10)\n",
    "\n",
    "# TODO Don't have time.\n",
    "pd.set_option('mode.chained_assignment', None)\n",
    "\n",
    "# # Seaborn settings from\n",
    "# # Reference: https://bebi103.caltech.edu.s3-website-us-east-1.amazonaws.com/2015/tutorials/t0c_intro_to_latex.html\n",
    "# rc = {'lines.linewidth': 2,\n",
    "#       'axes.labelsize': 18,\n",
    "#       'axes.titlesize': 18,\n",
    "#       'axes.facecolor': 'DFDFE5'}\n",
    "# sns.set_context('notebook', rc=rc)\n",
    "# sns.set_style('darkgrid', rc=rc)\n",
    "\n",
    "print(f\"Resources directory is located at {resources}.\")"
   ]
  },
  {
   "cell_type": "code",
   "execution_count": 6,
   "metadata": {},
   "outputs": [],
   "source": [
    "# Read the stock data files into pandas dataframes.\n",
    "sony_dataframe, spy_dataframe = cast(tuple[DataFrame, DataFrame], read_stocks())\n",
    "\n",
    "# Set the date column to be datetime objects instead of string.\n",
    "sony_dataframe[DATE_KEY] = pd.to_datetime(sony_dataframe[DATE_KEY])\n",
    "spy_dataframe[DATE_KEY] = pd.to_datetime(spy_dataframe[DATE_KEY])\n",
    "\n",
    "# Create pandas stylers for each data set.\n",
    "sony_table: Styler = style_df(data=sony_dataframe, caption=\"SONY Stock Dataset\")\n",
    "spy_table: Styler = style_df(data=spy_dataframe, caption=\"S&P-500 Stock Dataset\")"
   ]
  },
  {
   "cell_type": "code",
   "execution_count": 7,
   "metadata": {},
   "outputs": [
    {
     "data": {
      "text/plain": "<IPython.core.display.Latex object>",
      "text/latex": "In many data science applications, you want to identify patterns, labels or classes based on available data. In this assignment we will focus on discovering patterns in your past stock behavior.\nTo each trading day $i$ you will assign a \"trading\" label $\\positive$ or $\\negative$ depending whether the corresponding daily return for that day $\\rge$ or $\\rl$. We will call these \"true\" labels and we compute these for all days in all 5 years.\nWe will use years 1, 2, and 3 as training years and we will use years 4 and 5 as testing years. For each day in years 4 and 5, we will predict a label based on some patterns that we observe in training years. We will call these \"predicted\" labels. We know the \"true\" labels for years 4 and 5 and we compute \"predicted\" labels for years 4 and 5. Therefore, we can analyze how good are our predictions for all labels, $\\positive$ labels only and $\\negative$ labels only in years 4 and 5."
     },
     "execution_count": 7,
     "metadata": {},
     "output_type": "execute_result"
    }
   ],
   "source": [
    "# Assignment description.\n",
    "Latex(\n",
    "    r'In many data science applications, you want to identify patterns, labels or classes based on available data. In this assignment we will focus on discovering patterns in your past stock behavior.'\n",
    "    \"\\n\"\n",
    "    r'To each trading day $i$ you will assign a \"trading\" label $\\positive$ or $\\negative$ depending whether the corresponding daily return for that day $\\rge$ or $\\rl$. We will call these \"true\" labels and we compute these for all days in all 5 years.'\n",
    "    \"\\n\"\n",
    "    r'We will use years 1, 2, and 3 as training years and we will use years 4 and 5 as testing years. For each day in years 4 and 5, we will predict a label based on some patterns that we observe in training years. We will call these \"predicted\" labels. We know the \"true\" labels for years 4 and 5 and we compute \"predicted\" labels for years 4 and 5. Therefore, we can analyze how good are our predictions for all labels, $\\positive$ labels only and $\\negative$ labels only in years 4 and 5.'\n",
    ")"
   ]
  },
  {
   "cell_type": "code",
   "execution_count": 8,
   "metadata": {},
   "outputs": [
    {
     "data": {
      "text/plain": "<IPython.core.display.Latex object>",
      "text/latex": "$\\textbf{Question 1: }$ You have a csv table of daily returns for your stock and for S&P-500 (\"SPY\" ticker)."
     },
     "execution_count": 8,
     "metadata": {},
     "output_type": "execute_result"
    }
   ],
   "source": [
    "Latex(r'$\\textbf{Question 1: }$ You have a csv table of daily returns for your stock and for S&P-500 (\"SPY\" ticker).')"
   ]
  },
  {
   "cell_type": "code",
   "execution_count": 9,
   "metadata": {},
   "outputs": [
    {
     "data": {
      "text/plain": "<IPython.core.display.HTML object>",
      "text/html": "<style type=\"text/css\">\n#T_ td {\n  text-align: center;\n}\n#T_  th {\n  text-align: center;\n}\n</style>\n<table id=\"T_\">\n  <caption>SONY Stock Dataset</caption>\n  <thead>\n    <tr>\n      <th class=\"blank level0\" >&nbsp;</th>\n      <th class=\"col_heading level0 col0\" >Date</th>\n      <th class=\"col_heading level0 col1\" >Year</th>\n      <th class=\"col_heading level0 col2\" >Month</th>\n      <th class=\"col_heading level0 col3\" >Day</th>\n      <th class=\"col_heading level0 col4\" >Weekday</th>\n      <th class=\"col_heading level0 col5\" >Week_Number</th>\n      <th class=\"col_heading level0 col6\" >Year_Week</th>\n      <th class=\"col_heading level0 col7\" >Open</th>\n      <th class=\"col_heading level0 col8\" >High</th>\n      <th class=\"col_heading level0 col9\" >Low</th>\n      <th class=\"col_heading level0 col10\" >Close</th>\n      <th class=\"col_heading level0 col11\" >Volume</th>\n      <th class=\"col_heading level0 col12\" >Adj Close</th>\n      <th class=\"col_heading level0 col13\" >Return</th>\n      <th class=\"col_heading level0 col14\" >Short_MA</th>\n      <th class=\"col_heading level0 col15\" >Long_MA</th>\n    </tr>\n  </thead>\n  <tbody>\n    <tr>\n      <th class=\"row_heading level0 row0\" >0</th>\n      <td class=\"data row0 col0\" >2016-01-04 00:00:00</td>\n      <td class=\"data row0 col1\" >2016</td>\n      <td class=\"data row0 col2\" >1</td>\n      <td class=\"data row0 col3\" >4</td>\n      <td class=\"data row0 col4\" >Monday</td>\n      <td class=\"data row0 col5\" >1</td>\n      <td class=\"data row0 col6\" >2016-01</td>\n      <td class=\"data row0 col7\" >24.45000</td>\n      <td class=\"data row0 col8\" >24.80000</td>\n      <td class=\"data row0 col9\" >24.31000</td>\n      <td class=\"data row0 col10\" >24.73000</td>\n      <td class=\"data row0 col11\" >2482200</td>\n      <td class=\"data row0 col12\" >24.73000</td>\n      <td class=\"data row0 col13\" >0.00000</td>\n      <td class=\"data row0 col14\" >24.73000</td>\n      <td class=\"data row0 col15\" >24.73000</td>\n    </tr>\n    <tr>\n      <th class=\"row_heading level0 row1\" >1</th>\n      <td class=\"data row1 col0\" >2016-01-05 00:00:00</td>\n      <td class=\"data row1 col1\" >2016</td>\n      <td class=\"data row1 col2\" >1</td>\n      <td class=\"data row1 col3\" >5</td>\n      <td class=\"data row1 col4\" >Tuesday</td>\n      <td class=\"data row1 col5\" >1</td>\n      <td class=\"data row1 col6\" >2016-01</td>\n      <td class=\"data row1 col7\" >24.91000</td>\n      <td class=\"data row1 col8\" >25.72000</td>\n      <td class=\"data row1 col9\" >24.91000</td>\n      <td class=\"data row1 col10\" >25.47000</td>\n      <td class=\"data row1 col11\" >3482600</td>\n      <td class=\"data row1 col12\" >25.47000</td>\n      <td class=\"data row1 col13\" >0.02992</td>\n      <td class=\"data row1 col14\" >25.10000</td>\n      <td class=\"data row1 col15\" >25.10000</td>\n    </tr>\n    <tr>\n      <th class=\"row_heading level0 row2\" >2</th>\n      <td class=\"data row2 col0\" >2016-01-06 00:00:00</td>\n      <td class=\"data row2 col1\" >2016</td>\n      <td class=\"data row2 col2\" >1</td>\n      <td class=\"data row2 col3\" >6</td>\n      <td class=\"data row2 col4\" >Wednesday</td>\n      <td class=\"data row2 col5\" >1</td>\n      <td class=\"data row2 col6\" >2016-01</td>\n      <td class=\"data row2 col7\" >25.47000</td>\n      <td class=\"data row2 col8\" >25.47000</td>\n      <td class=\"data row2 col9\" >23.27000</td>\n      <td class=\"data row2 col10\" >23.63000</td>\n      <td class=\"data row2 col11\" >5280900</td>\n      <td class=\"data row2 col12\" >23.63000</td>\n      <td class=\"data row2 col13\" >-0.07224</td>\n      <td class=\"data row2 col14\" >24.61000</td>\n      <td class=\"data row2 col15\" >24.61000</td>\n    </tr>\n    <tr>\n      <th class=\"row_heading level0 row3\" >3</th>\n      <td class=\"data row3 col0\" >2016-01-07 00:00:00</td>\n      <td class=\"data row3 col1\" >2016</td>\n      <td class=\"data row3 col2\" >1</td>\n      <td class=\"data row3 col3\" >7</td>\n      <td class=\"data row3 col4\" >Thursday</td>\n      <td class=\"data row3 col5\" >1</td>\n      <td class=\"data row3 col6\" >2016-01</td>\n      <td class=\"data row3 col7\" >23.52000</td>\n      <td class=\"data row3 col8\" >23.65000</td>\n      <td class=\"data row3 col9\" >23.17000</td>\n      <td class=\"data row3 col10\" >23.27000</td>\n      <td class=\"data row3 col11\" >2109400</td>\n      <td class=\"data row3 col12\" >23.27000</td>\n      <td class=\"data row3 col13\" >-0.01523</td>\n      <td class=\"data row3 col14\" >24.27500</td>\n      <td class=\"data row3 col15\" >24.27500</td>\n    </tr>\n    <tr>\n      <th class=\"row_heading level0 row4\" >4</th>\n      <td class=\"data row4 col0\" >2016-01-08 00:00:00</td>\n      <td class=\"data row4 col1\" >2016</td>\n      <td class=\"data row4 col2\" >1</td>\n      <td class=\"data row4 col3\" >8</td>\n      <td class=\"data row4 col4\" >Friday</td>\n      <td class=\"data row4 col5\" >1</td>\n      <td class=\"data row4 col6\" >2016-01</td>\n      <td class=\"data row4 col7\" >23.82000</td>\n      <td class=\"data row4 col8\" >23.91000</td>\n      <td class=\"data row4 col9\" >23.00000</td>\n      <td class=\"data row4 col10\" >23.00000</td>\n      <td class=\"data row4 col11\" >1869600</td>\n      <td class=\"data row4 col12\" >23.00000</td>\n      <td class=\"data row4 col13\" >-0.01160</td>\n      <td class=\"data row4 col14\" >24.02000</td>\n      <td class=\"data row4 col15\" >24.02000</td>\n    </tr>\n    <tr>\n      <th class=\"row_heading level0 row_trim\" >...</th>\n      <td class=\"data col0 row_trim\" >...</td>\n      <td class=\"data col1 row_trim\" >...</td>\n      <td class=\"data col2 row_trim\" >...</td>\n      <td class=\"data col3 row_trim\" >...</td>\n      <td class=\"data col4 row_trim\" >...</td>\n      <td class=\"data row_trim col_trim\" >...</td>\n    </tr>\n  </tbody>\n</table>\n"
     },
     "metadata": {},
     "output_type": "display_data"
    },
    {
     "data": {
      "text/plain": "<IPython.core.display.HTML object>",
      "text/html": "<style type=\"text/css\">\n#T_ td {\n  text-align: center;\n}\n#T_  th {\n  text-align: center;\n}\n</style>\n<table id=\"T_\">\n  <caption>S&P-500 Stock Dataset</caption>\n  <thead>\n    <tr>\n      <th class=\"blank level0\" >&nbsp;</th>\n      <th class=\"col_heading level0 col0\" >Date</th>\n      <th class=\"col_heading level0 col1\" >Year</th>\n      <th class=\"col_heading level0 col2\" >Month</th>\n      <th class=\"col_heading level0 col3\" >Day</th>\n      <th class=\"col_heading level0 col4\" >Weekday</th>\n      <th class=\"col_heading level0 col5\" >Week_Number</th>\n      <th class=\"col_heading level0 col6\" >Year_Week</th>\n      <th class=\"col_heading level0 col7\" >Open</th>\n      <th class=\"col_heading level0 col8\" >High</th>\n      <th class=\"col_heading level0 col9\" >Low</th>\n      <th class=\"col_heading level0 col10\" >Close</th>\n      <th class=\"col_heading level0 col11\" >Volume</th>\n      <th class=\"col_heading level0 col12\" >Adj Close</th>\n      <th class=\"col_heading level0 col13\" >Return</th>\n      <th class=\"col_heading level0 col14\" >Short_MA</th>\n      <th class=\"col_heading level0 col15\" >Long_MA</th>\n    </tr>\n  </thead>\n  <tbody>\n    <tr>\n      <th class=\"row_heading level0 row0\" >0</th>\n      <td class=\"data row0 col0\" >2016-01-04 00:00:00</td>\n      <td class=\"data row0 col1\" >2016</td>\n      <td class=\"data row0 col2\" >1</td>\n      <td class=\"data row0 col3\" >4</td>\n      <td class=\"data row0 col4\" >Monday</td>\n      <td class=\"data row0 col5\" >1</td>\n      <td class=\"data row0 col6\" >2016-01</td>\n      <td class=\"data row0 col7\" >200.49000</td>\n      <td class=\"data row0 col8\" >201.03000</td>\n      <td class=\"data row0 col9\" >198.59000</td>\n      <td class=\"data row0 col10\" >201.02000</td>\n      <td class=\"data row0 col11\" >222353500</td>\n      <td class=\"data row0 col12\" >177.24000</td>\n      <td class=\"data row0 col13\" >0.00000</td>\n      <td class=\"data row0 col14\" >177.24000</td>\n      <td class=\"data row0 col15\" >177.24000</td>\n    </tr>\n    <tr>\n      <th class=\"row_heading level0 row1\" >1</th>\n      <td class=\"data row1 col0\" >2016-01-05 00:00:00</td>\n      <td class=\"data row1 col1\" >2016</td>\n      <td class=\"data row1 col2\" >1</td>\n      <td class=\"data row1 col3\" >5</td>\n      <td class=\"data row1 col4\" >Tuesday</td>\n      <td class=\"data row1 col5\" >1</td>\n      <td class=\"data row1 col6\" >2016-01</td>\n      <td class=\"data row1 col7\" >201.40000</td>\n      <td class=\"data row1 col8\" >201.90000</td>\n      <td class=\"data row1 col9\" >200.05000</td>\n      <td class=\"data row1 col10\" >201.36000</td>\n      <td class=\"data row1 col11\" >110845800</td>\n      <td class=\"data row1 col12\" >177.54000</td>\n      <td class=\"data row1 col13\" >0.00169</td>\n      <td class=\"data row1 col14\" >177.39000</td>\n      <td class=\"data row1 col15\" >177.39000</td>\n    </tr>\n    <tr>\n      <th class=\"row_heading level0 row2\" >2</th>\n      <td class=\"data row2 col0\" >2016-01-06 00:00:00</td>\n      <td class=\"data row2 col1\" >2016</td>\n      <td class=\"data row2 col2\" >1</td>\n      <td class=\"data row2 col3\" >6</td>\n      <td class=\"data row2 col4\" >Wednesday</td>\n      <td class=\"data row2 col5\" >1</td>\n      <td class=\"data row2 col6\" >2016-01</td>\n      <td class=\"data row2 col7\" >198.34000</td>\n      <td class=\"data row2 col8\" >200.06000</td>\n      <td class=\"data row2 col9\" >197.60000</td>\n      <td class=\"data row2 col10\" >198.82000</td>\n      <td class=\"data row2 col11\" >152112600</td>\n      <td class=\"data row2 col12\" >175.30000</td>\n      <td class=\"data row2 col13\" >-0.01261</td>\n      <td class=\"data row2 col14\" >176.69333</td>\n      <td class=\"data row2 col15\" >176.69333</td>\n    </tr>\n    <tr>\n      <th class=\"row_heading level0 row3\" >3</th>\n      <td class=\"data row3 col0\" >2016-01-07 00:00:00</td>\n      <td class=\"data row3 col1\" >2016</td>\n      <td class=\"data row3 col2\" >1</td>\n      <td class=\"data row3 col3\" >7</td>\n      <td class=\"data row3 col4\" >Thursday</td>\n      <td class=\"data row3 col5\" >1</td>\n      <td class=\"data row3 col6\" >2016-01</td>\n      <td class=\"data row3 col7\" >195.33000</td>\n      <td class=\"data row3 col8\" >197.44000</td>\n      <td class=\"data row3 col9\" >193.59000</td>\n      <td class=\"data row3 col10\" >194.05000</td>\n      <td class=\"data row3 col11\" >213436100</td>\n      <td class=\"data row3 col12\" >171.09000</td>\n      <td class=\"data row3 col13\" >-0.02399</td>\n      <td class=\"data row3 col14\" >175.29250</td>\n      <td class=\"data row3 col15\" >175.29250</td>\n    </tr>\n    <tr>\n      <th class=\"row_heading level0 row4\" >4</th>\n      <td class=\"data row4 col0\" >2016-01-08 00:00:00</td>\n      <td class=\"data row4 col1\" >2016</td>\n      <td class=\"data row4 col2\" >1</td>\n      <td class=\"data row4 col3\" >8</td>\n      <td class=\"data row4 col4\" >Friday</td>\n      <td class=\"data row4 col5\" >1</td>\n      <td class=\"data row4 col6\" >2016-01</td>\n      <td class=\"data row4 col7\" >195.19000</td>\n      <td class=\"data row4 col8\" >195.85000</td>\n      <td class=\"data row4 col9\" >191.58000</td>\n      <td class=\"data row4 col10\" >191.92000</td>\n      <td class=\"data row4 col11\" >209817200</td>\n      <td class=\"data row4 col12\" >169.21000</td>\n      <td class=\"data row4 col13\" >-0.01098</td>\n      <td class=\"data row4 col14\" >174.07600</td>\n      <td class=\"data row4 col15\" >174.07600</td>\n    </tr>\n    <tr>\n      <th class=\"row_heading level0 row_trim\" >...</th>\n      <td class=\"data col0 row_trim\" >...</td>\n      <td class=\"data col1 row_trim\" >...</td>\n      <td class=\"data col2 row_trim\" >...</td>\n      <td class=\"data col3 row_trim\" >...</td>\n      <td class=\"data col4 row_trim\" >...</td>\n      <td class=\"data row_trim col_trim\" >...</td>\n    </tr>\n  </tbody>\n</table>\n"
     },
     "metadata": {},
     "output_type": "display_data"
    }
   ],
   "source": [
    "# Display tables with the original csv datasets.\n",
    "show_tables([sony_table, spy_table])"
   ]
  },
  {
   "cell_type": "code",
   "execution_count": 10,
   "metadata": {},
   "outputs": [],
   "source": [
    "table_1: Styler = style_df(\n",
    "    data=DataFrame(\n",
    "        {\n",
    "            \"Date\": [\"1/2/2015\", \"1/3/2015\", \"1/6/2015\", \". . .\", \". . .\", \"12/30/2019\", \"12/31/2019\"],\n",
    "            \". . .\": [\". . .\", \". . .\", \". . .\", \". . .\", \". . .\", \". . .\", \". . .\"],\n",
    "            \"Return\": [\"0.015\", \"-0.01\", \"0.0.2\", \". . .\", \". . .\", \"0\", \"-0.03\"]\n",
    "        }\n",
    "    ),\n",
    "    caption=\"Table 1: Initial data\"\n",
    ")"
   ]
  },
  {
   "cell_type": "code",
   "execution_count": 11,
   "metadata": {},
   "outputs": [
    {
     "data": {
      "text/plain": "<IPython.core.display.Latex object>",
      "text/latex": " 1. For each file, read them into a pandas frame and add a column \"True Label\". In that column, for each day (row) $i$ with daily return $\\rge$ you assign a $\\positive$ label (\"up day\"). For each day $i$ with daily return $\\rl$ you assign $\\negative$ (\"down days\"). You do this for every day for all 5 years for both tickers.\nFor example, if your initial dataframe were:"
     },
     "metadata": {},
     "output_type": "display_data"
    },
    {
     "data": {
      "text/plain": "<IPython.core.display.HTML object>",
      "text/html": "<style type=\"text/css\">\n#T_ td {\n  text-align: center;\n}\n#T_  th {\n  text-align: center;\n}\n</style>\n<table id=\"T_\">\n  <caption>Table 1: Initial data</caption>\n  <thead>\n    <tr>\n      <th class=\"blank level0\" >&nbsp;</th>\n      <th class=\"col_heading level0 col0\" >Date</th>\n      <th class=\"col_heading level0 col1\" >. . .</th>\n      <th class=\"col_heading level0 col2\" >Return</th>\n    </tr>\n  </thead>\n  <tbody>\n    <tr>\n      <th class=\"row_heading level0 row0\" >0</th>\n      <td class=\"data row0 col0\" >1/2/2015</td>\n      <td class=\"data row0 col1\" >. . .</td>\n      <td class=\"data row0 col2\" >0.015</td>\n    </tr>\n    <tr>\n      <th class=\"row_heading level0 row1\" >1</th>\n      <td class=\"data row1 col0\" >1/3/2015</td>\n      <td class=\"data row1 col1\" >. . .</td>\n      <td class=\"data row1 col2\" >-0.01</td>\n    </tr>\n    <tr>\n      <th class=\"row_heading level0 row2\" >2</th>\n      <td class=\"data row2 col0\" >1/6/2015</td>\n      <td class=\"data row2 col1\" >. . .</td>\n      <td class=\"data row2 col2\" >0.0.2</td>\n    </tr>\n    <tr>\n      <th class=\"row_heading level0 row3\" >3</th>\n      <td class=\"data row3 col0\" >. . .</td>\n      <td class=\"data row3 col1\" >. . .</td>\n      <td class=\"data row3 col2\" >. . .</td>\n    </tr>\n    <tr>\n      <th class=\"row_heading level0 row4\" >4</th>\n      <td class=\"data row4 col0\" >. . .</td>\n      <td class=\"data row4 col1\" >. . .</td>\n      <td class=\"data row4 col2\" >. . .</td>\n    </tr>\n    <tr>\n      <th class=\"row_heading level0 row5\" >5</th>\n      <td class=\"data row5 col0\" >12/30/2019</td>\n      <td class=\"data row5 col1\" >. . .</td>\n      <td class=\"data row5 col2\" >0</td>\n    </tr>\n    <tr>\n      <th class=\"row_heading level0 row6\" >6</th>\n      <td class=\"data row6 col0\" >12/31/2019</td>\n      <td class=\"data row6 col1\" >. . .</td>\n      <td class=\"data row6 col2\" >-0.03</td>\n    </tr>\n  </tbody>\n</table>\n"
     },
     "metadata": {},
     "output_type": "display_data"
    },
    {
     "data": {
      "text/plain": "<IPython.core.display.Latex object>",
      "text/latex": "you will add an additional column \"True Label\" and have data as shown in Table 2.\nYour daily \"true labels\" sequence is $+,-,+,...,+,-$."
     },
     "execution_count": 11,
     "metadata": {},
     "output_type": "execute_result"
    }
   ],
   "source": [
    "display(\n",
    "    Latex(\n",
    "        r' 1. For each file, read them into a pandas frame and add a column \"True Label\". In that column, for each day (row) $i$ with daily return $\\rge$ you assign a $\\positive$ label (\"up day\"). For each day $i$ with daily return $\\rl$ you assign $\\negative$ (\"down days\"). You do this for every day for all 5 years for both tickers.'\n",
    "        \"\\n\"\n",
    "        r'For example, if your initial dataframe were:'\n",
    "    )\n",
    ")\n",
    "show_table(table_1, max_rows=10)\n",
    "Latex(\n",
    "    r'you will add an additional column \"True Label\" and have data as shown in Table 2.'\n",
    "    \"\\n\"\n",
    "    r'Your daily \"true labels\" sequence is $+,-,+,...,+,-$.'\n",
    ")"
   ]
  },
  {
   "cell_type": "code",
   "execution_count": 12,
   "metadata": {},
   "outputs": [
    {
     "data": {
      "text/plain": "<IPython.core.display.HTML object>",
      "text/html": "<style type=\"text/css\">\n</style>\n<table id=\"T_93235\">\n  <caption>Table 2: Adding True Labels</caption>\n  <thead>\n    <tr>\n      <th class=\"blank level0\" >&nbsp;</th>\n      <th id=\"T_93235_level0_col0\" class=\"col_heading level0 col0\" >Date</th>\n      <th id=\"T_93235_level0_col1\" class=\"col_heading level0 col1\" >. . .</th>\n      <th id=\"T_93235_level0_col2\" class=\"col_heading level0 col2\" >Return</th>\n      <th id=\"T_93235_level0_col3\" class=\"col_heading level0 col3\" >True Label</th>\n    </tr>\n  </thead>\n  <tbody>\n    <tr>\n      <th id=\"T_93235_level0_row0\" class=\"row_heading level0 row0\" >0</th>\n      <td id=\"T_93235_row0_col0\" class=\"data row0 col0\" >1/2/2015</td>\n      <td id=\"T_93235_row0_col1\" class=\"data row0 col1\" >. . .</td>\n      <td id=\"T_93235_row0_col2\" class=\"data row0 col2\" >0.015</td>\n      <td id=\"T_93235_row0_col3\" class=\"data row0 col3\" >+</td>\n    </tr>\n    <tr>\n      <th id=\"T_93235_level0_row1\" class=\"row_heading level0 row1\" >1</th>\n      <td id=\"T_93235_row1_col0\" class=\"data row1 col0\" >1/3/2015</td>\n      <td id=\"T_93235_row1_col1\" class=\"data row1 col1\" >. . .</td>\n      <td id=\"T_93235_row1_col2\" class=\"data row1 col2\" >-0.01</td>\n      <td id=\"T_93235_row1_col3\" class=\"data row1 col3\" >-</td>\n    </tr>\n    <tr>\n      <th id=\"T_93235_level0_row2\" class=\"row_heading level0 row2\" >2</th>\n      <td id=\"T_93235_row2_col0\" class=\"data row2 col0\" >1/6/2015</td>\n      <td id=\"T_93235_row2_col1\" class=\"data row2 col1\" >. . .</td>\n      <td id=\"T_93235_row2_col2\" class=\"data row2 col2\" >0.0.2</td>\n      <td id=\"T_93235_row2_col3\" class=\"data row2 col3\" >+</td>\n    </tr>\n    <tr>\n      <th id=\"T_93235_level0_row3\" class=\"row_heading level0 row3\" >3</th>\n      <td id=\"T_93235_row3_col0\" class=\"data row3 col0\" >. . .</td>\n      <td id=\"T_93235_row3_col1\" class=\"data row3 col1\" >. . .</td>\n      <td id=\"T_93235_row3_col2\" class=\"data row3 col2\" >. . .</td>\n      <td id=\"T_93235_row3_col3\" class=\"data row3 col3\" >. . .</td>\n    </tr>\n    <tr>\n      <th id=\"T_93235_level0_row4\" class=\"row_heading level0 row4\" >4</th>\n      <td id=\"T_93235_row4_col0\" class=\"data row4 col0\" >. . .</td>\n      <td id=\"T_93235_row4_col1\" class=\"data row4 col1\" >. . .</td>\n      <td id=\"T_93235_row4_col2\" class=\"data row4 col2\" >. . .</td>\n      <td id=\"T_93235_row4_col3\" class=\"data row4 col3\" >. . .</td>\n    </tr>\n    <tr>\n      <th id=\"T_93235_level0_row5\" class=\"row_heading level0 row5\" >5</th>\n      <td id=\"T_93235_row5_col0\" class=\"data row5 col0\" >12/30/2019</td>\n      <td id=\"T_93235_row5_col1\" class=\"data row5 col1\" >. . .</td>\n      <td id=\"T_93235_row5_col2\" class=\"data row5 col2\" >0</td>\n      <td id=\"T_93235_row5_col3\" class=\"data row5 col3\" >+</td>\n    </tr>\n    <tr>\n      <th id=\"T_93235_level0_row6\" class=\"row_heading level0 row6\" >6</th>\n      <td id=\"T_93235_row6_col0\" class=\"data row6 col0\" >12/31/2019</td>\n      <td id=\"T_93235_row6_col1\" class=\"data row6 col1\" >. . .</td>\n      <td id=\"T_93235_row6_col2\" class=\"data row6 col2\" >-0.03</td>\n      <td id=\"T_93235_row6_col3\" class=\"data row6 col3\" >-</td>\n    </tr>\n  </tbody>\n</table>\n"
     },
     "metadata": {},
     "output_type": "display_data"
    }
   ],
   "source": [
    "table_2: DataFrame = table_1.data.copy()\n",
    "table_2[TRUE_LABEL_KEY] = [\"+\", \"-\", \"+\", \". . .\", \". . .\", \"+\", \"-\"]\n",
    "table_2: Styler = Styler(data=table_2, caption=\"Table 2: Adding True Labels\")\n",
    "show_table(table_2, max_rows=10)"
   ]
  },
  {
   "cell_type": "code",
   "execution_count": 13,
   "metadata": {},
   "outputs": [
    {
     "data": {
      "text/plain": "<IPython.core.display.HTML object>",
      "text/html": "<style type=\"text/css\">\n#T_ td {\n  text-align: center;\n}\n#T_  th {\n  text-align: center;\n}\n#T__row0_col16, #T__row1_col16 {\n  color: #54b254;\n}\n#T__row2_col16, #T__row3_col16, #T__row4_col16 {\n  color: #e43d30;\n}\n</style>\n<table id=\"T_\">\n  <caption>SONY Stock Dataset</caption>\n  <thead>\n    <tr>\n      <th class=\"blank level0\" >&nbsp;</th>\n      <th class=\"col_heading level0 col0\" >Date</th>\n      <th class=\"col_heading level0 col1\" >Year</th>\n      <th class=\"col_heading level0 col2\" >Month</th>\n      <th class=\"col_heading level0 col3\" >Day</th>\n      <th class=\"col_heading level0 col4\" >Weekday</th>\n      <th class=\"col_heading level0 col5\" >Week_Number</th>\n      <th class=\"col_heading level0 col6\" >Year_Week</th>\n      <th class=\"col_heading level0 col7\" >Open</th>\n      <th class=\"col_heading level0 col8\" >High</th>\n      <th class=\"col_heading level0 col9\" >Low</th>\n      <th class=\"col_heading level0 col10\" >Close</th>\n      <th class=\"col_heading level0 col11\" >Volume</th>\n      <th class=\"col_heading level0 col12\" >Adj Close</th>\n      <th class=\"col_heading level0 col13\" >Return</th>\n      <th class=\"col_heading level0 col14\" >Short_MA</th>\n      <th class=\"col_heading level0 col15\" >Long_MA</th>\n      <th class=\"col_heading level0 col16\" >True Label</th>\n    </tr>\n  </thead>\n  <tbody>\n    <tr>\n      <th class=\"row_heading level0 row0\" >0</th>\n      <td class=\"data row0 col0\" >2016-01-04 00:00:00</td>\n      <td class=\"data row0 col1\" >2016</td>\n      <td class=\"data row0 col2\" >1</td>\n      <td class=\"data row0 col3\" >4</td>\n      <td class=\"data row0 col4\" >Monday</td>\n      <td class=\"data row0 col5\" >1</td>\n      <td class=\"data row0 col6\" >2016-01</td>\n      <td class=\"data row0 col7\" >24.45000</td>\n      <td class=\"data row0 col8\" >24.80000</td>\n      <td class=\"data row0 col9\" >24.31000</td>\n      <td class=\"data row0 col10\" >24.73000</td>\n      <td class=\"data row0 col11\" >2482200</td>\n      <td class=\"data row0 col12\" >24.73000</td>\n      <td class=\"data row0 col13\" >0.00000</td>\n      <td class=\"data row0 col14\" >24.73000</td>\n      <td class=\"data row0 col15\" >24.73000</td>\n      <td id=\"T__row0_col16\" class=\"data row0 col16\" >+</td>\n    </tr>\n    <tr>\n      <th class=\"row_heading level0 row1\" >1</th>\n      <td class=\"data row1 col0\" >2016-01-05 00:00:00</td>\n      <td class=\"data row1 col1\" >2016</td>\n      <td class=\"data row1 col2\" >1</td>\n      <td class=\"data row1 col3\" >5</td>\n      <td class=\"data row1 col4\" >Tuesday</td>\n      <td class=\"data row1 col5\" >1</td>\n      <td class=\"data row1 col6\" >2016-01</td>\n      <td class=\"data row1 col7\" >24.91000</td>\n      <td class=\"data row1 col8\" >25.72000</td>\n      <td class=\"data row1 col9\" >24.91000</td>\n      <td class=\"data row1 col10\" >25.47000</td>\n      <td class=\"data row1 col11\" >3482600</td>\n      <td class=\"data row1 col12\" >25.47000</td>\n      <td class=\"data row1 col13\" >0.02992</td>\n      <td class=\"data row1 col14\" >25.10000</td>\n      <td class=\"data row1 col15\" >25.10000</td>\n      <td id=\"T__row1_col16\" class=\"data row1 col16\" >+</td>\n    </tr>\n    <tr>\n      <th class=\"row_heading level0 row2\" >2</th>\n      <td class=\"data row2 col0\" >2016-01-06 00:00:00</td>\n      <td class=\"data row2 col1\" >2016</td>\n      <td class=\"data row2 col2\" >1</td>\n      <td class=\"data row2 col3\" >6</td>\n      <td class=\"data row2 col4\" >Wednesday</td>\n      <td class=\"data row2 col5\" >1</td>\n      <td class=\"data row2 col6\" >2016-01</td>\n      <td class=\"data row2 col7\" >25.47000</td>\n      <td class=\"data row2 col8\" >25.47000</td>\n      <td class=\"data row2 col9\" >23.27000</td>\n      <td class=\"data row2 col10\" >23.63000</td>\n      <td class=\"data row2 col11\" >5280900</td>\n      <td class=\"data row2 col12\" >23.63000</td>\n      <td class=\"data row2 col13\" >-0.07224</td>\n      <td class=\"data row2 col14\" >24.61000</td>\n      <td class=\"data row2 col15\" >24.61000</td>\n      <td id=\"T__row2_col16\" class=\"data row2 col16\" >-</td>\n    </tr>\n    <tr>\n      <th class=\"row_heading level0 row3\" >3</th>\n      <td class=\"data row3 col0\" >2016-01-07 00:00:00</td>\n      <td class=\"data row3 col1\" >2016</td>\n      <td class=\"data row3 col2\" >1</td>\n      <td class=\"data row3 col3\" >7</td>\n      <td class=\"data row3 col4\" >Thursday</td>\n      <td class=\"data row3 col5\" >1</td>\n      <td class=\"data row3 col6\" >2016-01</td>\n      <td class=\"data row3 col7\" >23.52000</td>\n      <td class=\"data row3 col8\" >23.65000</td>\n      <td class=\"data row3 col9\" >23.17000</td>\n      <td class=\"data row3 col10\" >23.27000</td>\n      <td class=\"data row3 col11\" >2109400</td>\n      <td class=\"data row3 col12\" >23.27000</td>\n      <td class=\"data row3 col13\" >-0.01523</td>\n      <td class=\"data row3 col14\" >24.27500</td>\n      <td class=\"data row3 col15\" >24.27500</td>\n      <td id=\"T__row3_col16\" class=\"data row3 col16\" >-</td>\n    </tr>\n    <tr>\n      <th class=\"row_heading level0 row4\" >4</th>\n      <td class=\"data row4 col0\" >2016-01-08 00:00:00</td>\n      <td class=\"data row4 col1\" >2016</td>\n      <td class=\"data row4 col2\" >1</td>\n      <td class=\"data row4 col3\" >8</td>\n      <td class=\"data row4 col4\" >Friday</td>\n      <td class=\"data row4 col5\" >1</td>\n      <td class=\"data row4 col6\" >2016-01</td>\n      <td class=\"data row4 col7\" >23.82000</td>\n      <td class=\"data row4 col8\" >23.91000</td>\n      <td class=\"data row4 col9\" >23.00000</td>\n      <td class=\"data row4 col10\" >23.00000</td>\n      <td class=\"data row4 col11\" >1869600</td>\n      <td class=\"data row4 col12\" >23.00000</td>\n      <td class=\"data row4 col13\" >-0.01160</td>\n      <td class=\"data row4 col14\" >24.02000</td>\n      <td class=\"data row4 col15\" >24.02000</td>\n      <td id=\"T__row4_col16\" class=\"data row4 col16\" >-</td>\n    </tr>\n    <tr>\n      <th class=\"row_heading level0 row_trim\" >...</th>\n      <td class=\"data col0 row_trim\" >...</td>\n      <td class=\"data col1 row_trim\" >...</td>\n      <td class=\"data col2 row_trim\" >...</td>\n      <td class=\"data col3 row_trim\" >...</td>\n      <td class=\"data col4 row_trim\" >...</td>\n      <td class=\"data row_trim col_trim\" >...</td>\n    </tr>\n  </tbody>\n</table>\n"
     },
     "metadata": {},
     "output_type": "display_data"
    },
    {
     "data": {
      "text/plain": "<IPython.core.display.HTML object>",
      "text/html": "<style type=\"text/css\">\n#T_ td {\n  text-align: center;\n}\n#T_  th {\n  text-align: center;\n}\n#T__row0_col16, #T__row1_col16 {\n  color: #54b254;\n}\n#T__row2_col16, #T__row3_col16, #T__row4_col16 {\n  color: #e43d30;\n}\n</style>\n<table id=\"T_\">\n  <caption>S&P-500 Stock Dataset</caption>\n  <thead>\n    <tr>\n      <th class=\"blank level0\" >&nbsp;</th>\n      <th class=\"col_heading level0 col0\" >Date</th>\n      <th class=\"col_heading level0 col1\" >Year</th>\n      <th class=\"col_heading level0 col2\" >Month</th>\n      <th class=\"col_heading level0 col3\" >Day</th>\n      <th class=\"col_heading level0 col4\" >Weekday</th>\n      <th class=\"col_heading level0 col5\" >Week_Number</th>\n      <th class=\"col_heading level0 col6\" >Year_Week</th>\n      <th class=\"col_heading level0 col7\" >Open</th>\n      <th class=\"col_heading level0 col8\" >High</th>\n      <th class=\"col_heading level0 col9\" >Low</th>\n      <th class=\"col_heading level0 col10\" >Close</th>\n      <th class=\"col_heading level0 col11\" >Volume</th>\n      <th class=\"col_heading level0 col12\" >Adj Close</th>\n      <th class=\"col_heading level0 col13\" >Return</th>\n      <th class=\"col_heading level0 col14\" >Short_MA</th>\n      <th class=\"col_heading level0 col15\" >Long_MA</th>\n      <th class=\"col_heading level0 col16\" >True Label</th>\n    </tr>\n  </thead>\n  <tbody>\n    <tr>\n      <th class=\"row_heading level0 row0\" >0</th>\n      <td class=\"data row0 col0\" >2016-01-04 00:00:00</td>\n      <td class=\"data row0 col1\" >2016</td>\n      <td class=\"data row0 col2\" >1</td>\n      <td class=\"data row0 col3\" >4</td>\n      <td class=\"data row0 col4\" >Monday</td>\n      <td class=\"data row0 col5\" >1</td>\n      <td class=\"data row0 col6\" >2016-01</td>\n      <td class=\"data row0 col7\" >200.49000</td>\n      <td class=\"data row0 col8\" >201.03000</td>\n      <td class=\"data row0 col9\" >198.59000</td>\n      <td class=\"data row0 col10\" >201.02000</td>\n      <td class=\"data row0 col11\" >222353500</td>\n      <td class=\"data row0 col12\" >177.24000</td>\n      <td class=\"data row0 col13\" >0.00000</td>\n      <td class=\"data row0 col14\" >177.24000</td>\n      <td class=\"data row0 col15\" >177.24000</td>\n      <td id=\"T__row0_col16\" class=\"data row0 col16\" >+</td>\n    </tr>\n    <tr>\n      <th class=\"row_heading level0 row1\" >1</th>\n      <td class=\"data row1 col0\" >2016-01-05 00:00:00</td>\n      <td class=\"data row1 col1\" >2016</td>\n      <td class=\"data row1 col2\" >1</td>\n      <td class=\"data row1 col3\" >5</td>\n      <td class=\"data row1 col4\" >Tuesday</td>\n      <td class=\"data row1 col5\" >1</td>\n      <td class=\"data row1 col6\" >2016-01</td>\n      <td class=\"data row1 col7\" >201.40000</td>\n      <td class=\"data row1 col8\" >201.90000</td>\n      <td class=\"data row1 col9\" >200.05000</td>\n      <td class=\"data row1 col10\" >201.36000</td>\n      <td class=\"data row1 col11\" >110845800</td>\n      <td class=\"data row1 col12\" >177.54000</td>\n      <td class=\"data row1 col13\" >0.00169</td>\n      <td class=\"data row1 col14\" >177.39000</td>\n      <td class=\"data row1 col15\" >177.39000</td>\n      <td id=\"T__row1_col16\" class=\"data row1 col16\" >+</td>\n    </tr>\n    <tr>\n      <th class=\"row_heading level0 row2\" >2</th>\n      <td class=\"data row2 col0\" >2016-01-06 00:00:00</td>\n      <td class=\"data row2 col1\" >2016</td>\n      <td class=\"data row2 col2\" >1</td>\n      <td class=\"data row2 col3\" >6</td>\n      <td class=\"data row2 col4\" >Wednesday</td>\n      <td class=\"data row2 col5\" >1</td>\n      <td class=\"data row2 col6\" >2016-01</td>\n      <td class=\"data row2 col7\" >198.34000</td>\n      <td class=\"data row2 col8\" >200.06000</td>\n      <td class=\"data row2 col9\" >197.60000</td>\n      <td class=\"data row2 col10\" >198.82000</td>\n      <td class=\"data row2 col11\" >152112600</td>\n      <td class=\"data row2 col12\" >175.30000</td>\n      <td class=\"data row2 col13\" >-0.01261</td>\n      <td class=\"data row2 col14\" >176.69333</td>\n      <td class=\"data row2 col15\" >176.69333</td>\n      <td id=\"T__row2_col16\" class=\"data row2 col16\" >-</td>\n    </tr>\n    <tr>\n      <th class=\"row_heading level0 row3\" >3</th>\n      <td class=\"data row3 col0\" >2016-01-07 00:00:00</td>\n      <td class=\"data row3 col1\" >2016</td>\n      <td class=\"data row3 col2\" >1</td>\n      <td class=\"data row3 col3\" >7</td>\n      <td class=\"data row3 col4\" >Thursday</td>\n      <td class=\"data row3 col5\" >1</td>\n      <td class=\"data row3 col6\" >2016-01</td>\n      <td class=\"data row3 col7\" >195.33000</td>\n      <td class=\"data row3 col8\" >197.44000</td>\n      <td class=\"data row3 col9\" >193.59000</td>\n      <td class=\"data row3 col10\" >194.05000</td>\n      <td class=\"data row3 col11\" >213436100</td>\n      <td class=\"data row3 col12\" >171.09000</td>\n      <td class=\"data row3 col13\" >-0.02399</td>\n      <td class=\"data row3 col14\" >175.29250</td>\n      <td class=\"data row3 col15\" >175.29250</td>\n      <td id=\"T__row3_col16\" class=\"data row3 col16\" >-</td>\n    </tr>\n    <tr>\n      <th class=\"row_heading level0 row4\" >4</th>\n      <td class=\"data row4 col0\" >2016-01-08 00:00:00</td>\n      <td class=\"data row4 col1\" >2016</td>\n      <td class=\"data row4 col2\" >1</td>\n      <td class=\"data row4 col3\" >8</td>\n      <td class=\"data row4 col4\" >Friday</td>\n      <td class=\"data row4 col5\" >1</td>\n      <td class=\"data row4 col6\" >2016-01</td>\n      <td class=\"data row4 col7\" >195.19000</td>\n      <td class=\"data row4 col8\" >195.85000</td>\n      <td class=\"data row4 col9\" >191.58000</td>\n      <td class=\"data row4 col10\" >191.92000</td>\n      <td class=\"data row4 col11\" >209817200</td>\n      <td class=\"data row4 col12\" >169.21000</td>\n      <td class=\"data row4 col13\" >-0.01098</td>\n      <td class=\"data row4 col14\" >174.07600</td>\n      <td class=\"data row4 col15\" >174.07600</td>\n      <td id=\"T__row4_col16\" class=\"data row4 col16\" >-</td>\n    </tr>\n    <tr>\n      <th class=\"row_heading level0 row_trim\" >...</th>\n      <td class=\"data col0 row_trim\" >...</td>\n      <td class=\"data col1 row_trim\" >...</td>\n      <td class=\"data col2 row_trim\" >...</td>\n      <td class=\"data col3 row_trim\" >...</td>\n      <td class=\"data col4 row_trim\" >...</td>\n      <td class=\"data row_trim col_trim\" >...</td>\n    </tr>\n  </tbody>\n</table>\n"
     },
     "metadata": {},
     "output_type": "display_data"
    }
   ],
   "source": [
    "# Add 'True Label' column based upon the daily return.\n",
    "add_true_labels(sony_dataframe)\n",
    "add_true_labels(spy_dataframe)\n",
    "\n",
    "# Colorize the 'True Label' symbols.\n",
    "colorize(sony_table)\n",
    "colorize(spy_table)\n",
    "\n",
    "# Display the updated tables with the styled 'True Labels' column.\n",
    "show_tables([sony_table, spy_table])"
   ]
  },
  {
   "cell_type": "code",
   "execution_count": 14,
   "metadata": {
    "jupyter": {
     "outputs_hidden": false
    }
   },
   "outputs": [],
   "source": [
    "# Get a list of all the years in the dataset.\n",
    "sony_years, spy_years = cast(\n",
    "    tuple[list[int], list[int]], get_years(sony_dataframe, spy_dataframe)\n",
    ")\n",
    "\n",
    "# Separate data into training and testing data based upon the years.\n",
    "# Create training dataset from years 1, 2, and 3.\n",
    "sony_training_table, spy_training_table = cast(\n",
    "    tuple[DataFrame, DataFrame],\n",
    "    get_training_tables((sony_dataframe, sony_years), (spy_dataframe, spy_years)),\n",
    ")\n",
    "\n",
    "# Create testing dataset from years 4 and 5.\n",
    "sony_testing_table, spy_testing_table = cast(\n",
    "    tuple[DataFrame, DataFrame],\n",
    "    get_testing_tables((sony_dataframe, sony_years), (spy_dataframe, spy_years)),\n",
    ")\n",
    "\n",
    "# Get the 'up days' for the training datasets.\n",
    "sony_training_up_days, spy_training_up_days = cast(\n",
    "    tuple[DataFrame, DataFrame],\n",
    "    get_both_up_days(sony_training_table, spy_training_table),\n",
    ")\n",
    "\n",
    "# Get arrays of the training labels.\n",
    "sony_training_labels: np.ndarray = get_labels(sony_training_table)\n",
    "spy_training_labels: np.ndarray = get_labels(spy_training_table)"
   ]
  },
  {
   "cell_type": "code",
   "execution_count": 15,
   "metadata": {},
   "outputs": [
    {
     "data": {
      "text/plain": "<IPython.core.display.Latex object>",
      "text/latex": " 2. Take years 1, 2, and 3. Let $L$ be the number of trading days. Assuming 250 trading days per year, $L$ will contain about 750 days. Let $L^-$ be all trading days with $\\negative$ labels and let $L^+$ be all trading days with $\\positive$ labels. Assuming that all days are independent of each other and that the ration of \"up\" and \"down\" days remains the same in the future, compute the default probability $p^*$ that the next day is a \"up\" day."
     },
     "execution_count": 15,
     "metadata": {},
     "output_type": "execute_result"
    }
   ],
   "source": [
    "Latex(\n",
    "    r' 2. Take years 1, 2, and 3. Let $L$ be the number of trading days. Assuming 250 trading days per year, $L$ will contain about 750 days. Let $L^-$ be all trading days with $\\negative$ labels and let $L^+$ be all trading days with $\\positive$ labels. Assuming that all days are independent of each other and that the ration of \"up\" and \"down\" days remains the same in the future, compute the default probability $p^*$ that the next day is a \"up\" day.'\n",
    ")"
   ]
  },
  {
   "cell_type": "code",
   "execution_count": 16,
   "metadata": {},
   "outputs": [],
   "source": [
    "# Compute the default probability that the next day is an 'up' day.\n",
    "sony_default_probability: float = compute_probability(\n",
    "    len(sony_training_up_days), len(sony_training_table)\n",
    ")\n",
    "\n",
    "spy_default_probability: float = compute_probability(\n",
    "    len(spy_training_up_days), len(spy_training_table)\n",
    ")"
   ]
  },
  {
   "cell_type": "code",
   "execution_count": 17,
   "metadata": {},
   "outputs": [
    {
     "data": {
      "text/plain": "<IPython.core.display.Latex object>",
      "text/latex": " 3. Take years 1, 2, and 3. What is the probability that after seeing $k$ consecutive \"down days\", the next day is an \"up day\"? For example, if $k = 3$, what is the probability of seeing \"$-,-,-,+$\" as opposed to seeing \"$-,-,-,-$\". Compute this for $k = 1,2,3$."
     },
     "execution_count": 17,
     "metadata": {},
     "output_type": "execute_result"
    }
   ],
   "source": [
    "Latex(\n",
    "    r' 3. Take years 1, 2, and 3. What is the probability that after seeing $k$ consecutive \"down days\", the next day is an \"up day\"? For example, if $k = 3$, what is the probability of seeing \"$-,-,-,+$\" as opposed to seeing \"$-,-,-,-$\". Compute this for $k = 1,2,3$.'\n",
    ")"
   ]
  },
  {
   "cell_type": "code",
   "execution_count": 18,
   "metadata": {},
   "outputs": [
    {
     "name": "stdout",
     "output_type": "stream",
     "text": [
      "Question 1.3 with SONY dataset:\n",
      "Probability for k = 1: 0.5521126760563381\n",
      "Probability for k = 2: 0.5408805031446541\n",
      "Probability for k = 3: 0.547945205479452\n",
      "\n",
      "\n",
      "Question 1.3 with S&P-500 dataset:\n",
      "Probability for k = 1: 0.5952380952380952\n",
      "Probability for k = 2: 0.5955882352941176\n",
      "Probability for k = 3: 0.6363636363636364\n",
      "\n",
      "\n"
     ]
    }
   ],
   "source": [
    "# k values for questions 1.3 and question 1.4.\n",
    "k_list: list[int] = [1, 2, 3]\n",
    "\n",
    "print(\"Question 1.3 with SONY dataset:\")\n",
    "question_1_3(k_list, sony_training_labels)\n",
    "\n",
    "print(\"Question 1.3 with S&P-500 dataset:\")\n",
    "question_1_3(k_list, spy_training_labels)"
   ]
  },
  {
   "cell_type": "code",
   "execution_count": 19,
   "metadata": {},
   "outputs": [
    {
     "data": {
      "text/plain": "<IPython.core.display.Latex object>",
      "text/latex": " 4. Take years 1, 2, and 3. What is the probability that after seeing $k$ consecutive \"up days\", the next day is still an \"up day\"? For example, if $k = 3$, what is the probability of seeing \"$+,+,+,+$\" as opposed to seeing \"$+,+,+,-$\"? Compute this for $k = 1,2,3$."
     },
     "execution_count": 19,
     "metadata": {},
     "output_type": "execute_result"
    }
   ],
   "source": [
    "Latex(\n",
    "    r' 4. Take years 1, 2, and 3. What is the probability that after seeing $k$ consecutive \"up days\", the next day is still an \"up day\"? For example, if $k = 3$, what is the probability of seeing \"$+,+,+,+$\" as opposed to seeing \"$+,+,+,-$\"? Compute this for $k = 1,2,3$.'\n",
    ")"
   ]
  },
  {
   "cell_type": "code",
   "execution_count": 20,
   "metadata": {},
   "outputs": [
    {
     "name": "stdout",
     "output_type": "stream",
     "text": [
      "Question 1.4 with SONY dataset:\n",
      "Probability for k = 1: 0.507537688442211\n",
      "Probability for k = 2: 0.5\n",
      "Probability for k = 3: 0.46534653465346537\n",
      "\n",
      "\n",
      "Question 1.4 with S&P-500 dataset:\n",
      "Probability for k = 1: 0.5203836930455635\n",
      "Probability for k = 2: 0.5023041474654378\n",
      "Probability for k = 3: 0.46788990825688076\n",
      "\n",
      "\n"
     ]
    }
   ],
   "source": [
    "# Question 1.4 results for each dataset.\n",
    "print(\"Question 1.4 with SONY dataset:\")\n",
    "question_1_4(k_list, sony_training_labels)\n",
    "\n",
    "print(\"Question 1.4 with S&P-500 dataset:\")\n",
    "question_1_4(k_list, spy_training_labels)"
   ]
  },
  {
   "cell_type": "code",
   "execution_count": 21,
   "metadata": {},
   "outputs": [
    {
     "data": {
      "text/plain": "<IPython.core.display.Latex object>",
      "text/latex": "$\\textbf{Predicting Labels: }$    We will now describe a procedure to predict labels for each day in years 4 and 5 from the \"true\" labels in training years 1, 2, and 3.\nFor each day $d$ in year 4 and 5, we look at the pattern of last $W$ true labels (including this day $d$). By looking at the frequency of this pattern and the true label for the next day in the training set, we will predict label for $d + 1$. Here $W$ is the $\\textbf{hyperparameter}$ that we will choose based upon our prediction accuracy.\nSuppose $W = 3$. You look at a particular day $d$ and suppose that the sequence of last $W$ labels is $s = \"-,+,-\"$. We want to predict the label for the next day $d + 1$. To do this, we count the number of sequences of length $W + 1$ in the training set where the first $W$ labels coincide with $s$. In other words, we count the number $N^-(s)$ of sequences \"$s,+$\". If $N^+(s) \\ge{N^-(s)}$, then the next day is assigned $\\positive$. If $N^+(s) < N^-(s)$, then the next day is assigned $\\negative$. In the unlikely event that $N^+(s) = N^-(s) = 0$, we will assign a label based upon the default probability $p*$ that we computed in the previous question."
     },
     "execution_count": 21,
     "metadata": {},
     "output_type": "execute_result"
    }
   ],
   "source": [
    "Latex(\n",
    "    r'$\\textbf{Predicting Labels: }$    We will now describe a procedure to predict labels for each day in years 4 and 5 from the \"true\" labels in training years 1, 2, and 3.'\n",
    "    \"\\n\"\n",
    "    r'For each day $d$ in year 4 and 5, we look at the pattern of last $W$ true labels (including this day $d$). By looking at the frequency of this pattern and the true label for the next day in the training set, we will predict label for $d + 1$. Here $W$ is the $\\textbf{hyperparameter}$ that we will choose based upon our prediction accuracy.'\n",
    "    \"\\n\"\n",
    "    r'Suppose $W = 3$. You look at a particular day $d$ and suppose that the sequence of last $W$ labels is $s = \"-,+,-\"$. We want to predict the label for the next day $d + 1$. To do this, we count the number of sequences of length $W + 1$ in the training set where the first $W$ labels coincide with $s$. In other words, we count the number $N^-(s)$ of sequences \"$s,+$\". If $N^+(s) \\ge{N^-(s)}$, then the next day is assigned $\\positive$. If $N^+(s) < N^-(s)$, then the next day is assigned $\\negative$. In the unlikely event that $N^+(s) = N^-(s) = 0$, we will assign a label based upon the default probability $p*$ that we computed in the previous question.'\n",
    ")"
   ]
  },
  {
   "cell_type": "code",
   "execution_count": 22,
   "metadata": {},
   "outputs": [
    {
     "data": {
      "text/plain": "<IPython.core.display.Latex object>",
      "text/latex": "$\\textbf{Question 2: }$"
     },
     "execution_count": 22,
     "metadata": {},
     "output_type": "execute_result"
    }
   ],
   "source": [
    "Latex(r'$\\textbf{Question 2: }$')"
   ]
  },
  {
   "cell_type": "code",
   "execution_count": 23,
   "metadata": {},
   "outputs": [
    {
     "data": {
      "text/plain": "<IPython.core.display.Latex object>",
      "text/latex": " 1. For $W = 2, 3, 4$, compute predicted labels for each day in year $4$ and $5$ based on true labels in years $1, 2$, and $3$ only\nPerform this for your ticker and for \"SPY\"."
     },
     "execution_count": 23,
     "metadata": {},
     "output_type": "execute_result"
    }
   ],
   "source": [
    "Latex(\n",
    "    r' 1. For $W = 2, 3, 4$, compute predicted labels for each day in year $4$ and $5$ based on true labels in years $1, 2$, and $3$ only'\n",
    "    \"\\n\"\n",
    "    r'Perform this for your ticker and for \"SPY\".'\n",
    ")"
   ]
  },
  {
   "cell_type": "code",
   "execution_count": 24,
   "metadata": {},
   "outputs": [],
   "source": [
    "# Get arrays of the testing labels.\n",
    "sony_testing_labels: np.ndarray = get_labels(sony_testing_table)\n",
    "spy_testing_labels: np.ndarray = get_labels(spy_testing_table)"
   ]
  },
  {
   "cell_type": "code",
   "execution_count": 25,
   "metadata": {},
   "outputs": [
    {
     "data": {
      "text/plain": "<IPython.core.display.HTML object>",
      "text/html": "<style type=\"text/css\">\n</style>\n<table id=\"T_44e87\">\n  <thead>\n    <tr>\n      <th class=\"blank level0\" >&nbsp;</th>\n      <th id=\"T_44e87_level0_col0\" class=\"col_heading level0 col0\" >Date</th>\n      <th id=\"T_44e87_level0_col1\" class=\"col_heading level0 col1\" >Year</th>\n      <th id=\"T_44e87_level0_col2\" class=\"col_heading level0 col2\" >Month</th>\n      <th id=\"T_44e87_level0_col3\" class=\"col_heading level0 col3\" >Day</th>\n      <th id=\"T_44e87_level0_col4\" class=\"col_heading level0 col4\" >Weekday</th>\n      <th id=\"T_44e87_level0_col5\" class=\"col_heading level0 col5\" >Week_Number</th>\n      <th id=\"T_44e87_level0_col6\" class=\"col_heading level0 col6\" >Year_Week</th>\n      <th id=\"T_44e87_level0_col7\" class=\"col_heading level0 col7\" >Open</th>\n      <th id=\"T_44e87_level0_col8\" class=\"col_heading level0 col8\" >High</th>\n      <th id=\"T_44e87_level0_col9\" class=\"col_heading level0 col9\" >Low</th>\n      <th id=\"T_44e87_level0_col10\" class=\"col_heading level0 col10\" >Close</th>\n      <th id=\"T_44e87_level0_col11\" class=\"col_heading level0 col11\" >Volume</th>\n      <th id=\"T_44e87_level0_col12\" class=\"col_heading level0 col12\" >Adj Close</th>\n      <th id=\"T_44e87_level0_col13\" class=\"col_heading level0 col13\" >Return</th>\n      <th id=\"T_44e87_level0_col14\" class=\"col_heading level0 col14\" >Short_MA</th>\n      <th id=\"T_44e87_level0_col15\" class=\"col_heading level0 col15\" >Long_MA</th>\n      <th id=\"T_44e87_level0_col16\" class=\"col_heading level0 col16\" >True Label</th>\n      <th id=\"T_44e87_level0_col17\" class=\"col_heading level0 col17\" >W2</th>\n      <th id=\"T_44e87_level0_col18\" class=\"col_heading level0 col18\" >W3</th>\n      <th id=\"T_44e87_level0_col19\" class=\"col_heading level0 col19\" >W4</th>\n    </tr>\n  </thead>\n  <tbody>\n    <tr>\n      <th id=\"T_44e87_level0_row0\" class=\"row_heading level0 row0\" >0</th>\n      <td id=\"T_44e87_row0_col0\" class=\"data row0 col0\" >2019-01-02 00:00:00</td>\n      <td id=\"T_44e87_row0_col1\" class=\"data row0 col1\" >2019</td>\n      <td id=\"T_44e87_row0_col2\" class=\"data row0 col2\" >1</td>\n      <td id=\"T_44e87_row0_col3\" class=\"data row0 col3\" >2</td>\n      <td id=\"T_44e87_row0_col4\" class=\"data row0 col4\" >Wednesday</td>\n      <td id=\"T_44e87_row0_col5\" class=\"data row0 col5\" >0</td>\n      <td id=\"T_44e87_row0_col6\" class=\"data row0 col6\" >2019-00</td>\n      <td id=\"T_44e87_row0_col7\" class=\"data row0 col7\" >47.570000</td>\n      <td id=\"T_44e87_row0_col8\" class=\"data row0 col8\" >48.980000</td>\n      <td id=\"T_44e87_row0_col9\" class=\"data row0 col9\" >47.400000</td>\n      <td id=\"T_44e87_row0_col10\" class=\"data row0 col10\" >48.720000</td>\n      <td id=\"T_44e87_row0_col11\" class=\"data row0 col11\" >779800</td>\n      <td id=\"T_44e87_row0_col12\" class=\"data row0 col12\" >48.720000</td>\n      <td id=\"T_44e87_row0_col13\" class=\"data row0 col13\" >0.009114</td>\n      <td id=\"T_44e87_row0_col14\" class=\"data row0 col14\" >49.066429</td>\n      <td id=\"T_44e87_row0_col15\" class=\"data row0 col15\" >51.577800</td>\n      <td id=\"T_44e87_row0_col16\" class=\"data row0 col16\" >+</td>\n      <td id=\"T_44e87_row0_col17\" class=\"data row0 col17\" >nan</td>\n      <td id=\"T_44e87_row0_col18\" class=\"data row0 col18\" >nan</td>\n      <td id=\"T_44e87_row0_col19\" class=\"data row0 col19\" >nan</td>\n    </tr>\n    <tr>\n      <th id=\"T_44e87_level0_row1\" class=\"row_heading level0 row1\" >1</th>\n      <td id=\"T_44e87_row1_col0\" class=\"data row1 col0\" >2019-01-03 00:00:00</td>\n      <td id=\"T_44e87_row1_col1\" class=\"data row1 col1\" >2019</td>\n      <td id=\"T_44e87_row1_col2\" class=\"data row1 col2\" >1</td>\n      <td id=\"T_44e87_row1_col3\" class=\"data row1 col3\" >3</td>\n      <td id=\"T_44e87_row1_col4\" class=\"data row1 col4\" >Thursday</td>\n      <td id=\"T_44e87_row1_col5\" class=\"data row1 col5\" >0</td>\n      <td id=\"T_44e87_row1_col6\" class=\"data row1 col6\" >2019-00</td>\n      <td id=\"T_44e87_row1_col7\" class=\"data row1 col7\" >48.230000</td>\n      <td id=\"T_44e87_row1_col8\" class=\"data row1 col8\" >48.280000</td>\n      <td id=\"T_44e87_row1_col9\" class=\"data row1 col9\" >46.890000</td>\n      <td id=\"T_44e87_row1_col10\" class=\"data row1 col10\" >47.020000</td>\n      <td id=\"T_44e87_row1_col11\" class=\"data row1 col11\" >1618500</td>\n      <td id=\"T_44e87_row1_col12\" class=\"data row1 col12\" >47.020000</td>\n      <td id=\"T_44e87_row1_col13\" class=\"data row1 col13\" >-0.034893</td>\n      <td id=\"T_44e87_row1_col14\" class=\"data row1 col14\" >48.666429</td>\n      <td id=\"T_44e87_row1_col15\" class=\"data row1 col15\" >51.404800</td>\n      <td id=\"T_44e87_row1_col16\" class=\"data row1 col16\" >-</td>\n      <td id=\"T_44e87_row1_col17\" class=\"data row1 col17\" >nan</td>\n      <td id=\"T_44e87_row1_col18\" class=\"data row1 col18\" >nan</td>\n      <td id=\"T_44e87_row1_col19\" class=\"data row1 col19\" >nan</td>\n    </tr>\n    <tr>\n      <th id=\"T_44e87_level0_row2\" class=\"row_heading level0 row2\" >2</th>\n      <td id=\"T_44e87_row2_col0\" class=\"data row2 col0\" >2019-01-04 00:00:00</td>\n      <td id=\"T_44e87_row2_col1\" class=\"data row2 col1\" >2019</td>\n      <td id=\"T_44e87_row2_col2\" class=\"data row2 col2\" >1</td>\n      <td id=\"T_44e87_row2_col3\" class=\"data row2 col3\" >4</td>\n      <td id=\"T_44e87_row2_col4\" class=\"data row2 col4\" >Friday</td>\n      <td id=\"T_44e87_row2_col5\" class=\"data row2 col5\" >0</td>\n      <td id=\"T_44e87_row2_col6\" class=\"data row2 col6\" >2019-00</td>\n      <td id=\"T_44e87_row2_col7\" class=\"data row2 col7\" >48.120000</td>\n      <td id=\"T_44e87_row2_col8\" class=\"data row2 col8\" >49.550000</td>\n      <td id=\"T_44e87_row2_col9\" class=\"data row2 col9\" >48.020000</td>\n      <td id=\"T_44e87_row2_col10\" class=\"data row2 col10\" >49.210000</td>\n      <td id=\"T_44e87_row2_col11\" class=\"data row2 col11\" >1185000</td>\n      <td id=\"T_44e87_row2_col12\" class=\"data row2 col12\" >49.210000</td>\n      <td id=\"T_44e87_row2_col13\" class=\"data row2 col13\" >0.046576</td>\n      <td id=\"T_44e87_row2_col14\" class=\"data row2 col14\" >48.452857</td>\n      <td id=\"T_44e87_row2_col15\" class=\"data row2 col15\" >51.273400</td>\n      <td id=\"T_44e87_row2_col16\" class=\"data row2 col16\" >+</td>\n      <td id=\"T_44e87_row2_col17\" class=\"data row2 col17\" >+</td>\n      <td id=\"T_44e87_row2_col18\" class=\"data row2 col18\" >nan</td>\n      <td id=\"T_44e87_row2_col19\" class=\"data row2 col19\" >nan</td>\n    </tr>\n    <tr>\n      <th id=\"T_44e87_level0_row3\" class=\"row_heading level0 row3\" >3</th>\n      <td id=\"T_44e87_row3_col0\" class=\"data row3 col0\" >2019-01-07 00:00:00</td>\n      <td id=\"T_44e87_row3_col1\" class=\"data row3 col1\" >2019</td>\n      <td id=\"T_44e87_row3_col2\" class=\"data row3 col2\" >1</td>\n      <td id=\"T_44e87_row3_col3\" class=\"data row3 col3\" >7</td>\n      <td id=\"T_44e87_row3_col4\" class=\"data row3 col4\" >Monday</td>\n      <td id=\"T_44e87_row3_col5\" class=\"data row3 col5\" >1</td>\n      <td id=\"T_44e87_row3_col6\" class=\"data row3 col6\" >2019-01</td>\n      <td id=\"T_44e87_row3_col7\" class=\"data row3 col7\" >49.460000</td>\n      <td id=\"T_44e87_row3_col8\" class=\"data row3 col8\" >50.310000</td>\n      <td id=\"T_44e87_row3_col9\" class=\"data row3 col9\" >49.430000</td>\n      <td id=\"T_44e87_row3_col10\" class=\"data row3 col10\" >49.720000</td>\n      <td id=\"T_44e87_row3_col11\" class=\"data row3 col11\" >674000</td>\n      <td id=\"T_44e87_row3_col12\" class=\"data row3 col12\" >49.720000</td>\n      <td id=\"T_44e87_row3_col13\" class=\"data row3 col13\" >0.010364</td>\n      <td id=\"T_44e87_row3_col14\" class=\"data row3 col14\" >48.340714</td>\n      <td id=\"T_44e87_row3_col15\" class=\"data row3 col15\" >51.166400</td>\n      <td id=\"T_44e87_row3_col16\" class=\"data row3 col16\" >+</td>\n      <td id=\"T_44e87_row3_col17\" class=\"data row3 col17\" >-</td>\n      <td id=\"T_44e87_row3_col18\" class=\"data row3 col18\" >+</td>\n      <td id=\"T_44e87_row3_col19\" class=\"data row3 col19\" >nan</td>\n    </tr>\n    <tr>\n      <th id=\"T_44e87_level0_row4\" class=\"row_heading level0 row4\" >4</th>\n      <td id=\"T_44e87_row4_col0\" class=\"data row4 col0\" >2019-01-08 00:00:00</td>\n      <td id=\"T_44e87_row4_col1\" class=\"data row4 col1\" >2019</td>\n      <td id=\"T_44e87_row4_col2\" class=\"data row4 col2\" >1</td>\n      <td id=\"T_44e87_row4_col3\" class=\"data row4 col3\" >8</td>\n      <td id=\"T_44e87_row4_col4\" class=\"data row4 col4\" >Tuesday</td>\n      <td id=\"T_44e87_row4_col5\" class=\"data row4 col5\" >1</td>\n      <td id=\"T_44e87_row4_col6\" class=\"data row4 col6\" >2019-01</td>\n      <td id=\"T_44e87_row4_col7\" class=\"data row4 col7\" >50.150000</td>\n      <td id=\"T_44e87_row4_col8\" class=\"data row4 col8\" >50.260000</td>\n      <td id=\"T_44e87_row4_col9\" class=\"data row4 col9\" >49.410000</td>\n      <td id=\"T_44e87_row4_col10\" class=\"data row4 col10\" >49.890000</td>\n      <td id=\"T_44e87_row4_col11\" class=\"data row4 col11\" >1033000</td>\n      <td id=\"T_44e87_row4_col12\" class=\"data row4 col12\" >49.890000</td>\n      <td id=\"T_44e87_row4_col13\" class=\"data row4 col13\" >0.003419</td>\n      <td id=\"T_44e87_row4_col14\" class=\"data row4 col14\" >48.297143</td>\n      <td id=\"T_44e87_row4_col15\" class=\"data row4 col15\" >51.102600</td>\n      <td id=\"T_44e87_row4_col16\" class=\"data row4 col16\" >+</td>\n      <td id=\"T_44e87_row4_col17\" class=\"data row4 col17\" >+</td>\n      <td id=\"T_44e87_row4_col18\" class=\"data row4 col18\" >+</td>\n      <td id=\"T_44e87_row4_col19\" class=\"data row4 col19\" >+</td>\n    </tr>\n    <tr>\n      <th class=\"row_heading level0 row_trim\" >...</th>\n      <td class=\"data col0 row_trim\" >...</td>\n      <td class=\"data col1 row_trim\" >...</td>\n      <td class=\"data col2 row_trim\" >...</td>\n      <td class=\"data col3 row_trim\" >...</td>\n      <td class=\"data col4 row_trim\" >...</td>\n      <td class=\"data row_trim col_trim\" >...</td>\n    </tr>\n  </tbody>\n</table>\n"
     },
     "metadata": {},
     "output_type": "display_data"
    },
    {
     "data": {
      "text/plain": "<IPython.core.display.HTML object>",
      "text/html": "<style type=\"text/css\">\n</style>\n<table id=\"T_9dcf2\">\n  <thead>\n    <tr>\n      <th class=\"blank level0\" >&nbsp;</th>\n      <th id=\"T_9dcf2_level0_col0\" class=\"col_heading level0 col0\" >Date</th>\n      <th id=\"T_9dcf2_level0_col1\" class=\"col_heading level0 col1\" >Year</th>\n      <th id=\"T_9dcf2_level0_col2\" class=\"col_heading level0 col2\" >Month</th>\n      <th id=\"T_9dcf2_level0_col3\" class=\"col_heading level0 col3\" >Day</th>\n      <th id=\"T_9dcf2_level0_col4\" class=\"col_heading level0 col4\" >Weekday</th>\n      <th id=\"T_9dcf2_level0_col5\" class=\"col_heading level0 col5\" >Week_Number</th>\n      <th id=\"T_9dcf2_level0_col6\" class=\"col_heading level0 col6\" >Year_Week</th>\n      <th id=\"T_9dcf2_level0_col7\" class=\"col_heading level0 col7\" >Open</th>\n      <th id=\"T_9dcf2_level0_col8\" class=\"col_heading level0 col8\" >High</th>\n      <th id=\"T_9dcf2_level0_col9\" class=\"col_heading level0 col9\" >Low</th>\n      <th id=\"T_9dcf2_level0_col10\" class=\"col_heading level0 col10\" >Close</th>\n      <th id=\"T_9dcf2_level0_col11\" class=\"col_heading level0 col11\" >Volume</th>\n      <th id=\"T_9dcf2_level0_col12\" class=\"col_heading level0 col12\" >Adj Close</th>\n      <th id=\"T_9dcf2_level0_col13\" class=\"col_heading level0 col13\" >Return</th>\n      <th id=\"T_9dcf2_level0_col14\" class=\"col_heading level0 col14\" >Short_MA</th>\n      <th id=\"T_9dcf2_level0_col15\" class=\"col_heading level0 col15\" >Long_MA</th>\n      <th id=\"T_9dcf2_level0_col16\" class=\"col_heading level0 col16\" >True Label</th>\n      <th id=\"T_9dcf2_level0_col17\" class=\"col_heading level0 col17\" >W2</th>\n      <th id=\"T_9dcf2_level0_col18\" class=\"col_heading level0 col18\" >W3</th>\n      <th id=\"T_9dcf2_level0_col19\" class=\"col_heading level0 col19\" >W4</th>\n    </tr>\n  </thead>\n  <tbody>\n    <tr>\n      <th id=\"T_9dcf2_level0_row0\" class=\"row_heading level0 row0\" >0</th>\n      <td id=\"T_9dcf2_row0_col0\" class=\"data row0 col0\" >2019-01-02 00:00:00</td>\n      <td id=\"T_9dcf2_row0_col1\" class=\"data row0 col1\" >2019</td>\n      <td id=\"T_9dcf2_row0_col2\" class=\"data row0 col2\" >1</td>\n      <td id=\"T_9dcf2_row0_col3\" class=\"data row0 col3\" >2</td>\n      <td id=\"T_9dcf2_row0_col4\" class=\"data row0 col4\" >Wednesday</td>\n      <td id=\"T_9dcf2_row0_col5\" class=\"data row0 col5\" >0</td>\n      <td id=\"T_9dcf2_row0_col6\" class=\"data row0 col6\" >2019-00</td>\n      <td id=\"T_9dcf2_row0_col7\" class=\"data row0 col7\" >245.980000</td>\n      <td id=\"T_9dcf2_row0_col8\" class=\"data row0 col8\" >251.210000</td>\n      <td id=\"T_9dcf2_row0_col9\" class=\"data row0 col9\" >245.950000</td>\n      <td id=\"T_9dcf2_row0_col10\" class=\"data row0 col10\" >250.180000</td>\n      <td id=\"T_9dcf2_row0_col11\" class=\"data row0 col11\" >126925200</td>\n      <td id=\"T_9dcf2_row0_col12\" class=\"data row0 col12\" >234.060000</td>\n      <td id=\"T_9dcf2_row0_col13\" class=\"data row0 col13\" >0.001040</td>\n      <td id=\"T_9dcf2_row0_col14\" class=\"data row0 col14\" >234.351429</td>\n      <td id=\"T_9dcf2_row0_col15\" class=\"data row0 col15\" >247.096000</td>\n      <td id=\"T_9dcf2_row0_col16\" class=\"data row0 col16\" >+</td>\n      <td id=\"T_9dcf2_row0_col17\" class=\"data row0 col17\" >nan</td>\n      <td id=\"T_9dcf2_row0_col18\" class=\"data row0 col18\" >nan</td>\n      <td id=\"T_9dcf2_row0_col19\" class=\"data row0 col19\" >nan</td>\n    </tr>\n    <tr>\n      <th id=\"T_9dcf2_level0_row1\" class=\"row_heading level0 row1\" >1</th>\n      <td id=\"T_9dcf2_row1_col0\" class=\"data row1 col0\" >2019-01-03 00:00:00</td>\n      <td id=\"T_9dcf2_row1_col1\" class=\"data row1 col1\" >2019</td>\n      <td id=\"T_9dcf2_row1_col2\" class=\"data row1 col2\" >1</td>\n      <td id=\"T_9dcf2_row1_col3\" class=\"data row1 col3\" >3</td>\n      <td id=\"T_9dcf2_row1_col4\" class=\"data row1 col4\" >Thursday</td>\n      <td id=\"T_9dcf2_row1_col5\" class=\"data row1 col5\" >0</td>\n      <td id=\"T_9dcf2_row1_col6\" class=\"data row1 col6\" >2019-00</td>\n      <td id=\"T_9dcf2_row1_col7\" class=\"data row1 col7\" >248.230000</td>\n      <td id=\"T_9dcf2_row1_col8\" class=\"data row1 col8\" >248.570000</td>\n      <td id=\"T_9dcf2_row1_col9\" class=\"data row1 col9\" >243.670000</td>\n      <td id=\"T_9dcf2_row1_col10\" class=\"data row1 col10\" >244.210000</td>\n      <td id=\"T_9dcf2_row1_col11\" class=\"data row1 col11\" >144140700</td>\n      <td id=\"T_9dcf2_row1_col12\" class=\"data row1 col12\" >228.480000</td>\n      <td id=\"T_9dcf2_row1_col13\" class=\"data row1 col13\" >-0.023863</td>\n      <td id=\"T_9dcf2_row1_col14\" class=\"data row1 col14\" >233.034286</td>\n      <td id=\"T_9dcf2_row1_col15\" class=\"data row1 col15\" >246.526600</td>\n      <td id=\"T_9dcf2_row1_col16\" class=\"data row1 col16\" >-</td>\n      <td id=\"T_9dcf2_row1_col17\" class=\"data row1 col17\" >nan</td>\n      <td id=\"T_9dcf2_row1_col18\" class=\"data row1 col18\" >nan</td>\n      <td id=\"T_9dcf2_row1_col19\" class=\"data row1 col19\" >nan</td>\n    </tr>\n    <tr>\n      <th id=\"T_9dcf2_level0_row2\" class=\"row_heading level0 row2\" >2</th>\n      <td id=\"T_9dcf2_row2_col0\" class=\"data row2 col0\" >2019-01-04 00:00:00</td>\n      <td id=\"T_9dcf2_row2_col1\" class=\"data row2 col1\" >2019</td>\n      <td id=\"T_9dcf2_row2_col2\" class=\"data row2 col2\" >1</td>\n      <td id=\"T_9dcf2_row2_col3\" class=\"data row2 col3\" >4</td>\n      <td id=\"T_9dcf2_row2_col4\" class=\"data row2 col4\" >Friday</td>\n      <td id=\"T_9dcf2_row2_col5\" class=\"data row2 col5\" >0</td>\n      <td id=\"T_9dcf2_row2_col6\" class=\"data row2 col6\" >2019-00</td>\n      <td id=\"T_9dcf2_row2_col7\" class=\"data row2 col7\" >247.590000</td>\n      <td id=\"T_9dcf2_row2_col8\" class=\"data row2 col8\" >253.110000</td>\n      <td id=\"T_9dcf2_row2_col9\" class=\"data row2 col9\" >247.170000</td>\n      <td id=\"T_9dcf2_row2_col10\" class=\"data row2 col10\" >252.390000</td>\n      <td id=\"T_9dcf2_row2_col11\" class=\"data row2 col11\" >142628800</td>\n      <td id=\"T_9dcf2_row2_col12\" class=\"data row2 col12\" >236.130000</td>\n      <td id=\"T_9dcf2_row2_col13\" class=\"data row2 col13\" >0.033495</td>\n      <td id=\"T_9dcf2_row2_col14\" class=\"data row2 col14\" >232.270000</td>\n      <td id=\"T_9dcf2_row2_col15\" class=\"data row2 col15\" >246.133200</td>\n      <td id=\"T_9dcf2_row2_col16\" class=\"data row2 col16\" >+</td>\n      <td id=\"T_9dcf2_row2_col17\" class=\"data row2 col17\" >+</td>\n      <td id=\"T_9dcf2_row2_col18\" class=\"data row2 col18\" >nan</td>\n      <td id=\"T_9dcf2_row2_col19\" class=\"data row2 col19\" >nan</td>\n    </tr>\n    <tr>\n      <th id=\"T_9dcf2_level0_row3\" class=\"row_heading level0 row3\" >3</th>\n      <td id=\"T_9dcf2_row3_col0\" class=\"data row3 col0\" >2019-01-07 00:00:00</td>\n      <td id=\"T_9dcf2_row3_col1\" class=\"data row3 col1\" >2019</td>\n      <td id=\"T_9dcf2_row3_col2\" class=\"data row3 col2\" >1</td>\n      <td id=\"T_9dcf2_row3_col3\" class=\"data row3 col3\" >7</td>\n      <td id=\"T_9dcf2_row3_col4\" class=\"data row3 col4\" >Monday</td>\n      <td id=\"T_9dcf2_row3_col5\" class=\"data row3 col5\" >1</td>\n      <td id=\"T_9dcf2_row3_col6\" class=\"data row3 col6\" >2019-01</td>\n      <td id=\"T_9dcf2_row3_col7\" class=\"data row3 col7\" >252.690000</td>\n      <td id=\"T_9dcf2_row3_col8\" class=\"data row3 col8\" >255.950000</td>\n      <td id=\"T_9dcf2_row3_col9\" class=\"data row3 col9\" >251.690000</td>\n      <td id=\"T_9dcf2_row3_col10\" class=\"data row3 col10\" >254.380000</td>\n      <td id=\"T_9dcf2_row3_col11\" class=\"data row3 col11\" >103139100</td>\n      <td id=\"T_9dcf2_row3_col12\" class=\"data row3 col12\" >237.990000</td>\n      <td id=\"T_9dcf2_row3_col13\" class=\"data row3 col13\" >0.007885</td>\n      <td id=\"T_9dcf2_row3_col14\" class=\"data row3 col14\" >231.964286</td>\n      <td id=\"T_9dcf2_row3_col15\" class=\"data row3 col15\" >245.803000</td>\n      <td id=\"T_9dcf2_row3_col16\" class=\"data row3 col16\" >+</td>\n      <td id=\"T_9dcf2_row3_col17\" class=\"data row3 col17\" >+</td>\n      <td id=\"T_9dcf2_row3_col18\" class=\"data row3 col18\" >+</td>\n      <td id=\"T_9dcf2_row3_col19\" class=\"data row3 col19\" >nan</td>\n    </tr>\n    <tr>\n      <th id=\"T_9dcf2_level0_row4\" class=\"row_heading level0 row4\" >4</th>\n      <td id=\"T_9dcf2_row4_col0\" class=\"data row4 col0\" >2019-01-08 00:00:00</td>\n      <td id=\"T_9dcf2_row4_col1\" class=\"data row4 col1\" >2019</td>\n      <td id=\"T_9dcf2_row4_col2\" class=\"data row4 col2\" >1</td>\n      <td id=\"T_9dcf2_row4_col3\" class=\"data row4 col3\" >8</td>\n      <td id=\"T_9dcf2_row4_col4\" class=\"data row4 col4\" >Tuesday</td>\n      <td id=\"T_9dcf2_row4_col5\" class=\"data row4 col5\" >1</td>\n      <td id=\"T_9dcf2_row4_col6\" class=\"data row4 col6\" >2019-01</td>\n      <td id=\"T_9dcf2_row4_col7\" class=\"data row4 col7\" >256.820000</td>\n      <td id=\"T_9dcf2_row4_col8\" class=\"data row4 col8\" >257.310000</td>\n      <td id=\"T_9dcf2_row4_col9\" class=\"data row4 col9\" >254.000000</td>\n      <td id=\"T_9dcf2_row4_col10\" class=\"data row4 col10\" >256.770000</td>\n      <td id=\"T_9dcf2_row4_col11\" class=\"data row4 col11\" >102512600</td>\n      <td id=\"T_9dcf2_row4_col12\" class=\"data row4 col12\" >240.230000</td>\n      <td id=\"T_9dcf2_row4_col13\" class=\"data row4 col13\" >0.009395</td>\n      <td id=\"T_9dcf2_row4_col14\" class=\"data row4 col14\" >232.157857</td>\n      <td id=\"T_9dcf2_row4_col15\" class=\"data row4 col15\" >245.671800</td>\n      <td id=\"T_9dcf2_row4_col16\" class=\"data row4 col16\" >+</td>\n      <td id=\"T_9dcf2_row4_col17\" class=\"data row4 col17\" >+</td>\n      <td id=\"T_9dcf2_row4_col18\" class=\"data row4 col18\" >+</td>\n      <td id=\"T_9dcf2_row4_col19\" class=\"data row4 col19\" >+</td>\n    </tr>\n    <tr>\n      <th class=\"row_heading level0 row_trim\" >...</th>\n      <td class=\"data col0 row_trim\" >...</td>\n      <td class=\"data col1 row_trim\" >...</td>\n      <td class=\"data col2 row_trim\" >...</td>\n      <td class=\"data col3 row_trim\" >...</td>\n      <td class=\"data col4 row_trim\" >...</td>\n      <td class=\"data row_trim col_trim\" >...</td>\n    </tr>\n  </tbody>\n</table>\n"
     },
     "metadata": {},
     "output_type": "display_data"
    }
   ],
   "source": [
    "# W values for questions 2.\n",
    "w_list: list[int] = [2, 3, 4]\n",
    "\n",
    "# For W = 2, 3, 4: Predict the next day and add it to the testing table.\n",
    "for w in w_list:\n",
    "    # SONY dataset predictions.\n",
    "    sony_testing_table[f\"W{w}\"] = predict_next_day(\n",
    "        df=sony_testing_table,\n",
    "        training_labels=sony_testing_labels,\n",
    "        window_size=w,\n",
    "        default_probability=sony_default_probability,\n",
    "    )\n",
    "\n",
    "    # S&P-500 dataset predictions.\n",
    "    spy_testing_table[f\"W{w}\"] = predict_next_day(\n",
    "        df=spy_testing_table,\n",
    "        training_labels=spy_testing_labels,\n",
    "        window_size=w,\n",
    "        default_probability=spy_default_probability,\n",
    "    )\n",
    "\n",
    "show_tables([sony_testing_table, spy_testing_table])"
   ]
  },
  {
   "cell_type": "code",
   "execution_count": 26,
   "metadata": {},
   "outputs": [
    {
     "data": {
      "text/plain": "<IPython.core.display.Latex object>",
      "text/latex": " 2. For each $W = 2, 3, 4$, compute the accuracy - what percentage of true labels (both positive and negative) have you predicted correctly for the last two years."
     },
     "execution_count": 26,
     "metadata": {},
     "output_type": "execute_result"
    }
   ],
   "source": [
    "Latex(\n",
    "    r' 2. For each $W = 2, 3, 4$, compute the accuracy - what percentage of true labels (both positive and negative) have you predicted correctly for the last two years.'\n",
    ")"
   ]
  },
  {
   "cell_type": "code",
   "execution_count": 27,
   "metadata": {},
   "outputs": [
    {
     "name": "stdout",
     "output_type": "stream",
     "text": [
      "SONY prediction accuracies: \n",
      "W2*: 0.5657370517928287\n",
      "W3*: 0.5708582834331337\n",
      "W4*: 0.586\n",
      "S&P-500 prediction accuracies: \n",
      "W2*: 0.5856573705179283\n",
      "W3*: 0.590818363273453\n",
      "W4*: 0.606\n"
     ]
    }
   ],
   "source": [
    "w_accuracy_keys: list[str] = [f\"W{w}*\" for w in w_list]\n",
    "\n",
    "# Compute the prediction accuracy for SONY.\n",
    "w_prediction_accuracy(sony_testing_table, w_list)\n",
    "sony_accuracies = {key: sony_testing_table.attrs[key] for key in w_accuracy_keys}\n",
    "\n",
    "# Compute the prediction accuracy for S&P-500.\n",
    "w_prediction_accuracy(spy_testing_table, w_list)\n",
    "spy_accuracies = {key: spy_testing_table.attrs[key] for key in w_accuracy_keys}\n",
    "\n",
    "print(\"SONY prediction accuracies: \")\n",
    "for accuracy, value in sony_accuracies.items():\n",
    "    print(f\"{accuracy}: {value}\")\n",
    "\n",
    "print(\"S&P-500 prediction accuracies: \")\n",
    "for accuracy, value in spy_accuracies.items():\n",
    "    print(f\"{accuracy}: {value}\")"
   ]
  },
  {
   "cell_type": "code",
   "execution_count": 28,
   "metadata": {},
   "outputs": [
    {
     "data": {
      "text/plain": "<IPython.core.display.Latex object>",
      "text/latex": " 3. Which $W^*$ value gave you the highest accuracy for your stock and which $W^*$ value gave you the highest accuracy for S&P-500?"
     },
     "execution_count": 28,
     "metadata": {},
     "output_type": "execute_result"
    }
   ],
   "source": [
    "Latex(\n",
    "    r' 3. Which $W^*$ value gave you the highest accuracy for your stock and which $W^*$ value gave you the highest accuracy for S&P-500?'\n",
    ")"
   ]
  },
  {
   "cell_type": "code",
   "execution_count": 29,
   "metadata": {},
   "outputs": [
    {
     "name": "stdout",
     "output_type": "stream",
     "text": [
      "SONY highest accuracy is W4* with an accuracy of 0.586.\n",
      "S&P-500 highest accuracy is W4* with an accuracy of 0.606.\n"
     ]
    }
   ],
   "source": [
    "# Get the highest accuracy value for SONY.\n",
    "sony_highest_accuracy: tuple[str, float] = \\\n",
    "    max(sony_accuracies.items(), key=operator.itemgetter(1))\n",
    "print(\n",
    "    f\"SONY highest accuracy is {sony_highest_accuracy[0]} with an accuracy of \"\n",
    "    f\"{sony_highest_accuracy[1]}.\"\n",
    ")\n",
    "\n",
    "# Get the highest accuracy value for S&P-500.\n",
    "spy_highest_accuracy: tuple[str, float] = \\\n",
    "    max(spy_accuracies.items(), key=operator.itemgetter(1))\n",
    "print(\n",
    "    f\"S&P-500 highest accuracy is {spy_highest_accuracy[0]} with an accuracy of \"\n",
    "    f\"{spy_highest_accuracy[1]}.\"\n",
    ")"
   ]
  },
  {
   "cell_type": "code",
   "execution_count": 30,
   "metadata": {},
   "outputs": [
    {
     "data": {
      "text/plain": "<IPython.core.display.Latex object>",
      "text/latex": "$\\textbf{Question 3: }$ One of the most powerful methods to (potentially) improve predictions is to combine predictions by some \"averaging\". This is called $\\textit{ensemble learning}$. Let us consider the following procedure: for every day $d$, you 3 predicted labels: for $W = 2$, $W = 3$, and $W = 4$. Let us compute an \"ensemble\" label for day $d$ by taking the majority of your labels for that day. For example, if your predicted labels were \"-\", \"-\", and \"+\", then we would take \"-\" as the ensemble label for day $d$ (the majority of the three labels is \"-\"). If, on the other hand, your predicted labels were \"-\", \"+\", and \"+\", then we would take \"+\" as the ensemble label for day $d$ (the majority of the predicted labels is \"+\"). Compute such ensemble labels and answer the following:"
     },
     "execution_count": 30,
     "metadata": {},
     "output_type": "execute_result"
    }
   ],
   "source": [
    "Latex(\n",
    "    r'$\\textbf{Question 3: }$ One of the most powerful methods to (potentially) improve predictions is to combine predictions by some \"averaging\". This is called $\\textit{ensemble learning}$. Let us consider the following procedure: for every day $d$, you 3 predicted labels: for $W = 2$, $W = 3$, and $W = 4$. Let us compute an \"ensemble\" label for day $d$ by taking the majority of your labels for that day. For example, if your predicted labels were \"-\", \"-\", and \"+\", then we would take \"-\" as the ensemble label for day $d$ (the majority of the three labels is \"-\"). If, on the other hand, your predicted labels were \"-\", \"+\", and \"+\", then we would take \"+\" as the ensemble label for day $d$ (the majority of the predicted labels is \"+\"). Compute such ensemble labels and answer the following:'\n",
    ")"
   ]
  },
  {
   "cell_type": "code",
   "execution_count": 31,
   "metadata": {},
   "outputs": [
    {
     "data": {
      "text/plain": "<IPython.core.display.Latex object>",
      "text/latex": " 1. Compute ensemble labels for year 4 and 5 for both your stock and S&P-500."
     },
     "execution_count": 31,
     "metadata": {},
     "output_type": "execute_result"
    }
   ],
   "source": [
    "Latex(\n",
    "    r' 1. Compute ensemble labels for year 4 and 5 for both your stock and S&P-500.'\n",
    ")"
   ]
  },
  {
   "cell_type": "code",
   "execution_count": 32,
   "outputs": [
    {
     "name": "stdout",
     "output_type": "stream",
     "text": [
      "0      NaN\n",
      "1      NaN\n",
      "2      NaN\n",
      "3      NaN\n",
      "4        +\n",
      "      ... \n",
      "499      +\n",
      "500      -\n",
      "501      +\n",
      "502      +\n",
      "503      +\n",
      "Name: Ensemble, Length: 504, dtype: object\n",
      "0      NaN\n",
      "1      NaN\n",
      "2      NaN\n",
      "3      NaN\n",
      "4        +\n",
      "      ... \n",
      "499      +\n",
      "500      -\n",
      "501      +\n",
      "502      +\n",
      "503      +\n",
      "Name: Ensemble, Length: 504, dtype: object\n"
     ]
    }
   ],
   "source": [
    "w_cols: list[str] = [\"W2\", \"W3\", \"W4\"]\n",
    "\n",
    "# Compute ensemble labels for year 4 and 5 of SONY.\n",
    "compute_ensemble(sony_testing_table, w_cols)\n",
    "sony_ensemble_row: Series = sony_testing_table[ENSEMBLE_KEY].transpose()\n",
    "print(sony_ensemble_row)\n",
    "\n",
    "# Compute ensemble labels for year 4 and 5 of S&P-500.\n",
    "compute_ensemble(spy_testing_table, w_cols)\n",
    "spy_ensemble_row: Series = spy_testing_table[ENSEMBLE_KEY].transpose()\n",
    "print(spy_ensemble_row)"
   ],
   "metadata": {
    "collapsed": false
   }
  },
  {
   "cell_type": "code",
   "execution_count": 33,
   "metadata": {},
   "outputs": [
    {
     "data": {
      "text/plain": "<IPython.core.display.Latex object>",
      "text/latex": " 2. For both S&P-500 and your ticker, what percentage of labels in year $4$ and $5$ do you compute correctly by using ensemble?"
     },
     "execution_count": 33,
     "metadata": {},
     "output_type": "execute_result"
    }
   ],
   "source": [
    "Latex(\n",
    "    r' 2. For both S&P-500 and your ticker, what percentage of labels in year $4$ and $5$ do you compute correctly by using ensemble?'\n",
    ")"
   ]
  },
  {
   "cell_type": "code",
   "execution_count": 34,
   "outputs": [
    {
     "name": "stdout",
     "output_type": "stream",
     "text": [
      "0      NaN\n",
      "1      NaN\n",
      "2      NaN\n",
      "3      NaN\n",
      "4        +\n",
      "      ... \n",
      "499      +\n",
      "500      -\n",
      "501      +\n",
      "502      +\n",
      "503      +\n",
      "Name: Ensemble, Length: 504, dtype: object\n",
      "Ensemble accuracy for SONY: 58.40%\n",
      "Ensemble accuracy for S&P-500: 59.00%\n"
     ]
    }
   ],
   "source": [
    "# Compute ensemble labels for year 4 and 5 of S&P-500.\n",
    "compute_ensemble(spy_testing_table, w_cols)\n",
    "spy_ensemble_row: Series = spy_testing_table[ENSEMBLE_KEY].transpose()\n",
    "print(spy_ensemble_row)\n",
    "\n",
    "# Compute the accuracy of the ensemble column for SONY.\n",
    "prediction_accuracy(sony_testing_table, ENSEMBLE_KEY)\n",
    "sony_ensemble_accuracy: float = sony_testing_table.attrs[f'{ENSEMBLE_KEY}*']\n",
    "print(f\"Ensemble accuracy for SONY: {float_to_percentage(sony_ensemble_accuracy)}\")\n",
    "\n",
    "# Compute the accuracy of the ensemble column for S&P-500.\n",
    "prediction_accuracy(spy_testing_table, ENSEMBLE_KEY)\n",
    "spy_ensemble_accuracy: float = spy_testing_table.attrs[f'{ENSEMBLE_KEY}*']\n",
    "print(\n",
    "    f\"Ensemble accuracy for S&P-500: {float_to_percentage(spy_ensemble_accuracy)}\"\n",
    ")"
   ],
   "metadata": {
    "collapsed": false
   }
  },
  {
   "cell_type": "code",
   "execution_count": 35,
   "metadata": {},
   "outputs": [
    {
     "data": {
      "text/plain": "<IPython.core.display.Latex object>",
      "text/latex": " 3. Did you improve your accuracy on predicting $\\negative$ labels by using ensemble compared to $W = 2, 3, 4$?"
     },
     "execution_count": 35,
     "metadata": {},
     "output_type": "execute_result"
    }
   ],
   "source": [
    "Latex(\n",
    "    r' 3. Did you improve your accuracy on predicting $\\negative$ labels by using ensemble compared to $W = 2, 3, 4$?'\n",
    ")"
   ]
  },
  {
   "cell_type": "code",
   "execution_count": 36,
   "outputs": [
    {
     "name": "stdout",
     "output_type": "stream",
     "text": [
      "SONY Ensemble accuracy for '-': 0.106\n",
      "SONY W accuracy for '-': 0.1131114716118891\n",
      "W for SONY had better accuracy than Ensemble for negative '-'.\n"
     ]
    }
   ],
   "source": [
    "w_negative_keys: list[str] = [f\"W{w}-*\" for w in w_list]\n",
    "\n",
    "# Compute the prediction accuracy for negatives in SONY.\n",
    "w_prediction_accuracy(sony_testing_table, w_list, ('-',))\n",
    "sony_negative_accuracies = {\n",
    "    key: sony_testing_table.attrs[key] for key in w_negative_keys\n",
    "}\n",
    "prediction_accuracy(sony_testing_table, ENSEMBLE_KEY, ('-',))\n",
    "\n",
    "# Compare '-' accuracies.\n",
    "sony_ensemble_negative_accuracy: float = \\\n",
    "    sony_testing_table.attrs[f\"{ENSEMBLE_KEY}-*\"]\n",
    "sony_w_negative_accuracy: float = mean(list(sony_negative_accuracies.values()))\n",
    "\n",
    "print(f\"SONY Ensemble accuracy for '-': {sony_ensemble_negative_accuracy}\")\n",
    "print(f\"SONY W accuracy for '-': {sony_w_negative_accuracy}\")\n",
    "if sony_ensemble_negative_accuracy >= sony_w_negative_accuracy:\n",
    "    print(\"Ensemble for SONY had better accuracy than W for negative '-'.\")\n",
    "else:\n",
    "    print(\"W for SONY had better accuracy than Ensemble for negative '-'.\")"
   ],
   "metadata": {
    "collapsed": false
   }
  },
  {
   "cell_type": "code",
   "execution_count": 37,
   "metadata": {},
   "outputs": [
    {
     "data": {
      "text/plain": "<IPython.core.display.Latex object>",
      "text/latex": " 4. Did you improve your accuracy on predicting $\\positive$ labels by using ensemble compared to $W = 2, 3, 4$?"
     },
     "execution_count": 37,
     "metadata": {},
     "output_type": "execute_result"
    }
   ],
   "source": [
    "Latex(\n",
    "    r' 4. Did you improve your accuracy on predicting $\\positive$ labels by using ensemble compared to $W = 2, 3, 4$?'\n",
    ")"
   ]
  },
  {
   "cell_type": "code",
   "execution_count": 38,
   "outputs": [
    {
     "name": "stdout",
     "output_type": "stream",
     "text": [
      "SONY Ensemble accuracy for '+': 0.478\n",
      "SONY W accuracy for '+': 0.4610869734634317\n",
      "Ensemble for SONY had better accuracy than W for positive '+'.\n"
     ]
    }
   ],
   "source": [
    "w_positive_keys: list[str] = [f\"W{w}+*\" for w in w_list]\n",
    "\n",
    "# Compute the prediction accuracy for positives in SONY.\n",
    "w_prediction_accuracy(sony_testing_table, w_list, ('+',))\n",
    "sony_positive_accuracies = {\n",
    "    key: sony_testing_table.attrs[key] for key in w_positive_keys\n",
    "}\n",
    "prediction_accuracy(sony_testing_table, ENSEMBLE_KEY, ('+',))\n",
    "\n",
    "# Compare '+' accuracies.\n",
    "sony_ensemble_positive_accuracy: float = \\\n",
    "    sony_testing_table.attrs[f\"{ENSEMBLE_KEY}+*\"]\n",
    "sony_w_positive_accuracy: float = mean(list(sony_positive_accuracies.values()))\n",
    "\n",
    "print(f\"SONY Ensemble accuracy for '+': {sony_ensemble_positive_accuracy}\")\n",
    "print(f\"SONY W accuracy for '+': {sony_w_positive_accuracy}\")\n",
    "if sony_ensemble_positive_accuracy >= sony_w_positive_accuracy:\n",
    "    print(\"Ensemble for SONY had better accuracy than W for positive '+'.\")\n",
    "else:\n",
    "    print(\"W for SONY had better accuracy than Ensemble for positive '+'.\")"
   ],
   "metadata": {
    "collapsed": false
   }
  },
  {
   "cell_type": "code",
   "execution_count": 39,
   "metadata": {},
   "outputs": [
    {
     "data": {
      "text/plain": "<IPython.core.display.Latex object>",
      "text/latex": "$\\textbf{Question 4: }$ For $W = 2, 3, 4$ and ensemble, compute the following (both for your ticker and \"SPY\") statistics based upon years $4$ and $5$:"
     },
     "execution_count": 39,
     "metadata": {},
     "output_type": "execute_result"
    }
   ],
   "source": [
    "Latex(\n",
    "    r'$\\textbf{Question 4: }$ For $W = 2, 3, 4$ and ensemble, compute the following (both for your ticker and \"SPY\") statistics based upon years $4$ and $5$:'\n",
    ")"
   ]
  },
  {
   "cell_type": "code",
   "execution_count": 40,
   "metadata": {},
   "outputs": [
    {
     "data": {
      "text/plain": "<IPython.core.display.Latex object>",
      "text/latex": " 1. TP - true positives (your predicted label is $\\positive$ and true label is $\\positive$.\n 2. FP - false positives (your predicted label is $\\positive$ but true label is $\\negative$.\n 3. TN - true negatives (your predicted label is $\\negative$ but true label is $\\negative$.\n 4. FN - false negatives (your predicted label is $\\negative$ but true label is $\\positive$.\n 5. TNR = TP/(TP + FN) - true positive rate. This is the fraction of positive labels that you predicted correctly. This is also called sensitivity, recall, or hit rate.\n 6. TNR = TN/(TN + FP) - true negative rate. This is the fraction of negative labels that you predicted correctly. This is also called specificity or selectivity."
     },
     "execution_count": 40,
     "metadata": {},
     "output_type": "execute_result"
    }
   ],
   "source": [
    "Latex(\n",
    "    r' 1. TP - true positives (your predicted label is $\\positive$ and true label is $\\positive$.'\n",
    "    \"\\n\"\n",
    "    r' 2. FP - false positives (your predicted label is $\\positive$ but true label is $\\negative$.'\n",
    "    \"\\n\"\n",
    "    r' 3. TN - true negatives (your predicted label is $\\negative$ but true label is $\\negative$.'\n",
    "    \"\\n\"\n",
    "    r' 4. FN - false negatives (your predicted label is $\\negative$ but true label is $\\positive$.'\n",
    "    \"\\n\"\n",
    "    r' 5. TNR = TP/(TP + FN) - true positive rate. This is the fraction of positive labels that you predicted correctly. This is also called sensitivity, recall, or hit rate.'\n",
    "    \"\\n\"\n",
    "    r' 6. TNR = TN/(TN + FP) - true negative rate. This is the fraction of negative labels that you predicted correctly. This is also called specificity or selectivity.'\n",
    ")"
   ]
  },
  {
   "cell_type": "code",
   "execution_count": 41,
   "outputs": [
    {
     "data": {
      "text/plain": "<IPython.core.display.Latex object>",
      "text/latex": " 7. Summarize your findings in the table below."
     },
     "execution_count": 41,
     "metadata": {},
     "output_type": "execute_result"
    }
   ],
   "source": [
    "Latex(\n",
    "    r' 7. Summarize your findings in the table below.'\n",
    ")"
   ],
   "metadata": {
    "collapsed": false
   }
  },
  {
   "cell_type": "code",
   "execution_count": 42,
   "outputs": [],
   "source": [
    "w_keys: list[str] = [\"W2\", \"W3\", \"W4\", ENSEMBLE_KEY]\n",
    "\n",
    "# Get statistics for all W labels in S&P-500 stock data table.\n",
    "spy_statistics_table: DataFrame = DataFrame([\n",
    "    get_statistics(\n",
    "        df=spy_testing_table,\n",
    "        column=w_key,\n",
    "        accuracy=spy_testing_table.attrs[f\"{w_key}*\"],\n",
    "        ticker=SPY_TICKER\n",
    "    )\n",
    "    for w_key in w_keys\n",
    "])\n",
    "\n",
    "# Get statistics for all W labels in SONY stock data table.\n",
    "sony_statistics_table: DataFrame = DataFrame([\n",
    "    get_statistics(\n",
    "        df=sony_testing_table,\n",
    "        column=w_key,\n",
    "        accuracy=sony_testing_table.attrs[f\"{w_key}*\"],\n",
    "        ticker=SONY_TICKER\n",
    "    )\n",
    "    for w_key in w_keys\n",
    "])\n",
    "\n",
    "# Build the prediction results statistics table.\n",
    "statistics_table: DataFrame = pd.concat(\n",
    "    [spy_statistics_table, sony_statistics_table]\n",
    ").reset_index(drop=True)"
   ],
   "metadata": {
    "collapsed": false
   }
  },
  {
   "cell_type": "code",
   "execution_count": 43,
   "outputs": [
    {
     "data": {
      "text/plain": "<IPython.core.display.HTML object>",
      "text/html": "<style type=\"text/css\">\n</style>\n<table id=\"T_42811\">\n  <caption>Table 3: Prediction Results for W = 1, 2, 3 and ensemble</caption>\n  <thead>\n    <tr>\n      <th class=\"blank level0\" >&nbsp;</th>\n      <th id=\"T_42811_level0_col0\" class=\"col_heading level0 col0\" >W</th>\n      <th id=\"T_42811_level0_col1\" class=\"col_heading level0 col1\" >ticker</th>\n      <th id=\"T_42811_level0_col2\" class=\"col_heading level0 col2\" >TP</th>\n      <th id=\"T_42811_level0_col3\" class=\"col_heading level0 col3\" >FP</th>\n      <th id=\"T_42811_level0_col4\" class=\"col_heading level0 col4\" >TN</th>\n      <th id=\"T_42811_level0_col5\" class=\"col_heading level0 col5\" >FN</th>\n      <th id=\"T_42811_level0_col6\" class=\"col_heading level0 col6\" >accuracy</th>\n      <th id=\"T_42811_level0_col7\" class=\"col_heading level0 col7\" >TPR</th>\n      <th id=\"T_42811_level0_col8\" class=\"col_heading level0 col8\" >TNR</th>\n    </tr>\n  </thead>\n  <tbody>\n    <tr>\n      <th id=\"T_42811_level0_row0\" class=\"row_heading level0 row0\" >0</th>\n      <td id=\"T_42811_row0_col0\" class=\"data row0 col0\" >W2</td>\n      <td id=\"T_42811_row0_col1\" class=\"data row0 col1\" >SPY</td>\n      <td id=\"T_42811_row0_col2\" class=\"data row0 col2\" >294</td>\n      <td id=\"T_42811_row0_col3\" class=\"data row0 col3\" >208</td>\n      <td id=\"T_42811_row0_col4\" class=\"data row0 col4\" >0</td>\n      <td id=\"T_42811_row0_col5\" class=\"data row0 col5\" >0</td>\n      <td id=\"T_42811_row0_col6\" class=\"data row0 col6\" >0.585657</td>\n      <td id=\"T_42811_row0_col7\" class=\"data row0 col7\" >1.000000</td>\n      <td id=\"T_42811_row0_col8\" class=\"data row0 col8\" >0.000000</td>\n    </tr>\n    <tr>\n      <th id=\"T_42811_level0_row1\" class=\"row_heading level0 row1\" >1</th>\n      <td id=\"T_42811_row1_col0\" class=\"data row1 col0\" >W3</td>\n      <td id=\"T_42811_row1_col1\" class=\"data row1 col1\" >SPY</td>\n      <td id=\"T_42811_row1_col2\" class=\"data row1 col2\" >271</td>\n      <td id=\"T_42811_row1_col3\" class=\"data row1 col3\" >183</td>\n      <td id=\"T_42811_row1_col4\" class=\"data row1 col4\" >25</td>\n      <td id=\"T_42811_row1_col5\" class=\"data row1 col5\" >22</td>\n      <td id=\"T_42811_row1_col6\" class=\"data row1 col6\" >0.590818</td>\n      <td id=\"T_42811_row1_col7\" class=\"data row1 col7\" >0.924915</td>\n      <td id=\"T_42811_row1_col8\" class=\"data row1 col8\" >0.120192</td>\n    </tr>\n    <tr>\n      <th id=\"T_42811_level0_row2\" class=\"row_heading level0 row2\" >2</th>\n      <td id=\"T_42811_row2_col0\" class=\"data row2 col0\" >W4</td>\n      <td id=\"T_42811_row2_col1\" class=\"data row2 col1\" >SPY</td>\n      <td id=\"T_42811_row2_col2\" class=\"data row2 col2\" >212</td>\n      <td id=\"T_42811_row2_col3\" class=\"data row2 col3\" >117</td>\n      <td id=\"T_42811_row2_col4\" class=\"data row2 col4\" >91</td>\n      <td id=\"T_42811_row2_col5\" class=\"data row2 col5\" >80</td>\n      <td id=\"T_42811_row2_col6\" class=\"data row2 col6\" >0.606000</td>\n      <td id=\"T_42811_row2_col7\" class=\"data row2 col7\" >0.726027</td>\n      <td id=\"T_42811_row2_col8\" class=\"data row2 col8\" >0.437500</td>\n    </tr>\n    <tr>\n      <th id=\"T_42811_level0_row3\" class=\"row_heading level0 row3\" >3</th>\n      <td id=\"T_42811_row3_col0\" class=\"data row3 col0\" >Ensemble</td>\n      <td id=\"T_42811_row3_col1\" class=\"data row3 col1\" >SPY</td>\n      <td id=\"T_42811_row3_col2\" class=\"data row3 col2\" >270</td>\n      <td id=\"T_42811_row3_col3\" class=\"data row3 col3\" >183</td>\n      <td id=\"T_42811_row3_col4\" class=\"data row3 col4\" >25</td>\n      <td id=\"T_42811_row3_col5\" class=\"data row3 col5\" >22</td>\n      <td id=\"T_42811_row3_col6\" class=\"data row3 col6\" >0.590000</td>\n      <td id=\"T_42811_row3_col7\" class=\"data row3 col7\" >0.924658</td>\n      <td id=\"T_42811_row3_col8\" class=\"data row3 col8\" >0.120192</td>\n    </tr>\n    <tr>\n      <th id=\"T_42811_level0_row4\" class=\"row_heading level0 row4\" >4</th>\n      <td id=\"T_42811_row4_col0\" class=\"data row4 col0\" >W2</td>\n      <td id=\"T_42811_row4_col1\" class=\"data row4 col1\" >SONY</td>\n      <td id=\"T_42811_row4_col2\" class=\"data row4 col2\" >216</td>\n      <td id=\"T_42811_row4_col3\" class=\"data row4 col3\" >152</td>\n      <td id=\"T_42811_row4_col4\" class=\"data row4 col4\" >68</td>\n      <td id=\"T_42811_row4_col5\" class=\"data row4 col5\" >66</td>\n      <td id=\"T_42811_row4_col6\" class=\"data row4 col6\" >0.565737</td>\n      <td id=\"T_42811_row4_col7\" class=\"data row4 col7\" >0.765957</td>\n      <td id=\"T_42811_row4_col8\" class=\"data row4 col8\" >0.309091</td>\n    </tr>\n    <tr>\n      <th id=\"T_42811_level0_row5\" class=\"row_heading level0 row5\" >5</th>\n      <td id=\"T_42811_row5_col0\" class=\"data row5 col0\" >W3</td>\n      <td id=\"T_42811_row5_col1\" class=\"data row5 col1\" >SONY</td>\n      <td id=\"T_42811_row5_col2\" class=\"data row5 col2\" >255</td>\n      <td id=\"T_42811_row5_col3\" class=\"data row5 col3\" >189</td>\n      <td id=\"T_42811_row5_col4\" class=\"data row5 col4\" >31</td>\n      <td id=\"T_42811_row5_col5\" class=\"data row5 col5\" >26</td>\n      <td id=\"T_42811_row5_col6\" class=\"data row5 col6\" >0.570858</td>\n      <td id=\"T_42811_row5_col7\" class=\"data row5 col7\" >0.907473</td>\n      <td id=\"T_42811_row5_col8\" class=\"data row5 col8\" >0.140909</td>\n    </tr>\n    <tr>\n      <th id=\"T_42811_level0_row6\" class=\"row_heading level0 row6\" >6</th>\n      <td id=\"T_42811_row6_col0\" class=\"data row6 col0\" >W4</td>\n      <td id=\"T_42811_row6_col1\" class=\"data row6 col1\" >SONY</td>\n      <td id=\"T_42811_row6_col2\" class=\"data row6 col2\" >222</td>\n      <td id=\"T_42811_row6_col3\" class=\"data row6 col3\" >149</td>\n      <td id=\"T_42811_row6_col4\" class=\"data row6 col4\" >71</td>\n      <td id=\"T_42811_row6_col5\" class=\"data row6 col5\" >58</td>\n      <td id=\"T_42811_row6_col6\" class=\"data row6 col6\" >0.586000</td>\n      <td id=\"T_42811_row6_col7\" class=\"data row6 col7\" >0.792857</td>\n      <td id=\"T_42811_row6_col8\" class=\"data row6 col8\" >0.322727</td>\n    </tr>\n    <tr>\n      <th id=\"T_42811_level0_row7\" class=\"row_heading level0 row7\" >7</th>\n      <td id=\"T_42811_row7_col0\" class=\"data row7 col0\" >Ensemble</td>\n      <td id=\"T_42811_row7_col1\" class=\"data row7 col1\" >SONY</td>\n      <td id=\"T_42811_row7_col2\" class=\"data row7 col2\" >239</td>\n      <td id=\"T_42811_row7_col3\" class=\"data row7 col3\" >167</td>\n      <td id=\"T_42811_row7_col4\" class=\"data row7 col4\" >53</td>\n      <td id=\"T_42811_row7_col5\" class=\"data row7 col5\" >41</td>\n      <td id=\"T_42811_row7_col6\" class=\"data row7 col6\" >0.584000</td>\n      <td id=\"T_42811_row7_col7\" class=\"data row7 col7\" >0.853571</td>\n      <td id=\"T_42811_row7_col8\" class=\"data row7 col8\" >0.240909</td>\n    </tr>\n  </tbody>\n</table>\n"
     },
     "metadata": {},
     "output_type": "display_data"
    }
   ],
   "source": [
    "show_table(Styler(data=statistics_table, caption=\"Table 3: Prediction Results for W = 1, 2, 3 and ensemble\"), max_rows=20)"
   ],
   "metadata": {
    "collapsed": false
   }
  },
  {
   "cell_type": "code",
   "execution_count": 44,
   "metadata": {},
   "outputs": [
    {
     "data": {
      "text/plain": "<IPython.core.display.Latex object>",
      "text/latex": " 8. Discuss your findings."
     },
     "execution_count": 44,
     "metadata": {},
     "output_type": "execute_result"
    }
   ],
   "source": [
    "Latex(\n",
    "    r' 8. Discuss your findings.'\n",
    ")"
   ]
  },
  {
   "cell_type": "code",
   "execution_count": 45,
   "outputs": [
    {
     "data": {
      "text/plain": "<IPython.core.display.Latex object>",
      "text/latex": " Discussion: After viewing an overview of each prediction method, it stands out that W4 has the highest accuracy, but is very close to ensemble. Also, the ensemble recall is very high for both. W3 also has high recall for each and the recall starts to dip going into W4, so that is an interesting observation."
     },
     "execution_count": 45,
     "metadata": {},
     "output_type": "execute_result"
    }
   ],
   "source": [
    "Latex(\n",
    "    r' Discussion: After viewing an overview of each prediction method, it stands out that W4 has the highest accuracy, but is very close to ensemble. Also, the ensemble recall is very high for both. W3 also has high recall for each and the recall starts to dip going into W4, so that is an interesting observation.'\n",
    ")"
   ],
   "metadata": {
    "collapsed": false
   }
  },
  {
   "cell_type": "code",
   "execution_count": 46,
   "metadata": {},
   "outputs": [
    {
     "data": {
      "text/plain": "<IPython.core.display.Latex object>",
      "text/latex": "$\\textbf{Question 5: }$ At the beginning of year $4$, you start with \\$100 dollars and trade for 2 years based upon predicted labels."
     },
     "execution_count": 46,
     "metadata": {},
     "output_type": "execute_result"
    }
   ],
   "source": [
    "Latex(\n",
    "    rf'$\\textbf{{Question 5: }}$ At the beginning of year $4$, you start with \\$100 dollars and trade for 2 years based upon predicted labels.'\n",
    ")"
   ]
  },
  {
   "cell_type": "code",
   "execution_count": 47,
   "metadata": {},
   "outputs": [
    {
     "data": {
      "text/plain": "<IPython.core.display.Latex object>",
      "text/latex": " 1. Take your stock. Plot the growth of your amount for 2 years if you trade based on the best $W^*$ and on ensemble. On the same graph, plot the growth of your portfolio for the \"buy-and-hold\" strategy."
     },
     "execution_count": 47,
     "metadata": {},
     "output_type": "execute_result"
    }
   ],
   "source": [
    "Latex(\n",
    "    r' 1. Take your stock. Plot the growth of your amount for 2 years if you trade based on the best $W^*$ and on ensemble. On the same graph, plot the growth of your portfolio for the \"buy-and-hold\" strategy.'\n",
    ")"
   ]
  },
  {
   "cell_type": "code",
   "execution_count": 48,
   "outputs": [],
   "source": [
    "initial_investment: float = 100.0\n",
    "\n",
    "# Buy and hold for SONY.\n",
    "buy_and_hold(sony_testing_table, column=BUY_AND_HOLD_KEY)\n",
    "\n",
    "# Buy from the predictions made by the ensemble method.\n",
    "buy_from_prediction(\n",
    "    sony_testing_table, column=ENSEMBLE_ORACLE_KEY, prediction_column=ENSEMBLE_KEY\n",
    ")\n",
    "\n",
    "# Buy from the predictions made by the best W* method.\n",
    "buy_from_prediction(\n",
    "    sony_testing_table, column=W_ORACLE, prediction_column=sony_highest_accuracy[0].replace('*', '')\n",
    ")"
   ],
   "metadata": {
    "collapsed": false
   }
  },
  {
   "cell_type": "code",
   "execution_count": 49,
   "outputs": [
    {
     "data": {
      "text/plain": "<Figure size 640x480 with 1 Axes>",
      "image/svg+xml": "<?xml version=\"1.0\" encoding=\"utf-8\" standalone=\"no\"?>\n<!DOCTYPE svg PUBLIC \"-//W3C//DTD SVG 1.1//EN\"\n  \"http://www.w3.org/Graphics/SVG/1.1/DTD/svg11.dtd\">\n<svg xmlns:xlink=\"http://www.w3.org/1999/xlink\" width=\"395.630946pt\" height=\"301.286512pt\" viewBox=\"0 0 395.630946 301.286512\" xmlns=\"http://www.w3.org/2000/svg\" version=\"1.1\">\n <metadata>\n  <rdf:RDF xmlns:dc=\"http://purl.org/dc/elements/1.1/\" xmlns:cc=\"http://creativecommons.org/ns#\" xmlns:rdf=\"http://www.w3.org/1999/02/22-rdf-syntax-ns#\">\n   <cc:Work>\n    <dc:type rdf:resource=\"http://purl.org/dc/dcmitype/StillImage\"/>\n    <dc:date>2023-03-29T15:00:50.556158</dc:date>\n    <dc:format>image/svg+xml</dc:format>\n    <dc:creator>\n     <cc:Agent>\n      <dc:title>Matplotlib v3.7.1, https://matplotlib.org/</dc:title>\n     </cc:Agent>\n    </dc:creator>\n   </cc:Work>\n  </rdf:RDF>\n </metadata>\n <defs>\n  <style type=\"text/css\">*{stroke-linejoin: round; stroke-linecap: butt}</style>\n </defs>\n <g id=\"figure_1\">\n  <g id=\"patch_1\">\n   <path d=\"M 0 301.286512 \nL 395.630946 301.286512 \nL 395.630946 0 \nL 0 0 \nz\n\" style=\"fill: #ffffff\"/>\n  </g>\n  <g id=\"axes_1\">\n   <g id=\"patch_2\">\n    <path d=\"M 53.328125 242.208 \nL 385.104125 242.208 \nL 385.104125 7.2 \nL 53.328125 7.2 \nz\n\" style=\"fill: #ffffff\"/>\n   </g>\n   <g id=\"PolyCollection_1\"/>\n   <g id=\"PolyCollection_2\"/>\n   <g id=\"PolyCollection_3\"/>\n   <g id=\"matplotlib.axis_1\">\n    <g id=\"xtick_1\">\n     <g id=\"line2d_1\">\n      <defs>\n       <path id=\"m7737e93bd3\" d=\"M 0 0 \nL 0 3.5 \n\" style=\"stroke: #000000; stroke-width: 0.8\"/>\n      </defs>\n      <g>\n       <use xlink:href=\"#m7737e93bd3\" x=\"67.994547\" y=\"242.208\" style=\"stroke: #000000; stroke-width: 0.8\"/>\n      </g>\n     </g>\n     <g id=\"text_1\">\n      <!-- Jan -->\n      <g transform=\"translate(59.808858 265.492167) rotate(-25) scale(0.1 -0.1)\">\n       <defs>\n        <path id=\"DejaVuSans-4a\" d=\"M 628 4666 \nL 1259 4666 \nL 1259 325 \nQ 1259 -519 939 -900 \nQ 619 -1281 -91 -1281 \nL -331 -1281 \nL -331 -750 \nL -134 -750 \nQ 284 -750 456 -515 \nQ 628 -281 628 325 \nL 628 4666 \nz\n\" transform=\"scale(0.015625)\"/>\n        <path id=\"DejaVuSans-61\" d=\"M 2194 1759 \nQ 1497 1759 1228 1600 \nQ 959 1441 959 1056 \nQ 959 750 1161 570 \nQ 1363 391 1709 391 \nQ 2188 391 2477 730 \nQ 2766 1069 2766 1631 \nL 2766 1759 \nL 2194 1759 \nz\nM 3341 1997 \nL 3341 0 \nL 2766 0 \nL 2766 531 \nQ 2569 213 2275 61 \nQ 1981 -91 1556 -91 \nQ 1019 -91 701 211 \nQ 384 513 384 1019 \nQ 384 1609 779 1909 \nQ 1175 2209 1959 2209 \nL 2766 2209 \nL 2766 2266 \nQ 2766 2663 2505 2880 \nQ 2244 3097 1772 3097 \nQ 1472 3097 1187 3025 \nQ 903 2953 641 2809 \nL 641 3341 \nQ 956 3463 1253 3523 \nQ 1550 3584 1831 3584 \nQ 2591 3584 2966 3190 \nQ 3341 2797 3341 1997 \nz\n\" transform=\"scale(0.015625)\"/>\n        <path id=\"DejaVuSans-6e\" d=\"M 3513 2113 \nL 3513 0 \nL 2938 0 \nL 2938 2094 \nQ 2938 2591 2744 2837 \nQ 2550 3084 2163 3084 \nQ 1697 3084 1428 2787 \nQ 1159 2491 1159 1978 \nL 1159 0 \nL 581 0 \nL 581 3500 \nL 1159 3500 \nL 1159 2956 \nQ 1366 3272 1645 3428 \nQ 1925 3584 2291 3584 \nQ 2894 3584 3203 3211 \nQ 3513 2838 3513 2113 \nz\n\" transform=\"scale(0.015625)\"/>\n       </defs>\n       <use xlink:href=\"#DejaVuSans-4a\"/>\n       <use xlink:href=\"#DejaVuSans-61\" x=\"29.492188\"/>\n       <use xlink:href=\"#DejaVuSans-6e\" x=\"90.771484\"/>\n      </g>\n      <!-- -2019 -->\n      <g transform=\"translate(58.359248 278.52355) rotate(-25) scale(0.1 -0.1)\">\n       <defs>\n        <path id=\"DejaVuSans-2d\" d=\"M 313 2009 \nL 1997 2009 \nL 1997 1497 \nL 313 1497 \nL 313 2009 \nz\n\" transform=\"scale(0.015625)\"/>\n        <path id=\"DejaVuSans-32\" d=\"M 1228 531 \nL 3431 531 \nL 3431 0 \nL 469 0 \nL 469 531 \nQ 828 903 1448 1529 \nQ 2069 2156 2228 2338 \nQ 2531 2678 2651 2914 \nQ 2772 3150 2772 3378 \nQ 2772 3750 2511 3984 \nQ 2250 4219 1831 4219 \nQ 1534 4219 1204 4116 \nQ 875 4013 500 3803 \nL 500 4441 \nQ 881 4594 1212 4672 \nQ 1544 4750 1819 4750 \nQ 2544 4750 2975 4387 \nQ 3406 4025 3406 3419 \nQ 3406 3131 3298 2873 \nQ 3191 2616 2906 2266 \nQ 2828 2175 2409 1742 \nQ 1991 1309 1228 531 \nz\n\" transform=\"scale(0.015625)\"/>\n        <path id=\"DejaVuSans-30\" d=\"M 2034 4250 \nQ 1547 4250 1301 3770 \nQ 1056 3291 1056 2328 \nQ 1056 1369 1301 889 \nQ 1547 409 2034 409 \nQ 2525 409 2770 889 \nQ 3016 1369 3016 2328 \nQ 3016 3291 2770 3770 \nQ 2525 4250 2034 4250 \nz\nM 2034 4750 \nQ 2819 4750 3233 4129 \nQ 3647 3509 3647 2328 \nQ 3647 1150 3233 529 \nQ 2819 -91 2034 -91 \nQ 1250 -91 836 529 \nQ 422 1150 422 2328 \nQ 422 3509 836 4129 \nQ 1250 4750 2034 4750 \nz\n\" transform=\"scale(0.015625)\"/>\n        <path id=\"DejaVuSans-31\" d=\"M 794 531 \nL 1825 531 \nL 1825 4091 \nL 703 3866 \nL 703 4441 \nL 1819 4666 \nL 2450 4666 \nL 2450 531 \nL 3481 531 \nL 3481 0 \nL 794 0 \nL 794 531 \nz\n\" transform=\"scale(0.015625)\"/>\n        <path id=\"DejaVuSans-39\" d=\"M 703 97 \nL 703 672 \nQ 941 559 1184 500 \nQ 1428 441 1663 441 \nQ 2288 441 2617 861 \nQ 2947 1281 2994 2138 \nQ 2813 1869 2534 1725 \nQ 2256 1581 1919 1581 \nQ 1219 1581 811 2004 \nQ 403 2428 403 3163 \nQ 403 3881 828 4315 \nQ 1253 4750 1959 4750 \nQ 2769 4750 3195 4129 \nQ 3622 3509 3622 2328 \nQ 3622 1225 3098 567 \nQ 2575 -91 1691 -91 \nQ 1453 -91 1209 -44 \nQ 966 3 703 97 \nz\nM 1959 2075 \nQ 2384 2075 2632 2365 \nQ 2881 2656 2881 3163 \nQ 2881 3666 2632 3958 \nQ 2384 4250 1959 4250 \nQ 1534 4250 1286 3958 \nQ 1038 3666 1038 3163 \nQ 1038 2656 1286 2365 \nQ 1534 2075 1959 2075 \nz\n\" transform=\"scale(0.015625)\"/>\n       </defs>\n       <use xlink:href=\"#DejaVuSans-2d\"/>\n       <use xlink:href=\"#DejaVuSans-32\" x=\"36.083984\"/>\n       <use xlink:href=\"#DejaVuSans-30\" x=\"99.707031\"/>\n       <use xlink:href=\"#DejaVuSans-31\" x=\"163.330078\"/>\n       <use xlink:href=\"#DejaVuSans-39\" x=\"226.953125\"/>\n      </g>\n     </g>\n    </g>\n    <g id=\"xtick_2\">\n     <g id=\"line2d_2\">\n      <g>\n       <use xlink:href=\"#m7737e93bd3\" x=\"105.282059\" y=\"242.208\" style=\"stroke: #000000; stroke-width: 0.8\"/>\n      </g>\n     </g>\n     <g id=\"text_2\">\n      <!-- Apr -->\n      <g transform=\"translate(96.242459 265.890352) rotate(-25) scale(0.1 -0.1)\">\n       <defs>\n        <path id=\"DejaVuSans-41\" d=\"M 2188 4044 \nL 1331 1722 \nL 3047 1722 \nL 2188 4044 \nz\nM 1831 4666 \nL 2547 4666 \nL 4325 0 \nL 3669 0 \nL 3244 1197 \nL 1141 1197 \nL 716 0 \nL 50 0 \nL 1831 4666 \nz\n\" transform=\"scale(0.015625)\"/>\n        <path id=\"DejaVuSans-70\" d=\"M 1159 525 \nL 1159 -1331 \nL 581 -1331 \nL 581 3500 \nL 1159 3500 \nL 1159 2969 \nQ 1341 3281 1617 3432 \nQ 1894 3584 2278 3584 \nQ 2916 3584 3314 3078 \nQ 3713 2572 3713 1747 \nQ 3713 922 3314 415 \nQ 2916 -91 2278 -91 \nQ 1894 -91 1617 61 \nQ 1341 213 1159 525 \nz\nM 3116 1747 \nQ 3116 2381 2855 2742 \nQ 2594 3103 2138 3103 \nQ 1681 3103 1420 2742 \nQ 1159 2381 1159 1747 \nQ 1159 1113 1420 752 \nQ 1681 391 2138 391 \nQ 2594 391 2855 752 \nQ 3116 1113 3116 1747 \nz\n\" transform=\"scale(0.015625)\"/>\n        <path id=\"DejaVuSans-72\" d=\"M 2631 2963 \nQ 2534 3019 2420 3045 \nQ 2306 3072 2169 3072 \nQ 1681 3072 1420 2755 \nQ 1159 2438 1159 1844 \nL 1159 0 \nL 581 0 \nL 581 3500 \nL 1159 3500 \nL 1159 2956 \nQ 1341 3275 1631 3429 \nQ 1922 3584 2338 3584 \nQ 2397 3584 2469 3576 \nQ 2541 3569 2628 3553 \nL 2631 2963 \nz\n\" transform=\"scale(0.015625)\"/>\n       </defs>\n       <use xlink:href=\"#DejaVuSans-41\"/>\n       <use xlink:href=\"#DejaVuSans-70\" x=\"68.408203\"/>\n       <use xlink:href=\"#DejaVuSans-72\" x=\"131.884766\"/>\n      </g>\n      <!-- -2019 -->\n      <g transform=\"translate(95.64676 278.52355) rotate(-25) scale(0.1 -0.1)\">\n       <use xlink:href=\"#DejaVuSans-2d\"/>\n       <use xlink:href=\"#DejaVuSans-32\" x=\"36.083984\"/>\n       <use xlink:href=\"#DejaVuSans-30\" x=\"99.707031\"/>\n       <use xlink:href=\"#DejaVuSans-31\" x=\"163.330078\"/>\n       <use xlink:href=\"#DejaVuSans-39\" x=\"226.953125\"/>\n      </g>\n     </g>\n    </g>\n    <g id=\"xtick_3\">\n     <g id=\"line2d_3\">\n      <g>\n       <use xlink:href=\"#m7737e93bd3\" x=\"142.983877\" y=\"242.208\" style=\"stroke: #000000; stroke-width: 0.8\"/>\n      </g>\n     </g>\n     <g id=\"text_3\">\n      <!-- Jul -->\n      <g transform=\"translate(136.316255 264.784281) rotate(-25) scale(0.1 -0.1)\">\n       <defs>\n        <path id=\"DejaVuSans-75\" d=\"M 544 1381 \nL 544 3500 \nL 1119 3500 \nL 1119 1403 \nQ 1119 906 1312 657 \nQ 1506 409 1894 409 \nQ 2359 409 2629 706 \nQ 2900 1003 2900 1516 \nL 2900 3500 \nL 3475 3500 \nL 3475 0 \nL 2900 0 \nL 2900 538 \nQ 2691 219 2414 64 \nQ 2138 -91 1772 -91 \nQ 1169 -91 856 284 \nQ 544 659 544 1381 \nz\nM 1991 3584 \nL 1991 3584 \nz\n\" transform=\"scale(0.015625)\"/>\n        <path id=\"DejaVuSans-6c\" d=\"M 603 4863 \nL 1178 4863 \nL 1178 0 \nL 603 0 \nL 603 4863 \nz\n\" transform=\"scale(0.015625)\"/>\n       </defs>\n       <use xlink:href=\"#DejaVuSans-4a\"/>\n       <use xlink:href=\"#DejaVuSans-75\" x=\"29.492188\"/>\n       <use xlink:href=\"#DejaVuSans-6c\" x=\"92.871094\"/>\n      </g>\n      <!-- -2019 -->\n      <g transform=\"translate(133.348579 278.52355) rotate(-25) scale(0.1 -0.1)\">\n       <use xlink:href=\"#DejaVuSans-2d\"/>\n       <use xlink:href=\"#DejaVuSans-32\" x=\"36.083984\"/>\n       <use xlink:href=\"#DejaVuSans-30\" x=\"99.707031\"/>\n       <use xlink:href=\"#DejaVuSans-31\" x=\"163.330078\"/>\n       <use xlink:href=\"#DejaVuSans-39\" x=\"226.953125\"/>\n      </g>\n     </g>\n    </g>\n    <g id=\"xtick_4\">\n     <g id=\"line2d_4\">\n      <g>\n       <use xlink:href=\"#m7737e93bd3\" x=\"181.100001\" y=\"242.208\" style=\"stroke: #000000; stroke-width: 0.8\"/>\n      </g>\n     </g>\n     <g id=\"text_4\">\n      <!-- Oct -->\n      <g transform=\"translate(172.064649 265.888371) rotate(-25) scale(0.1 -0.1)\">\n       <defs>\n        <path id=\"DejaVuSans-4f\" d=\"M 2522 4238 \nQ 1834 4238 1429 3725 \nQ 1025 3213 1025 2328 \nQ 1025 1447 1429 934 \nQ 1834 422 2522 422 \nQ 3209 422 3611 934 \nQ 4013 1447 4013 2328 \nQ 4013 3213 3611 3725 \nQ 3209 4238 2522 4238 \nz\nM 2522 4750 \nQ 3503 4750 4090 4092 \nQ 4678 3434 4678 2328 \nQ 4678 1225 4090 567 \nQ 3503 -91 2522 -91 \nQ 1538 -91 948 565 \nQ 359 1222 359 2328 \nQ 359 3434 948 4092 \nQ 1538 4750 2522 4750 \nz\n\" transform=\"scale(0.015625)\"/>\n        <path id=\"DejaVuSans-63\" d=\"M 3122 3366 \nL 3122 2828 \nQ 2878 2963 2633 3030 \nQ 2388 3097 2138 3097 \nQ 1578 3097 1268 2742 \nQ 959 2388 959 1747 \nQ 959 1106 1268 751 \nQ 1578 397 2138 397 \nQ 2388 397 2633 464 \nQ 2878 531 3122 666 \nL 3122 134 \nQ 2881 22 2623 -34 \nQ 2366 -91 2075 -91 \nQ 1284 -91 818 406 \nQ 353 903 353 1747 \nQ 353 2603 823 3093 \nQ 1294 3584 2113 3584 \nQ 2378 3584 2631 3529 \nQ 2884 3475 3122 3366 \nz\n\" transform=\"scale(0.015625)\"/>\n        <path id=\"DejaVuSans-74\" d=\"M 1172 4494 \nL 1172 3500 \nL 2356 3500 \nL 2356 3053 \nL 1172 3053 \nL 1172 1153 \nQ 1172 725 1289 603 \nQ 1406 481 1766 481 \nL 2356 481 \nL 2356 0 \nL 1766 0 \nQ 1100 0 847 248 \nQ 594 497 594 1153 \nL 594 3053 \nL 172 3053 \nL 172 3500 \nL 594 3500 \nL 594 4494 \nL 1172 4494 \nz\n\" transform=\"scale(0.015625)\"/>\n       </defs>\n       <use xlink:href=\"#DejaVuSans-4f\"/>\n       <use xlink:href=\"#DejaVuSans-63\" x=\"78.710938\"/>\n       <use xlink:href=\"#DejaVuSans-74\" x=\"133.691406\"/>\n      </g>\n      <!-- -2019 -->\n      <g transform=\"translate(171.464703 278.52355) rotate(-25) scale(0.1 -0.1)\">\n       <use xlink:href=\"#DejaVuSans-2d\"/>\n       <use xlink:href=\"#DejaVuSans-32\" x=\"36.083984\"/>\n       <use xlink:href=\"#DejaVuSans-30\" x=\"99.707031\"/>\n       <use xlink:href=\"#DejaVuSans-31\" x=\"163.330078\"/>\n       <use xlink:href=\"#DejaVuSans-39\" x=\"226.953125\"/>\n      </g>\n     </g>\n    </g>\n    <g id=\"xtick_5\">\n     <g id=\"line2d_5\">\n      <g>\n       <use xlink:href=\"#m7737e93bd3\" x=\"219.216125\" y=\"242.208\" style=\"stroke: #000000; stroke-width: 0.8\"/>\n      </g>\n     </g>\n     <g id=\"text_5\">\n      <!-- Jan -->\n      <g transform=\"translate(211.030437 265.492167) rotate(-25) scale(0.1 -0.1)\">\n       <use xlink:href=\"#DejaVuSans-4a\"/>\n       <use xlink:href=\"#DejaVuSans-61\" x=\"29.492188\"/>\n       <use xlink:href=\"#DejaVuSans-6e\" x=\"90.771484\"/>\n      </g>\n      <!-- -2020 -->\n      <g transform=\"translate(209.580826 278.52355) rotate(-25) scale(0.1 -0.1)\">\n       <use xlink:href=\"#DejaVuSans-2d\"/>\n       <use xlink:href=\"#DejaVuSans-32\" x=\"36.083984\"/>\n       <use xlink:href=\"#DejaVuSans-30\" x=\"99.707031\"/>\n       <use xlink:href=\"#DejaVuSans-32\" x=\"163.330078\"/>\n       <use xlink:href=\"#DejaVuSans-30\" x=\"226.953125\"/>\n      </g>\n     </g>\n    </g>\n    <g id=\"xtick_6\">\n     <g id=\"line2d_6\">\n      <g>\n       <use xlink:href=\"#m7737e93bd3\" x=\"256.917943\" y=\"242.208\" style=\"stroke: #000000; stroke-width: 0.8\"/>\n      </g>\n     </g>\n     <g id=\"text_6\">\n      <!-- Apr -->\n      <g transform=\"translate(247.878343 265.890352) rotate(-25) scale(0.1 -0.1)\">\n       <use xlink:href=\"#DejaVuSans-41\"/>\n       <use xlink:href=\"#DejaVuSans-70\" x=\"68.408203\"/>\n       <use xlink:href=\"#DejaVuSans-72\" x=\"131.884766\"/>\n      </g>\n      <!-- -2020 -->\n      <g transform=\"translate(247.282645 278.52355) rotate(-25) scale(0.1 -0.1)\">\n       <use xlink:href=\"#DejaVuSans-2d\"/>\n       <use xlink:href=\"#DejaVuSans-32\" x=\"36.083984\"/>\n       <use xlink:href=\"#DejaVuSans-30\" x=\"99.707031\"/>\n       <use xlink:href=\"#DejaVuSans-32\" x=\"163.330078\"/>\n       <use xlink:href=\"#DejaVuSans-30\" x=\"226.953125\"/>\n      </g>\n     </g>\n    </g>\n    <g id=\"xtick_7\">\n     <g id=\"line2d_7\">\n      <g>\n       <use xlink:href=\"#m7737e93bd3\" x=\"294.619761\" y=\"242.208\" style=\"stroke: #000000; stroke-width: 0.8\"/>\n      </g>\n     </g>\n     <g id=\"text_7\">\n      <!-- Jul -->\n      <g transform=\"translate(287.952139 264.784281) rotate(-25) scale(0.1 -0.1)\">\n       <use xlink:href=\"#DejaVuSans-4a\"/>\n       <use xlink:href=\"#DejaVuSans-75\" x=\"29.492188\"/>\n       <use xlink:href=\"#DejaVuSans-6c\" x=\"92.871094\"/>\n      </g>\n      <!-- -2020 -->\n      <g transform=\"translate(284.984463 278.52355) rotate(-25) scale(0.1 -0.1)\">\n       <use xlink:href=\"#DejaVuSans-2d\"/>\n       <use xlink:href=\"#DejaVuSans-32\" x=\"36.083984\"/>\n       <use xlink:href=\"#DejaVuSans-30\" x=\"99.707031\"/>\n       <use xlink:href=\"#DejaVuSans-32\" x=\"163.330078\"/>\n       <use xlink:href=\"#DejaVuSans-30\" x=\"226.953125\"/>\n      </g>\n     </g>\n    </g>\n    <g id=\"xtick_8\">\n     <g id=\"line2d_8\">\n      <g>\n       <use xlink:href=\"#m7737e93bd3\" x=\"332.735885\" y=\"242.208\" style=\"stroke: #000000; stroke-width: 0.8\"/>\n      </g>\n     </g>\n     <g id=\"text_8\">\n      <!-- Oct -->\n      <g transform=\"translate(323.700533 265.888371) rotate(-25) scale(0.1 -0.1)\">\n       <use xlink:href=\"#DejaVuSans-4f\"/>\n       <use xlink:href=\"#DejaVuSans-63\" x=\"78.710938\"/>\n       <use xlink:href=\"#DejaVuSans-74\" x=\"133.691406\"/>\n      </g>\n      <!-- -2020 -->\n      <g transform=\"translate(323.100587 278.52355) rotate(-25) scale(0.1 -0.1)\">\n       <use xlink:href=\"#DejaVuSans-2d\"/>\n       <use xlink:href=\"#DejaVuSans-32\" x=\"36.083984\"/>\n       <use xlink:href=\"#DejaVuSans-30\" x=\"99.707031\"/>\n       <use xlink:href=\"#DejaVuSans-32\" x=\"163.330078\"/>\n       <use xlink:href=\"#DejaVuSans-30\" x=\"226.953125\"/>\n      </g>\n     </g>\n    </g>\n    <g id=\"xtick_9\">\n     <g id=\"line2d_9\">\n      <g>\n       <use xlink:href=\"#m7737e93bd3\" x=\"370.852009\" y=\"242.208\" style=\"stroke: #000000; stroke-width: 0.8\"/>\n      </g>\n     </g>\n     <g id=\"text_9\">\n      <!-- Jan -->\n      <g transform=\"translate(362.666321 265.492167) rotate(-25) scale(0.1 -0.1)\">\n       <use xlink:href=\"#DejaVuSans-4a\"/>\n       <use xlink:href=\"#DejaVuSans-61\" x=\"29.492188\"/>\n       <use xlink:href=\"#DejaVuSans-6e\" x=\"90.771484\"/>\n      </g>\n      <!-- -2021 -->\n      <g transform=\"translate(361.216711 278.52355) rotate(-25) scale(0.1 -0.1)\">\n       <use xlink:href=\"#DejaVuSans-2d\"/>\n       <use xlink:href=\"#DejaVuSans-32\" x=\"36.083984\"/>\n       <use xlink:href=\"#DejaVuSans-30\" x=\"99.707031\"/>\n       <use xlink:href=\"#DejaVuSans-32\" x=\"163.330078\"/>\n       <use xlink:href=\"#DejaVuSans-31\" x=\"226.953125\"/>\n      </g>\n     </g>\n    </g>\n    <g id=\"text_10\">\n     <!-- Date -->\n     <g transform=\"translate(207.265344 292.006824) scale(0.1 -0.1)\">\n      <defs>\n       <path id=\"DejaVuSans-44\" d=\"M 1259 4147 \nL 1259 519 \nL 2022 519 \nQ 2988 519 3436 956 \nQ 3884 1394 3884 2338 \nQ 3884 3275 3436 3711 \nQ 2988 4147 2022 4147 \nL 1259 4147 \nz\nM 628 4666 \nL 1925 4666 \nQ 3281 4666 3915 4102 \nQ 4550 3538 4550 2338 \nQ 4550 1131 3912 565 \nQ 3275 0 1925 0 \nL 628 0 \nL 628 4666 \nz\n\" transform=\"scale(0.015625)\"/>\n       <path id=\"DejaVuSans-65\" d=\"M 3597 1894 \nL 3597 1613 \nL 953 1613 \nQ 991 1019 1311 708 \nQ 1631 397 2203 397 \nQ 2534 397 2845 478 \nQ 3156 559 3463 722 \nL 3463 178 \nQ 3153 47 2828 -22 \nQ 2503 -91 2169 -91 \nQ 1331 -91 842 396 \nQ 353 884 353 1716 \nQ 353 2575 817 3079 \nQ 1281 3584 2069 3584 \nQ 2775 3584 3186 3129 \nQ 3597 2675 3597 1894 \nz\nM 3022 2063 \nQ 3016 2534 2758 2815 \nQ 2500 3097 2075 3097 \nQ 1594 3097 1305 2825 \nQ 1016 2553 972 2059 \nL 3022 2063 \nz\n\" transform=\"scale(0.015625)\"/>\n      </defs>\n      <use xlink:href=\"#DejaVuSans-44\"/>\n      <use xlink:href=\"#DejaVuSans-61\" x=\"77.001953\"/>\n      <use xlink:href=\"#DejaVuSans-74\" x=\"138.28125\"/>\n      <use xlink:href=\"#DejaVuSans-65\" x=\"177.490234\"/>\n     </g>\n    </g>\n   </g>\n   <g id=\"matplotlib.axis_2\">\n    <g id=\"ytick_1\">\n     <g id=\"line2d_10\">\n      <defs>\n       <path id=\"m1867466fbc\" d=\"M 0 0 \nL -3.5 0 \n\" style=\"stroke: #000000; stroke-width: 0.8\"/>\n      </defs>\n      <g>\n       <use xlink:href=\"#m1867466fbc\" x=\"53.328125\" y=\"218.760733\" style=\"stroke: #000000; stroke-width: 0.8\"/>\n      </g>\n     </g>\n     <g id=\"text_11\">\n      <!-- $100 -->\n      <g transform=\"translate(20.878125 222.559952) scale(0.1 -0.1)\">\n       <defs>\n        <path id=\"DejaVuSans-24\" d=\"M 2163 -941 \nL 1850 -941 \nL 1847 0 \nQ 1519 6 1191 76 \nQ 863 147 531 288 \nL 531 850 \nQ 850 650 1176 548 \nQ 1503 447 1850 444 \nL 1850 1869 \nQ 1159 1981 845 2250 \nQ 531 2519 531 2988 \nQ 531 3497 872 3790 \nQ 1213 4084 1850 4128 \nL 1850 4863 \nL 2163 4863 \nL 2163 4138 \nQ 2453 4125 2725 4076 \nQ 2997 4028 3256 3944 \nL 3256 3397 \nQ 2997 3528 2723 3600 \nQ 2450 3672 2163 3684 \nL 2163 2350 \nQ 2872 2241 3206 1959 \nQ 3541 1678 3541 1191 \nQ 3541 663 3186 358 \nQ 2831 53 2163 6 \nL 2163 -941 \nz\nM 1850 2406 \nL 1850 3688 \nQ 1488 3647 1297 3481 \nQ 1106 3316 1106 3041 \nQ 1106 2772 1282 2622 \nQ 1459 2472 1850 2406 \nz\nM 2163 1806 \nL 2163 453 \nQ 2559 506 2761 678 \nQ 2963 850 2963 1131 \nQ 2963 1406 2770 1568 \nQ 2578 1731 2163 1806 \nz\n\" transform=\"scale(0.015625)\"/>\n       </defs>\n       <use xlink:href=\"#DejaVuSans-24\"/>\n       <use xlink:href=\"#DejaVuSans-31\" x=\"63.623047\"/>\n       <use xlink:href=\"#DejaVuSans-30\" x=\"127.246094\"/>\n       <use xlink:href=\"#DejaVuSans-30\" x=\"190.869141\"/>\n      </g>\n     </g>\n    </g>\n    <g id=\"ytick_2\">\n     <g id=\"line2d_11\">\n      <g>\n       <use xlink:href=\"#m1867466fbc\" x=\"53.328125\" y=\"169.456869\" style=\"stroke: #000000; stroke-width: 0.8\"/>\n      </g>\n     </g>\n     <g id=\"text_12\">\n      <!-- $150 -->\n      <g transform=\"translate(20.878125 173.256087) scale(0.1 -0.1)\">\n       <defs>\n        <path id=\"DejaVuSans-35\" d=\"M 691 4666 \nL 3169 4666 \nL 3169 4134 \nL 1269 4134 \nL 1269 2991 \nQ 1406 3038 1543 3061 \nQ 1681 3084 1819 3084 \nQ 2600 3084 3056 2656 \nQ 3513 2228 3513 1497 \nQ 3513 744 3044 326 \nQ 2575 -91 1722 -91 \nQ 1428 -91 1123 -41 \nQ 819 9 494 109 \nL 494 744 \nQ 775 591 1075 516 \nQ 1375 441 1709 441 \nQ 2250 441 2565 725 \nQ 2881 1009 2881 1497 \nQ 2881 1984 2565 2268 \nQ 2250 2553 1709 2553 \nQ 1456 2553 1204 2497 \nQ 953 2441 691 2322 \nL 691 4666 \nz\n\" transform=\"scale(0.015625)\"/>\n       </defs>\n       <use xlink:href=\"#DejaVuSans-24\"/>\n       <use xlink:href=\"#DejaVuSans-31\" x=\"63.623047\"/>\n       <use xlink:href=\"#DejaVuSans-35\" x=\"127.246094\"/>\n       <use xlink:href=\"#DejaVuSans-30\" x=\"190.869141\"/>\n      </g>\n     </g>\n    </g>\n    <g id=\"ytick_3\">\n     <g id=\"line2d_12\">\n      <g>\n       <use xlink:href=\"#m1867466fbc\" x=\"53.328125\" y=\"120.153004\" style=\"stroke: #000000; stroke-width: 0.8\"/>\n      </g>\n     </g>\n     <g id=\"text_13\">\n      <!-- $200 -->\n      <g transform=\"translate(20.878125 123.952223) scale(0.1 -0.1)\">\n       <use xlink:href=\"#DejaVuSans-24\"/>\n       <use xlink:href=\"#DejaVuSans-32\" x=\"63.623047\"/>\n       <use xlink:href=\"#DejaVuSans-30\" x=\"127.246094\"/>\n       <use xlink:href=\"#DejaVuSans-30\" x=\"190.869141\"/>\n      </g>\n     </g>\n    </g>\n    <g id=\"ytick_4\">\n     <g id=\"line2d_13\">\n      <g>\n       <use xlink:href=\"#m1867466fbc\" x=\"53.328125\" y=\"70.84914\" style=\"stroke: #000000; stroke-width: 0.8\"/>\n      </g>\n     </g>\n     <g id=\"text_14\">\n      <!-- $250 -->\n      <g transform=\"translate(20.878125 74.648359) scale(0.1 -0.1)\">\n       <use xlink:href=\"#DejaVuSans-24\"/>\n       <use xlink:href=\"#DejaVuSans-32\" x=\"63.623047\"/>\n       <use xlink:href=\"#DejaVuSans-35\" x=\"127.246094\"/>\n       <use xlink:href=\"#DejaVuSans-30\" x=\"190.869141\"/>\n      </g>\n     </g>\n    </g>\n    <g id=\"ytick_5\">\n     <g id=\"line2d_14\">\n      <g>\n       <use xlink:href=\"#m1867466fbc\" x=\"53.328125\" y=\"21.545275\" style=\"stroke: #000000; stroke-width: 0.8\"/>\n      </g>\n     </g>\n     <g id=\"text_15\">\n      <!-- $300 -->\n      <g transform=\"translate(20.878125 25.344494) scale(0.1 -0.1)\">\n       <defs>\n        <path id=\"DejaVuSans-33\" d=\"M 2597 2516 \nQ 3050 2419 3304 2112 \nQ 3559 1806 3559 1356 \nQ 3559 666 3084 287 \nQ 2609 -91 1734 -91 \nQ 1441 -91 1130 -33 \nQ 819 25 488 141 \nL 488 750 \nQ 750 597 1062 519 \nQ 1375 441 1716 441 \nQ 2309 441 2620 675 \nQ 2931 909 2931 1356 \nQ 2931 1769 2642 2001 \nQ 2353 2234 1838 2234 \nL 1294 2234 \nL 1294 2753 \nL 1863 2753 \nQ 2328 2753 2575 2939 \nQ 2822 3125 2822 3475 \nQ 2822 3834 2567 4026 \nQ 2313 4219 1838 4219 \nQ 1578 4219 1281 4162 \nQ 984 4106 628 3988 \nL 628 4550 \nQ 988 4650 1302 4700 \nQ 1616 4750 1894 4750 \nQ 2613 4750 3031 4423 \nQ 3450 4097 3450 3541 \nQ 3450 3153 3228 2886 \nQ 3006 2619 2597 2516 \nz\n\" transform=\"scale(0.015625)\"/>\n       </defs>\n       <use xlink:href=\"#DejaVuSans-24\"/>\n       <use xlink:href=\"#DejaVuSans-33\" x=\"63.623047\"/>\n       <use xlink:href=\"#DejaVuSans-30\" x=\"127.246094\"/>\n       <use xlink:href=\"#DejaVuSans-30\" x=\"190.869141\"/>\n      </g>\n     </g>\n    </g>\n    <g id=\"text_16\">\n     <!-- Investment -->\n     <g transform=\"translate(14.798437 153.024312) rotate(-90) scale(0.1 -0.1)\">\n      <defs>\n       <path id=\"DejaVuSans-49\" d=\"M 628 4666 \nL 1259 4666 \nL 1259 0 \nL 628 0 \nL 628 4666 \nz\n\" transform=\"scale(0.015625)\"/>\n       <path id=\"DejaVuSans-76\" d=\"M 191 3500 \nL 800 3500 \nL 1894 563 \nL 2988 3500 \nL 3597 3500 \nL 2284 0 \nL 1503 0 \nL 191 3500 \nz\n\" transform=\"scale(0.015625)\"/>\n       <path id=\"DejaVuSans-73\" d=\"M 2834 3397 \nL 2834 2853 \nQ 2591 2978 2328 3040 \nQ 2066 3103 1784 3103 \nQ 1356 3103 1142 2972 \nQ 928 2841 928 2578 \nQ 928 2378 1081 2264 \nQ 1234 2150 1697 2047 \nL 1894 2003 \nQ 2506 1872 2764 1633 \nQ 3022 1394 3022 966 \nQ 3022 478 2636 193 \nQ 2250 -91 1575 -91 \nQ 1294 -91 989 -36 \nQ 684 19 347 128 \nL 347 722 \nQ 666 556 975 473 \nQ 1284 391 1588 391 \nQ 1994 391 2212 530 \nQ 2431 669 2431 922 \nQ 2431 1156 2273 1281 \nQ 2116 1406 1581 1522 \nL 1381 1569 \nQ 847 1681 609 1914 \nQ 372 2147 372 2553 \nQ 372 3047 722 3315 \nQ 1072 3584 1716 3584 \nQ 2034 3584 2315 3537 \nQ 2597 3491 2834 3397 \nz\n\" transform=\"scale(0.015625)\"/>\n       <path id=\"DejaVuSans-6d\" d=\"M 3328 2828 \nQ 3544 3216 3844 3400 \nQ 4144 3584 4550 3584 \nQ 5097 3584 5394 3201 \nQ 5691 2819 5691 2113 \nL 5691 0 \nL 5113 0 \nL 5113 2094 \nQ 5113 2597 4934 2840 \nQ 4756 3084 4391 3084 \nQ 3944 3084 3684 2787 \nQ 3425 2491 3425 1978 \nL 3425 0 \nL 2847 0 \nL 2847 2094 \nQ 2847 2600 2669 2842 \nQ 2491 3084 2119 3084 \nQ 1678 3084 1418 2786 \nQ 1159 2488 1159 1978 \nL 1159 0 \nL 581 0 \nL 581 3500 \nL 1159 3500 \nL 1159 2956 \nQ 1356 3278 1631 3431 \nQ 1906 3584 2284 3584 \nQ 2666 3584 2933 3390 \nQ 3200 3197 3328 2828 \nz\n\" transform=\"scale(0.015625)\"/>\n      </defs>\n      <use xlink:href=\"#DejaVuSans-49\"/>\n      <use xlink:href=\"#DejaVuSans-6e\" x=\"29.492188\"/>\n      <use xlink:href=\"#DejaVuSans-76\" x=\"92.871094\"/>\n      <use xlink:href=\"#DejaVuSans-65\" x=\"152.050781\"/>\n      <use xlink:href=\"#DejaVuSans-73\" x=\"213.574219\"/>\n      <use xlink:href=\"#DejaVuSans-74\" x=\"265.673828\"/>\n      <use xlink:href=\"#DejaVuSans-6d\" x=\"304.882812\"/>\n      <use xlink:href=\"#DejaVuSans-65\" x=\"402.294922\"/>\n      <use xlink:href=\"#DejaVuSans-6e\" x=\"463.818359\"/>\n      <use xlink:href=\"#DejaVuSans-74\" x=\"527.197266\"/>\n     </g>\n    </g>\n   </g>\n   <g id=\"line2d_15\">\n    <path d=\"M 68.408852 218.760733 \nL 68.823158 217.862066 \nL 69.237464 221.334171 \nL 70.480381 216.861288 \nL 70.894686 215.819652 \nL 71.308992 215.472446 \nL 71.723298 215.390747 \nL 72.137604 217.085954 \nL 73.380521 217.331042 \nL 73.794826 218.474796 \nL 74.209132 215.574565 \nL 74.623438 216.044319 \nL 75.037743 216.248565 \nL 76.694966 214.880144 \nL 77.109272 218.372669 \nL 77.523578 218.393098 \nL 77.937883 218.576915 \nL 79.595106 217.637399 \nL 80.009412 217.739526 \nL 80.423717 216.881708 \nL 80.838023 215.002691 \nL 82.08094 223.111068 \nL 82.495246 222.825132 \nL 82.909552 223.70337 \nL 83.323857 227.052927 \nL 83.738163 229.422127 \nL 85.395386 226.297236 \nL 85.809691 226.930387 \nL 86.223997 225.3373 \nL 86.638303 225.21476 \nL 88.295526 223.846338 \nL 88.709831 222.9681 \nL 89.538443 220.067876 \nL 90.78136 219.557273 \nL 91.195665 218.393098 \nL 91.609971 218.94455 \nL 92.024277 218.454368 \nL 92.438583 219.353027 \nL 93.6815 219.557273 \nL 94.095805 220.108726 \nL 94.510111 220.027027 \nL 94.924417 220.292543 \nL 95.338722 222.600465 \nL 96.581639 223.519553 \nL 97.410251 222.784282 \nL 97.824557 222.069441 \nL 98.238862 223.172346 \nL 99.481779 222.90683 \nL 99.896085 223.254037 \nL 100.310391 224.37737 \nL 100.724696 228.972801 \nL 101.139002 227.48184 \nL 102.381919 231.525818 \nL 102.796225 231.280723 \nL 103.210531 230.096127 \nL 103.624836 229.973579 \nL 104.039142 230.77012 \nL 105.282059 231.096905 \nL 105.696365 229.585524 \nL 106.11067 231.239882 \nL 106.524976 230.790548 \nL 106.939282 230.525032 \nL 108.182199 229.401706 \nL 108.596505 222.191988 \nL 109.01081 223.029378 \nL 109.425116 223.254037 \nL 109.839422 222.90683 \nL 111.496644 220.741869 \nL 111.91095 219.434725 \nL 112.325256 219.86363 \nL 113.982479 219.618543 \nL 114.396784 220.129146 \nL 114.81109 218.719884 \nL 115.225396 222.477925 \nL 115.639701 222.069441 \nL 116.882619 214.757596 \nL 117.296924 214.737175 \nL 117.71123 214.492088 \nL 118.125536 212.470095 \nL 118.539841 212.265857 \nL 119.782758 210.652348 \nL 120.197064 212.756032 \nL 120.61137 217.514859 \nL 121.025675 217.800796 \nL 121.439981 217.800796 \nL 122.682898 215.860501 \nL 123.097204 219.271336 \nL 123.51151 218.433947 \nL 123.925815 215.370326 \nL 124.340121 211.162952 \nL 125.583038 209.917078 \nL 125.997344 210.754467 \nL 126.411649 213.144095 \nL 126.825955 214.246993 \nL 127.240261 218.638185 \nL 129.311789 216.942986 \nL 129.726095 218.862852 \nL 130.140401 218.250129 \nL 131.797624 219.78194 \nL 132.211929 219.06709 \nL 132.626235 219.107939 \nL 133.040541 220.455932 \nL 134.283458 217.576129 \nL 134.697763 216.023898 \nL 135.112069 215.615414 \nL 135.526375 216.514073 \nL 135.94068 215.921779 \nL 137.183598 212.531365 \nL 137.597903 210.958713 \nL 138.012209 210.734047 \nL 138.84082 207.200672 \nL 140.083737 208.630355 \nL 140.498043 208.814173 \nL 140.912349 210.039626 \nL 141.326654 210.223443 \nL 141.74096 209.73326 \nL 142.983877 210.366411 \nL 143.398183 207.670426 \nL 143.812489 207.731696 \nL 144.6411 205.607584 \nL 145.884017 204.974441 \nL 146.712628 206.302005 \nL 147.126934 205.485044 \nL 148.784157 203.463051 \nL 149.198463 203.463051 \nL 149.612768 207.098545 \nL 150.027074 206.322433 \nL 150.44138 207.180243 \nL 151.684297 207.772545 \nL 152.098603 207.486609 \nL 152.927214 204.831472 \nL 153.34152 205.954798 \nL 154.584437 205.444195 \nL 154.998742 205.648433 \nL 155.413048 200.746645 \nL 155.827354 201.23682 \nL 156.241659 203.299662 \nL 157.484577 205.07656 \nL 157.898882 207.792966 \nL 158.313188 205.035711 \nL 158.727494 203.953234 \nL 159.141799 202.482694 \nL 160.384716 202.76863 \nL 160.799022 203.810266 \nL 161.213328 202.462273 \nL 161.627633 206.424553 \nL 162.041939 204.994861 \nL 163.284856 203.54475 \nL 164.113468 203.687718 \nL 164.527773 201.665725 \nL 164.942079 205.505465 \nL 166.184996 207.40491 \nL 166.599302 203.973655 \nL 167.013608 203.994083 \nL 167.427913 203.789837 \nL 167.842219 201.522757 \nL 169.499442 201.134701 \nL 169.913747 200.072645 \nL 170.742359 195.763151 \nL 171.985276 196.457572 \nL 172.399582 194.864492 \nL 172.813887 196.375873 \nL 173.228193 194.721523 \nL 173.642499 194.313039 \nL 174.885416 194.088372 \nL 175.299721 194.884912 \nL 175.714027 194.94619 \nL 176.128333 196.641389 \nL 176.542638 196.151214 \nL 177.785556 196.620969 \nL 178.199861 196.620969 \nL 178.614167 197.049874 \nL 179.028473 193.639039 \nL 179.442778 196.028667 \nL 180.685695 197.33581 \nL 181.100001 196.60054 \nL 181.928613 201.29809 \nL 182.342918 199.051438 \nL 183.585835 197.376659 \nL 184.414447 200.521978 \nL 184.828752 199.173986 \nL 185.243058 200.276883 \nL 186.485975 198.622533 \nL 186.900281 199.235256 \nL 187.314587 197.887263 \nL 187.728892 197.029453 \nL 188.143198 194.741944 \nL 189.386115 196.437151 \nL 189.800421 196.498421 \nL 190.214726 196.927326 \nL 190.629032 197.723866 \nL 191.043338 197.621747 \nL 192.286255 197.866842 \nL 192.700561 196.743508 \nL 193.114866 196.375873 \nL 193.529172 192.63826 \nL 193.943478 193.128435 \nL 195.6007 191.617054 \nL 196.015006 191.882569 \nL 196.429312 193.332681 \nL 196.843618 194.006674 \nL 198.086535 193.986253 \nL 198.50084 191.310688 \nL 198.915146 190.473299 \nL 199.329452 190.146513 \nL 199.743757 191.04518 \nL 200.986674 190.616267 \nL 201.40098 189.840156 \nL 202.229592 191.800871 \nL 202.643897 191.719173 \nL 203.886814 192.372744 \nL 204.30112 191.147299 \nL 204.715426 188.390036 \nL 205.544037 187.225861 \nL 206.786954 187.716044 \nL 207.20126 188.124528 \nL 207.615566 185.448971 \nL 208.029871 184.019272 \nL 208.444177 184.203098 \nL 209.687094 184.019272 \nL 210.1014 182.712129 \nL 210.515705 181.936017 \nL 210.930011 181.466255 \nL 211.344317 179.873175 \nL 212.587234 179.362572 \nL 213.00154 177.97373 \nL 213.415845 179.015365 \nL 213.830151 179.097063 \nL 214.244457 178.729428 \nL 215.487374 178.688571 \nL 215.901679 178.320936 \nL 216.730291 178.974508 \nL 217.144597 178.443492 \nL 218.801819 179.056206 \nL 219.630431 178.484333 \nL 220.044736 176.31938 \nL 221.287653 178.320936 \nL 222.116265 173.991029 \nL 222.530571 173.459997 \nL 222.944876 172.295822 \nL 224.187793 172.643029 \nL 225.016405 169.354742 \nL 225.43071 171.131647 \nL 225.845016 169.048376 \nL 227.502239 169.334313 \nL 227.916545 170.04917 \nL 228.745156 169.109662 \nL 229.988073 170.559774 \nL 230.402379 171.723949 \nL 230.816684 170.273837 \nL 231.23099 170.723155 \nL 231.645296 172.071155 \nL 232.888213 174.031871 \nL 233.302519 173.41914 \nL 233.716824 168.272265 \nL 234.13113 173.35787 \nL 234.545436 171.233758 \nL 235.788353 174.215696 \nL 236.202658 174.052299 \nL 236.616964 173.745934 \nL 237.03127 172.826854 \nL 237.445576 175.216474 \nL 239.102798 176.789126 \nL 239.517104 181.262017 \nL 239.93141 180.383778 \nL 240.345715 181.057779 \nL 241.588632 182.6917 \nL 242.002938 186.796956 \nL 242.417244 187.511798 \nL 242.83155 186.776535 \nL 243.245855 193.005895 \nL 244.488772 190.330331 \nL 244.903078 186.327194 \nL 245.317384 188.328766 \nL 245.731689 185.040479 \nL 246.145995 187.797742 \nL 247.388912 188.451314 \nL 247.803218 197.825993 \nL 248.217524 194.149642 \nL 248.631829 199.337375 \nL 249.046135 209.998776 \nL 250.289052 202.339725 \nL 250.703358 211.816523 \nL 251.117663 204.627226 \nL 251.531969 205.464616 \nL 251.946275 204.218742 \nL 253.189192 208.99799 \nL 253.603498 209.324776 \nL 254.017803 200.950883 \nL 254.432109 199.562041 \nL 254.846415 193.802436 \nL 256.089332 196.212484 \nL 256.503637 194.476436 \nL 256.917943 196.498421 \nL 257.332249 201.257248 \nL 257.746555 197.049874 \nL 258.989472 199.970526 \nL 259.403777 193.046745 \nL 259.818083 193.47565 \nL 260.232389 190.514148 \nL 261.889612 191.596625 \nL 262.303917 194.639825 \nL 262.718223 191.90299 \nL 263.132529 190.595847 \nL 263.546834 190.248632 \nL 264.789751 185.755321 \nL 265.204057 187.573075 \nL 265.618363 190.636696 \nL 266.032668 189.349973 \nL 266.446974 190.616267 \nL 267.689891 188.7781 \nL 268.104197 187.777314 \nL 268.518503 188.859798 \nL 268.932808 185.469384 \nL 269.347114 186.143384 \nL 270.590031 189.247854 \nL 271.004337 190.861363 \nL 271.418642 187.899861 \nL 272.247254 185.898289 \nL 273.904477 182.63043 \nL 274.318782 183.406557 \nL 274.733088 189.145735 \nL 275.147394 187.348409 \nL 276.804617 186.511019 \nL 277.218922 188.594282 \nL 277.633228 188.349195 \nL 278.047534 189.227426 \nL 279.704756 188.206219 \nL 280.119062 190.37118 \nL 280.533368 188.757671 \nL 280.947673 185.469384 \nL 282.190591 185.101749 \nL 282.604896 183.610796 \nL 283.019202 181.03735 \nL 283.433508 180.955652 \nL 283.847813 182.201525 \nL 285.09073 179.893604 \nL 285.505036 177.340586 \nL 285.919342 177.565253 \nL 286.333647 173.35787 \nL 286.747953 179.771048 \nL 287.99087 177.892031 \nL 288.405176 174.950951 \nL 288.819482 175.727078 \nL 289.233787 171.172488 \nL 289.648093 171.233758 \nL 290.89101 172.397934 \nL 291.305316 170.90698 \nL 291.719622 171.049949 \nL 292.133927 173.071934 \nL 292.548233 172.357092 \nL 293.79115 175.053078 \nL 294.205456 177.013793 \nL 294.619761 176.176411 \nL 295.034067 173.602966 \nL 296.69129 173.929744 \nL 297.105596 173.317029 \nL 297.519901 176.115126 \nL 297.934207 174.828411 \nL 298.348513 171.274615 \nL 299.59143 166.352391 \nL 300.005735 165.494581 \nL 300.420041 165.167803 \nL 300.834347 160.449817 \nL 301.248652 160.511087 \nL 302.49157 161.981627 \nL 302.905875 157.692561 \nL 303.320181 159.469467 \nL 303.734487 159.387769 \nL 304.148792 161.287214 \nL 305.391709 161.205515 \nL 305.806015 156.97772 \nL 306.220321 158.836308 \nL 306.634626 157.345355 \nL 307.048932 156.998148 \nL 308.291849 158.141895 \nL 308.706155 151.381511 \nL 309.120461 147.09243 \nL 309.534766 151.422352 \nL 309.949072 153.015432 \nL 311.191989 153.914099 \nL 311.606295 153.873242 \nL 312.020601 155.343783 \nL 312.434906 152.463988 \nL 312.849212 148.522129 \nL 314.092129 147.991097 \nL 314.506435 146.929048 \nL 314.92074 147.88897 \nL 315.749352 155.180386 \nL 316.992269 156.528386 \nL 317.406575 154.445131 \nL 317.82088 155.262084 \nL 318.235186 151.68786 \nL 318.649492 153.117559 \nL 319.892409 155.221243 \nL 320.306714 156.753053 \nL 320.72102 154.996576 \nL 321.135326 155.017005 \nL 321.549631 159.326499 \nL 323.206854 158.75461 \nL 323.62116 162.124595 \nL 324.035466 159.122245 \nL 324.449771 161.123817 \nL 325.692688 160.061769 \nL 326.106994 158.63207 \nL 326.5213 161.205515 \nL 328.592828 156.099481 \nL 329.007134 157.508752 \nL 329.42144 156.630513 \nL 329.835745 159.42861 \nL 330.250051 158.50953 \nL 331.492968 159.571578 \nL 331.907274 159.530737 \nL 332.32158 159.122245 \nL 332.735885 160.613214 \nL 333.150191 161.225944 \nL 334.393108 166.229851 \nL 334.807414 164.044469 \nL 335.221719 167.16936 \nL 335.636025 167.516566 \nL 336.050331 165.964343 \nL 337.293248 165.106517 \nL 337.707554 165.024835 \nL 338.121859 164.820581 \nL 338.536165 165.392454 \nL 338.950471 167.72082 \nL 340.193388 168.946265 \nL 340.607693 168.415233 \nL 341.021999 163.023262 \nL 341.436305 164.922708 \nL 341.850611 165.004406 \nL 343.093528 163.309199 \nL 343.507833 161.736547 \nL 343.922139 159.142673 \nL 344.336445 150.707511 \nL 344.75075 146.96989 \nL 345.993667 146.500128 \nL 346.407973 142.742094 \nL 346.822279 140.88349 \nL 347.236585 140.88349 \nL 347.65089 132.754693 \nL 348.893807 134.797106 \nL 349.308113 140.475014 \nL 349.722419 141.904697 \nL 350.136724 137.45225 \nL 350.55103 139.453807 \nL 352.208253 132.632153 \nL 352.622559 134.143535 \nL 353.036864 137.125457 \nL 353.45117 135.900012 \nL 354.694087 133.592074 \nL 355.108393 133.980138 \nL 355.522698 131.917296 \nL 356.35131 126.95423 \nL 357.594227 125.23861 \nL 358.008533 126.83169 \nL 358.422838 123.992736 \nL 358.837144 128.200103 \nL 359.25145 125.728785 \nL 360.494367 124.56461 \nL 360.908672 126.688722 \nL 361.322978 126.668293 \nL 361.737284 125.11607 \nL 362.15159 125.197768 \nL 363.394507 123.992736 \nL 363.808812 126.668293 \nL 364.637424 123.114498 \nL 365.051729 119.213496 \nL 366.708952 114.352541 \nL 367.123258 118.314829 \nL 367.537564 118.314829 \nL 369.194786 119.581131 \nL 369.609092 117.31405 \nL 370.023398 112.248858 \nL 370.023398 112.248858 \n\" clip-path=\"url(#pc16300db05)\" style=\"fill: none; stroke: #1f77b4; stroke-width: 1.5; stroke-linecap: square\"/>\n   </g>\n   <g id=\"line2d_16\">\n    <path d=\"M 68.408852 218.760733 \nL 70.480381 218.760733 \nL 70.894686 218.423582 \nL 71.308992 218.34425 \nL 71.723298 219.99036 \nL 72.137604 220.228349 \nL 73.380521 221.338978 \nL 73.794826 218.522744 \nL 74.209132 218.522744 \nL 74.623438 218.721994 \nL 75.037743 217.387045 \nL 77.109272 217.407677 \nL 77.523578 217.593324 \nL 77.937883 216.788854 \nL 79.595106 216.891849 \nL 80.009412 216.026733 \nL 80.423717 216.026733 \nL 80.838023 224.053996 \nL 82.495246 223.77092 \nL 82.909552 227.118061 \nL 83.323857 229.485552 \nL 83.738163 226.975196 \nL 84.98108 226.975196 \nL 85.395386 227.603634 \nL 85.809691 226.022405 \nL 86.223997 226.022405 \nL 86.638303 224.665977 \nL 88.295526 223.795435 \nL 89.124137 220.920629 \nL 89.538443 220.414501 \nL 90.78136 219.260529 \nL 91.195665 219.807148 \nL 91.609971 219.321262 \nL 92.024277 219.321262 \nL 93.6815 220.077205 \nL 94.510111 219.99548 \nL 94.924417 222.310465 \nL 95.338722 223.232365 \nL 96.995945 222.92507 \nL 97.410251 222.211293 \nL 97.824557 223.312556 \nL 98.238862 223.047435 \nL 99.481779 223.047435 \nL 99.896085 224.173235 \nL 100.310391 228.778754 \nL 100.724696 227.28452 \nL 101.139002 227.28452 \nL 102.381919 227.027315 \nL 102.796225 225.784191 \nL 103.210531 225.655588 \nL 103.624836 226.491484 \nL 104.039142 226.834415 \nL 105.282059 225.248359 \nL 105.696365 225.248359 \nL 106.11067 224.767768 \nL 106.524976 224.483782 \nL 106.939282 223.282312 \nL 108.182199 215.571051 \nL 108.596505 216.466693 \nL 109.01081 216.70698 \nL 109.425116 216.33562 \nL 109.839422 216.33562 \nL 111.082339 215.647592 \nL 111.496644 214.271534 \nL 111.91095 214.723051 \nL 112.325256 214.465042 \nL 113.982479 214.465042 \nL 114.396784 212.973692 \nL 114.81109 216.950636 \nL 115.225396 216.518357 \nL 115.639701 208.780604 \nL 116.882619 208.758994 \nL 117.296924 208.499631 \nL 117.71123 206.359858 \nL 118.125536 206.143723 \nL 118.539841 204.436229 \nL 119.782758 206.662451 \nL 120.197064 211.698476 \nL 120.61137 212.001068 \nL 121.439981 212.001068 \nL 122.682898 215.541586 \nL 123.097204 214.672358 \nL 123.51151 214.672358 \nL 123.925815 210.436193 \nL 124.340121 209.181794 \nL 125.583038 210.024913 \nL 125.997344 212.430893 \nL 126.411649 213.541338 \nL 126.825955 217.962579 \nL 127.240261 216.646491 \nL 128.897484 216.646491 \nL 129.311789 218.572025 \nL 129.726095 217.957493 \nL 130.140401 217.957493 \nL 131.383318 218.413129 \nL 131.797624 217.688253 \nL 132.211929 217.688253 \nL 132.626235 219.055722 \nL 133.040541 216.134311 \nL 134.283458 216.134311 \nL 134.697763 215.726272 \nL 135.112069 216.623952 \nL 135.526375 216.032303 \nL 135.94068 216.032303 \nL 137.183598 214.512169 \nL 137.597903 214.295004 \nL 138.426515 210.879624 \nL 138.84082 212.261564 \nL 140.083737 212.439243 \nL 140.498043 213.623773 \nL 140.912349 213.801452 \nL 141.326654 213.327639 \nL 141.74096 213.327639 \nL 142.983877 210.706263 \nL 143.398183 210.765838 \nL 143.812489 208.700509 \nL 144.6411 208.084888 \nL 145.884017 208.819665 \nL 146.298323 209.375712 \nL 146.712628 208.581361 \nL 147.126934 208.581361 \nL 147.54124 207.098439 \nL 148.784157 207.098439 \nL 149.198463 210.617903 \nL 149.612768 209.866562 \nL 150.027074 209.866562 \nL 150.44138 210.444424 \nL 152.098603 210.165458 \nL 152.512908 208.805967 \nL 152.927214 209.88962 \nL 153.34152 209.39705 \nL 154.584437 209.39705 \nL 154.998742 204.659735 \nL 155.413048 205.133462 \nL 156.241659 208.844365 \nL 157.484577 211.469626 \nL 157.898882 208.804886 \nL 158.313188 208.804886 \nL 158.727494 207.397252 \nL 159.141799 207.670957 \nL 160.384716 208.668034 \nL 160.799022 207.377705 \nL 161.213328 207.377705 \nL 162.041939 204.522644 \nL 163.284856 204.542889 \nL 163.699162 204.664384 \nL 164.113468 202.659762 \nL 164.527773 202.659762 \nL 164.942079 204.607528 \nL 166.184996 201.088984 \nL 166.599302 201.088984 \nL 167.013608 200.879504 \nL 167.427913 198.554332 \nL 167.842219 198.156333 \nL 169.499442 197.067063 \nL 170.328053 192.647143 \nL 170.742359 193.359358 \nL 171.985276 191.725456 \nL 172.399582 191.725456 \nL 172.813887 190.00752 \nL 173.228193 189.583336 \nL 173.642499 189.350034 \nL 174.885416 190.177189 \nL 175.299721 190.240822 \nL 175.714027 192.001178 \nL 176.128333 191.492163 \nL 177.785556 191.492163 \nL 178.199861 191.939285 \nL 178.614167 188.383574 \nL 179.028473 190.874702 \nL 179.442778 192.237367 \nL 180.685695 191.470866 \nL 181.100001 191.470866 \nL 181.514307 193.925386 \nL 181.928613 191.536028 \nL 182.342918 191.536028 \nL 183.585835 192.992472 \nL 184.000141 194.834446 \nL 184.414447 193.42084 \nL 184.828752 193.42084 \nL 185.243058 191.669623 \nL 186.485975 192.318222 \nL 186.900281 190.8913 \nL 187.314587 189.983263 \nL 187.728892 187.561814 \nL 188.143198 189.35628 \nL 189.386115 189.421138 \nL 189.800421 189.875156 \nL 190.214726 190.718336 \nL 191.043338 190.610238 \nL 192.700561 189.028731 \nL 193.114866 185.064156 \nL 193.529172 185.584096 \nL 193.943478 184.262577 \nL 195.186395 184.262577 \nL 195.6007 184.543621 \nL 196.015006 186.078542 \nL 196.429312 186.791952 \nL 198.086535 186.770337 \nL 198.50084 185.902787 \nL 198.915146 185.564231 \nL 199.329452 186.495266 \nL 199.743757 186.050904 \nL 200.986674 186.050904 \nL 201.815286 188.069878 \nL 202.643897 187.985752 \nL 203.886814 186.717298 \nL 204.30112 183.863263 \nL 204.715426 182.658228 \nL 205.544037 183.165615 \nL 206.786954 183.588436 \nL 207.20126 180.818975 \nL 207.615566 180.818975 \nL 208.029871 181.007212 \nL 208.444177 180.818975 \nL 209.687094 180.818975 \nL 210.1014 180.031952 \nL 210.515705 179.555585 \nL 210.930011 177.940108 \nL 212.587234 176.013958 \nL 213.00154 177.070237 \nL 213.415845 177.153085 \nL 213.830151 176.780281 \nL 214.244457 176.780281 \nL 215.487374 176.407587 \nL 215.901679 177.070152 \nL 216.730291 176.531829 \nL 217.144597 176.531829 \nL 218.387514 176.656495 \nL 218.801819 176.074699 \nL 219.630431 176.074699 \nL 220.044736 178.079728 \nL 221.287653 175.972395 \nL 221.701959 175.972395 \nL 222.116265 175.448702 \nL 222.530571 174.300615 \nL 222.944876 174.643023 \nL 224.187793 173.071958 \nL 224.602099 173.071958 \nL 225.016405 174.804238 \nL 225.43071 172.773287 \nL 225.845016 172.773287 \nL 227.502239 173.471537 \nL 227.916545 172.972796 \nL 228.33085 172.972796 \nL 228.745156 174.385122 \nL 229.988073 175.518963 \nL 230.402379 174.106636 \nL 230.816684 174.106636 \nL 231.23099 175.423535 \nL 231.645296 177.339012 \nL 232.888213 176.740419 \nL 233.302519 176.740419 \nL 233.716824 181.537179 \nL 234.13113 179.533709 \nL 234.545436 179.533709 \nL 235.788353 179.376383 \nL 236.202658 179.081399 \nL 236.616964 178.196462 \nL 237.03127 180.49731 \nL 237.445576 182.011538 \nL 239.102798 186.318265 \nL 239.517104 185.472652 \nL 239.93141 185.472652 \nL 240.345715 187.053654 \nL 241.588632 191.025947 \nL 242.002938 191.717637 \nL 242.417244 191.006188 \nL 242.83155 191.006188 \nL 243.245855 188.287601 \nL 244.488772 184.220095 \nL 244.903078 186.253852 \nL 245.317384 182.912691 \nL 245.731689 182.912691 \nL 246.145995 183.590903 \nL 247.388912 193.319025 \nL 247.803218 189.504069 \nL 248.217524 189.504069 \nL 248.631829 201.053684 \nL 249.046135 192.756549 \nL 250.289052 192.756549 \nL 250.703358 184.269049 \nL 251.117663 185.257649 \nL 251.531969 183.786803 \nL 251.946275 189.429061 \nL 253.189192 189.814856 \nL 253.603498 179.928852 \nL 254.017803 179.928852 \nL 254.432109 173.209372 \nL 254.846415 176.02107 \nL 256.089332 173.995698 \nL 256.503637 173.995698 \nL 256.917943 179.64049 \nL 257.332249 174.649816 \nL 257.746555 174.649816 \nL 258.989472 166.232695 \nL 259.403777 166.754108 \nL 259.818083 163.153862 \nL 260.232389 164.46981 \nL 261.889612 168.169375 \nL 262.303917 164.842253 \nL 262.718223 164.842253 \nL 263.132529 164.424502 \nL 263.546834 159.018384 \nL 264.789751 161.205412 \nL 265.204057 164.8914 \nL 265.618363 163.343282 \nL 266.032668 163.343282 \nL 266.446974 161.1096 \nL 267.689891 159.893477 \nL 268.104197 161.208878 \nL 268.518503 157.088956 \nL 268.932808 157.088956 \nL 269.347114 160.880783 \nL 270.590031 162.851538 \nL 271.004337 159.234333 \nL 271.418642 159.234333 \nL 271.832948 158.195761 \nL 272.247254 155.376796 \nL 273.490171 154.239321 \nL 273.904477 155.178988 \nL 274.318782 162.127487 \nL 274.733088 159.951441 \nL 275.147394 159.951441 \nL 276.390311 159.803891 \nL 276.804617 162.312334 \nL 277.218922 162.017226 \nL 277.633228 162.017226 \nL 278.047534 160.77917 \nL 279.704756 163.403852 \nL 280.119062 161.447721 \nL 280.533368 157.46118 \nL 280.947673 157.01548 \nL 282.190591 155.207929 \nL 282.604896 152.088023 \nL 283.019202 151.988976 \nL 283.433508 153.499406 \nL 283.847813 150.701407 \nL 285.09073 150.701407 \nL 285.505036 150.968815 \nL 285.919342 145.961011 \nL 286.333647 145.961011 \nL 286.747953 143.620288 \nL 287.99087 139.956533 \nL 288.405176 140.923368 \nL 288.819482 135.249638 \nL 289.233787 135.249638 \nL 289.648093 136.700479 \nL 290.89101 134.842395 \nL 291.305316 134.842395 \nL 291.719622 137.364734 \nL 292.133927 136.473 \nL 292.548233 136.473 \nL 293.79115 138.965243 \nL 294.205456 137.900857 \nL 294.619761 137.900857 \nL 295.034067 138.308786 \nL 296.69129 137.543912 \nL 297.105596 137.543912 \nL 297.519901 135.905841 \nL 297.934207 131.381632 \nL 298.348513 125.115325 \nL 300.005735 123.607268 \nL 300.420041 117.600969 \nL 300.834347 117.67897 \nL 301.248652 119.551062 \nL 302.49157 114.090807 \nL 303.320181 113.985629 \nL 303.734487 116.430957 \nL 304.148792 116.325779 \nL 305.391709 110.882955 \nL 305.806015 113.275684 \nL 306.220321 111.356245 \nL 306.634626 111.356245 \nL 307.048932 112.825506 \nL 308.291849 104.141095 \nL 308.706155 104.141095 \nL 309.120461 109.56322 \nL 309.534766 111.558147 \nL 309.949072 112.683499 \nL 311.606295 112.632336 \nL 312.020601 108.993396 \nL 312.434906 104.01242 \nL 312.849212 103.341403 \nL 314.092129 101.999387 \nL 314.506435 103.212354 \nL 315.335046 112.425866 \nL 315.749352 114.129214 \nL 316.992269 111.49679 \nL 317.406575 111.49679 \nL 317.82088 106.957601 \nL 318.235186 108.773289 \nL 318.649492 111.444922 \nL 319.892409 113.390289 \nL 320.306714 111.1596 \nL 320.72102 111.1596 \nL 321.135326 116.633255 \nL 321.549631 115.906877 \nL 323.206854 115.906877 \nL 323.62116 112.010696 \nL 324.035466 114.608157 \nL 324.449771 113.229926 \nL 325.692688 111.37459 \nL 326.106994 114.714178 \nL 326.5213 113.309436 \nL 326.935606 113.309436 \nL 327.349911 109.759902 \nL 328.592828 111.574117 \nL 329.007134 110.443522 \nL 329.42144 110.443522 \nL 329.835745 109.239389 \nL 330.250051 110.630832 \nL 331.492968 110.577324 \nL 331.907274 110.042138 \nL 332.32158 111.995531 \nL 332.735885 112.7983 \nL 333.150191 119.35417 \nL 334.393108 116.490991 \nL 334.807414 116.490991 \nL 335.221719 116.955348 \nL 335.636025 114.879393 \nL 337.293248 114.770765 \nL 337.707554 114.499133 \nL 338.121859 115.259652 \nL 338.536165 118.356083 \nL 338.950471 119.98577 \nL 340.193388 119.279565 \nL 340.607693 119.279565 \nL 341.021999 121.717341 \nL 341.436305 121.822194 \nL 341.850611 119.64654 \nL 343.093528 119.64654 \nL 343.507833 116.351164 \nL 343.922139 105.634746 \nL 344.336445 100.886301 \nL 344.75075 100.289494 \nL 345.993667 95.515116 \nL 346.407973 93.15386 \nL 346.822279 93.15386 \nL 347.236585 82.826663 \nL 348.893807 92.634913 \nL 349.308113 94.451248 \nL 349.722419 88.794655 \nL 350.136724 88.794655 \nL 350.55103 81.946099 \nL 351.793947 80.030614 \nL 352.208253 81.972344 \nL 352.622559 85.803334 \nL 353.036864 84.228958 \nL 353.45117 84.228958 \nL 354.694087 84.721257 \nL 355.108393 82.104326 \nL 355.522698 82.104326 \nL 356.35131 79.984612 \nL 357.594227 81.952924 \nL 358.008533 78.445287 \nL 358.422838 78.445287 \nL 358.837144 75.323965 \nL 359.25145 73.85359 \nL 360.494367 76.536383 \nL 361.322978 76.510582 \nL 361.737284 76.612935 \nL 362.15159 75.103245 \nL 363.394507 75.103245 \nL 364.223118 70.588509 \nL 365.051729 61.247667 \nL 366.294646 59.457332 \nL 366.708952 64.491016 \nL 367.537564 64.491016 \nL 369.194786 61.592481 \nL 369.609092 55.11647 \nL 370.023398 54.202522 \nL 370.023398 54.202522 \n\" clip-path=\"url(#pc16300db05)\" style=\"fill: none; stroke-dasharray: 6,2.25; stroke-dashoffset: 0; stroke: #ff7f0e; stroke-width: 1.5\"/>\n   </g>\n   <g id=\"line2d_17\">\n    <path d=\"M 68.408852 218.760733 \nL 70.480381 218.760733 \nL 70.894686 218.423582 \nL 71.308992 218.34425 \nL 71.723298 219.99036 \nL 72.137604 219.99036 \nL 73.380521 221.10371 \nL 73.794826 218.280576 \nL 74.209132 218.280576 \nL 74.623438 218.480314 \nL 75.037743 217.142094 \nL 77.109272 217.162777 \nL 77.523578 217.348879 \nL 77.937883 216.542438 \nL 79.595106 216.645686 \nL 80.009412 215.77845 \nL 80.423717 215.77845 \nL 80.838023 223.825379 \nL 82.495246 223.54161 \nL 82.909552 226.896951 \nL 83.323857 229.270243 \nL 83.738163 226.753736 \nL 84.98108 226.753736 \nL 85.395386 227.383713 \nL 85.809691 225.798611 \nL 86.223997 225.798611 \nL 86.638303 224.43886 \nL 88.295526 223.566185 \nL 89.124137 220.684336 \nL 89.538443 220.176968 \nL 90.78136 219.020169 \nL 91.195665 219.568127 \nL 92.024277 219.568127 \nL 93.6815 220.322168 \nL 94.510111 220.240648 \nL 94.924417 222.549804 \nL 95.338722 223.469383 \nL 96.995945 223.162862 \nL 97.410251 222.450882 \nL 97.824557 223.549372 \nL 99.481779 223.549372 \nL 99.896085 224.669181 \nL 100.310391 229.250191 \nL 100.724696 227.763909 \nL 101.139002 227.763909 \nL 102.381919 227.508073 \nL 102.796225 226.271564 \nL 103.210531 226.143646 \nL 103.624836 226.975093 \nL 104.039142 226.975093 \nL 105.282059 225.391501 \nL 105.696365 225.391501 \nL 106.11067 224.911657 \nL 106.524976 224.628112 \nL 106.939282 223.428509 \nL 108.182199 215.72923 \nL 108.596505 216.623481 \nL 109.01081 216.623481 \nL 109.425116 216.251813 \nL 109.839422 216.251813 \nL 111.082339 215.563213 \nL 111.496644 214.186014 \nL 111.91095 214.637906 \nL 113.982479 214.637906 \nL 114.396784 213.14906 \nL 114.81109 217.119323 \nL 115.225396 216.687771 \nL 115.639701 208.963017 \nL 116.882619 208.941443 \nL 117.296924 208.682515 \nL 117.71123 206.546337 \nL 118.125536 206.330565 \nL 118.539841 204.62594 \nL 119.782758 206.848421 \nL 120.197064 206.848421 \nL 120.61137 207.164902 \nL 121.439981 207.164902 \nL 122.682898 210.867923 \nL 123.097204 209.9588 \nL 123.51151 209.9588 \nL 123.925815 205.528202 \nL 124.340121 204.216228 \nL 125.583038 205.098045 \nL 125.997344 205.098045 \nL 126.411649 206.286086 \nL 126.825955 211.016275 \nL 127.240261 209.608221 \nL 128.897484 209.608221 \nL 129.311789 211.668308 \nL 129.726095 211.010834 \nL 130.140401 211.010834 \nL 131.383318 211.498309 \nL 131.797624 210.72278 \nL 132.211929 210.72278 \nL 132.626235 212.185805 \nL 133.040541 209.060251 \nL 134.283458 209.060251 \nL 134.697763 208.623699 \nL 135.112069 209.584107 \nL 135.94068 209.584107 \nL 137.183598 207.967244 \nL 137.597903 207.736261 \nL 138.426515 204.103554 \nL 138.84082 205.573429 \nL 140.083737 205.573429 \nL 140.498043 206.835467 \nL 140.912349 207.024772 \nL 141.326654 206.519955 \nL 141.74096 206.519955 \nL 142.983877 203.727056 \nL 143.398183 203.790528 \nL 143.812489 201.59006 \nL 144.6411 200.934157 \nL 145.884017 201.717013 \nL 146.298323 202.309443 \nL 146.712628 201.463115 \nL 147.126934 201.463115 \nL 147.54124 199.883162 \nL 148.784157 199.883162 \nL 149.198463 203.632914 \nL 150.027074 203.632914 \nL 150.44138 204.244284 \nL 152.098603 203.949142 \nL 152.512908 202.510819 \nL 152.927214 203.657309 \nL 154.584437 203.657309 \nL 154.998742 198.668159 \nL 155.413048 199.167071 \nL 156.241659 203.075244 \nL 157.484577 205.840063 \nL 157.898882 203.033667 \nL 158.313188 203.033667 \nL 158.727494 201.551203 \nL 159.141799 201.839458 \nL 160.384716 201.839458 \nL 160.799022 200.468071 \nL 161.213328 200.468071 \nL 162.041939 197.433654 \nL 163.284856 197.455171 \nL 163.699162 197.584298 \nL 164.113468 195.453746 \nL 164.527773 195.453746 \nL 164.942079 197.523871 \nL 166.184996 193.784292 \nL 166.599302 193.784292 \nL 167.013608 193.561652 \nL 167.427913 191.090413 \nL 167.842219 190.667411 \nL 169.499442 189.509713 \nL 170.328053 184.812133 \nL 170.742359 185.569089 \nL 172.399582 185.569089 \nL 172.813887 183.766976 \nL 173.228193 183.322007 \nL 173.642499 183.077273 \nL 174.885416 183.944959 \nL 175.299721 183.944959 \nL 175.714027 185.792493 \nL 176.128333 185.25827 \nL 177.785556 185.25827 \nL 178.199861 185.727536 \nL 178.614167 181.995732 \nL 179.028473 184.610231 \nL 179.442778 186.04038 \nL 180.685695 185.235919 \nL 181.100001 185.235919 \nL 181.514307 187.811996 \nL 181.928613 185.304308 \nL 182.342918 185.304308 \nL 183.585835 186.832881 \nL 184.000141 188.766077 \nL 184.414447 187.282463 \nL 184.828752 187.282463 \nL 185.243058 185.444519 \nL 186.485975 186.125239 \nL 186.900281 184.627651 \nL 187.314587 183.674644 \nL 187.728892 181.133275 \nL 188.143198 183.01661 \nL 189.386115 183.01661 \nL 189.800421 183.493355 \nL 190.214726 184.378741 \nL 191.043338 184.265232 \nL 192.700561 182.604562 \nL 193.114866 178.441536 \nL 193.529172 178.987502 \nL 195.186395 178.987502 \nL 195.6007 179.279684 \nL 196.015006 180.875435 \nL 196.429312 181.617118 \nL 198.086535 181.594647 \nL 198.50084 180.692715 \nL 198.915146 180.340741 \nL 199.329452 181.308674 \nL 200.986674 181.308674 \nL 201.815286 183.400559 \nL 202.643897 183.313395 \nL 203.886814 181.999133 \nL 204.30112 179.042031 \nL 204.715426 177.793479 \nL 205.544037 178.319189 \nL 206.786954 178.319189 \nL 207.20126 175.440646 \nL 207.615566 175.440646 \nL 208.029871 175.636297 \nL 208.444177 175.440646 \nL 209.687094 175.440646 \nL 210.1014 174.622624 \nL 210.515705 174.127495 \nL 210.930011 172.448388 \nL 212.587234 170.446372 \nL 213.00154 171.544256 \nL 213.415845 171.544256 \nL 213.830151 171.156539 \nL 214.244457 171.156539 \nL 215.487374 170.768937 \nL 215.901679 171.458006 \nL 217.144597 171.458006 \nL 218.387514 171.587163 \nL 218.801819 170.984408 \nL 219.630431 170.984408 \nL 220.044736 173.061671 \nL 221.287653 170.878418 \nL 221.701959 170.878418 \nL 222.116265 170.335858 \nL 222.530571 169.14641 \nL 222.944876 169.501154 \nL 224.602099 169.501154 \nL 225.016405 171.276302 \nL 225.43071 169.195092 \nL 225.845016 169.195092 \nL 227.502239 169.910621 \nL 227.916545 169.399538 \nL 228.33085 169.399538 \nL 228.745156 170.846814 \nL 229.988073 172.008713 \nL 230.402379 170.561437 \nL 230.816684 170.561437 \nL 231.23099 171.910924 \nL 231.645296 173.873801 \nL 232.888213 173.260395 \nL 233.302519 173.260395 \nL 233.716824 178.175858 \nL 234.13113 176.122809 \nL 234.545436 176.122809 \nL 235.788353 175.961589 \nL 236.202658 175.659306 \nL 236.616964 174.75247 \nL 237.03127 177.110255 \nL 237.445576 177.110255 \nL 239.102798 181.572929 \nL 239.517104 180.696696 \nL 239.93141 180.696696 \nL 240.345715 182.334946 \nL 241.588632 186.451077 \nL 242.002938 187.167812 \nL 242.417244 186.430602 \nL 242.83155 186.430602 \nL 243.245855 183.613575 \nL 244.488772 179.398784 \nL 244.903078 181.506184 \nL 245.317384 178.044038 \nL 245.731689 178.044038 \nL 246.145995 178.746809 \nL 247.388912 188.827186 \nL 247.803218 184.87409 \nL 248.217524 184.87409 \nL 248.631829 196.841918 \nL 249.046135 188.244343 \nL 250.289052 188.244343 \nL 250.703358 179.44951 \nL 251.117663 180.473908 \nL 251.531969 178.949802 \nL 251.946275 184.796366 \nL 253.189192 185.196131 \nL 253.603498 174.952155 \nL 254.017803 174.952155 \nL 254.432109 167.989361 \nL 254.846415 170.902872 \nL 256.503637 170.902872 \nL 256.917943 176.669433 \nL 257.332249 171.5711 \nL 257.746555 171.5711 \nL 258.989472 162.972406 \nL 259.403777 163.505066 \nL 259.818083 159.827156 \nL 260.232389 161.171492 \nL 261.889612 164.950864 \nL 262.303917 161.551969 \nL 262.718223 161.551969 \nL 263.132529 161.125207 \nL 263.546834 155.602468 \nL 264.789751 157.836674 \nL 265.204057 157.836674 \nL 265.618363 156.216929 \nL 266.032668 156.216929 \nL 266.446974 153.8799 \nL 267.689891 152.60751 \nL 268.104197 153.983771 \nL 268.518503 149.67323 \nL 268.932808 149.67323 \nL 269.347114 153.640496 \nL 270.590031 155.702432 \nL 271.004337 151.917868 \nL 271.418642 151.917868 \nL 271.832948 150.831245 \nL 272.247254 147.881854 \nL 273.490171 146.69175 \nL 273.904477 147.674894 \nL 274.318782 147.674894 \nL 274.733088 145.296262 \nL 275.147394 145.296262 \nL 276.390311 145.134976 \nL 276.804617 147.876949 \nL 277.633228 147.876949 \nL 278.047534 146.526204 \nL 279.704756 149.389787 \nL 280.119062 147.255607 \nL 280.533368 142.906206 \nL 280.947673 142.419937 \nL 282.190591 140.447861 \nL 282.604896 137.043977 \nL 283.019202 136.935915 \nL 283.433508 138.583826 \nL 285.09073 138.583826 \nL 285.505036 138.870675 \nL 285.919342 133.498778 \nL 286.333647 133.498778 \nL 286.747953 130.987872 \nL 287.99087 127.057743 \nL 288.405176 128.094872 \nL 288.819482 122.008632 \nL 289.233787 122.008632 \nL 289.648093 123.564956 \nL 290.89101 121.571779 \nL 291.305316 121.571779 \nL 291.719622 124.277506 \nL 292.133927 123.320938 \nL 292.548233 123.320938 \nL 293.79115 125.99438 \nL 294.205456 124.852608 \nL 294.619761 124.852608 \nL 295.034067 125.290195 \nL 296.69129 124.469711 \nL 297.105596 124.469711 \nL 297.519901 122.712544 \nL 297.934207 117.8594 \nL 298.348513 111.137499 \nL 300.005735 109.519799 \nL 300.420041 103.076811 \nL 301.248652 103.160482 \nL 302.49157 97.247806 \nL 302.905875 97.247806 \nL 303.320181 97.133913 \nL 303.734487 99.781854 \nL 304.148792 99.667961 \nL 305.391709 93.774161 \nL 305.806015 96.365144 \nL 306.220321 94.286666 \nL 306.634626 94.286666 \nL 307.048932 95.877666 \nL 308.291849 86.473689 \nL 308.706155 86.473689 \nL 309.120461 92.345076 \nL 309.534766 94.505297 \nL 309.949072 95.723892 \nL 311.606295 95.66849 \nL 312.020601 91.728038 \nL 312.434906 86.334353 \nL 312.849212 85.607737 \nL 314.092129 84.154526 \nL 314.506435 85.467996 \nL 314.92074 85.467996 \nL 315.335046 90.300432 \nL 315.749352 92.187672 \nL 316.992269 89.271054 \nL 317.406575 89.271054 \nL 317.82088 84.241818 \nL 318.235186 86.253526 \nL 318.649492 89.213587 \nL 319.892409 91.368974 \nL 320.306714 88.897462 \nL 320.72102 88.897462 \nL 321.135326 94.962048 \nL 321.549631 94.157251 \nL 323.206854 94.157251 \nL 323.62116 89.84044 \nL 324.035466 92.718321 \nL 324.449771 91.191298 \nL 325.692688 89.135662 \nL 326.106994 92.835788 \nL 326.5213 91.279392 \nL 326.935606 91.279392 \nL 327.349911 87.346653 \nL 328.592828 89.356729 \nL 329.42144 89.356729 \nL 329.835745 88.029888 \nL 330.250051 89.563127 \nL 331.492968 89.504166 \nL 331.907274 88.914441 \nL 332.32158 91.066896 \nL 332.735885 91.951471 \nL 333.150191 99.175421 \nL 334.393108 96.020469 \nL 334.807414 96.020469 \nL 335.221719 96.532146 \nL 335.636025 94.244639 \nL 336.050331 94.244639 \nL 337.293248 94.124942 \nL 337.707554 93.825629 \nL 338.121859 94.663649 \nL 338.536165 94.663649 \nL 338.950471 96.48735 \nL 340.193388 95.697071 \nL 340.607693 95.697071 \nL 341.021999 98.425065 \nL 341.436305 98.5424 \nL 341.850611 96.107735 \nL 343.093528 96.107735 \nL 343.507833 92.420044 \nL 343.922139 80.427836 \nL 344.336445 75.114088 \nL 344.75075 74.446231 \nL 345.993667 69.103463 \nL 346.407973 66.4611 \nL 346.822279 66.4611 \nL 347.236585 54.904449 \nL 347.65089 57.808133 \nL 348.893807 57.808133 \nL 349.308113 59.905945 \nL 349.722419 53.372754 \nL 350.136724 53.372754 \nL 350.55103 45.462882 \nL 351.793947 43.250556 \nL 352.208253 45.493195 \nL 352.622559 49.91787 \nL 353.036864 48.099514 \nL 353.45117 48.099514 \nL 354.694087 48.668104 \nL 355.108393 45.64563 \nL 355.522698 45.64563 \nL 356.35131 43.197425 \nL 357.594227 45.470765 \nL 358.422838 45.470765 \nL 358.837144 41.91866 \nL 359.25145 40.245354 \nL 360.494367 43.298408 \nL 361.322978 43.269045 \nL 361.737284 43.385525 \nL 362.15159 41.667478 \nL 363.394507 41.667478 \nL 364.223118 36.529649 \nL 365.051729 25.899649 \nL 366.294646 23.862224 \nL 366.708952 29.590623 \nL 367.537564 29.590623 \nL 369.194786 26.292052 \nL 369.609092 18.922267 \nL 370.023398 17.882182 \nL 370.023398 17.882182 \n\" clip-path=\"url(#pc16300db05)\" style=\"fill: none; stroke-dasharray: 1.5,1.5; stroke-dashoffset: 0; stroke: #2ca02c; stroke-width: 1.5\"/>\n   </g>\n   <g id=\"line2d_18\"/>\n   <g id=\"line2d_19\"/>\n   <g id=\"line2d_20\"/>\n   <g id=\"patch_3\">\n    <path d=\"M 53.328125 242.208 \nL 53.328125 7.2 \n\" style=\"fill: none; stroke: #000000; stroke-width: 0.8; stroke-linejoin: miter; stroke-linecap: square\"/>\n   </g>\n   <g id=\"patch_4\">\n    <path d=\"M 385.104125 242.208 \nL 385.104125 7.2 \n\" style=\"fill: none; stroke: #000000; stroke-width: 0.8; stroke-linejoin: miter; stroke-linecap: square\"/>\n   </g>\n   <g id=\"patch_5\">\n    <path d=\"M 53.328125 242.208 \nL 385.104125 242.208 \n\" style=\"fill: none; stroke: #000000; stroke-width: 0.8; stroke-linejoin: miter; stroke-linecap: square\"/>\n   </g>\n   <g id=\"patch_6\">\n    <path d=\"M 53.328125 7.2 \nL 385.104125 7.2 \n\" style=\"fill: none; stroke: #000000; stroke-width: 0.8; stroke-linejoin: miter; stroke-linecap: square\"/>\n   </g>\n   <g id=\"legend_1\">\n    <g id=\"patch_7\">\n     <path d=\"M 60.328125 59.234375 \nL 177.085938 59.234375 \nQ 179.085938 59.234375 179.085938 57.234375 \nL 179.085938 14.2 \nQ 179.085938 12.2 177.085938 12.2 \nL 60.328125 12.2 \nQ 58.328125 12.2 58.328125 14.2 \nL 58.328125 57.234375 \nQ 58.328125 59.234375 60.328125 59.234375 \nz\n\" style=\"fill: #ffffff; opacity: 0.8; stroke: #cccccc; stroke-linejoin: miter\"/>\n    </g>\n    <g id=\"line2d_21\">\n     <path d=\"M 62.328125 20.298437 \nL 72.328125 20.298437 \nL 82.328125 20.298437 \n\" style=\"fill: none; stroke: #1f77b4; stroke-width: 1.5; stroke-linecap: square\"/>\n    </g>\n    <g id=\"text_17\">\n     <!-- Buy and Hold -->\n     <g transform=\"translate(90.328125 23.798437) scale(0.1 -0.1)\">\n      <defs>\n       <path id=\"DejaVuSans-42\" d=\"M 1259 2228 \nL 1259 519 \nL 2272 519 \nQ 2781 519 3026 730 \nQ 3272 941 3272 1375 \nQ 3272 1813 3026 2020 \nQ 2781 2228 2272 2228 \nL 1259 2228 \nz\nM 1259 4147 \nL 1259 2741 \nL 2194 2741 \nQ 2656 2741 2882 2914 \nQ 3109 3088 3109 3444 \nQ 3109 3797 2882 3972 \nQ 2656 4147 2194 4147 \nL 1259 4147 \nz\nM 628 4666 \nL 2241 4666 \nQ 2963 4666 3353 4366 \nQ 3744 4066 3744 3513 \nQ 3744 3084 3544 2831 \nQ 3344 2578 2956 2516 \nQ 3422 2416 3680 2098 \nQ 3938 1781 3938 1306 \nQ 3938 681 3513 340 \nQ 3088 0 2303 0 \nL 628 0 \nL 628 4666 \nz\n\" transform=\"scale(0.015625)\"/>\n       <path id=\"DejaVuSans-79\" d=\"M 2059 -325 \nQ 1816 -950 1584 -1140 \nQ 1353 -1331 966 -1331 \nL 506 -1331 \nL 506 -850 \nL 844 -850 \nQ 1081 -850 1212 -737 \nQ 1344 -625 1503 -206 \nL 1606 56 \nL 191 3500 \nL 800 3500 \nL 1894 763 \nL 2988 3500 \nL 3597 3500 \nL 2059 -325 \nz\n\" transform=\"scale(0.015625)\"/>\n       <path id=\"DejaVuSans-20\" transform=\"scale(0.015625)\"/>\n       <path id=\"DejaVuSans-64\" d=\"M 2906 2969 \nL 2906 4863 \nL 3481 4863 \nL 3481 0 \nL 2906 0 \nL 2906 525 \nQ 2725 213 2448 61 \nQ 2172 -91 1784 -91 \nQ 1150 -91 751 415 \nQ 353 922 353 1747 \nQ 353 2572 751 3078 \nQ 1150 3584 1784 3584 \nQ 2172 3584 2448 3432 \nQ 2725 3281 2906 2969 \nz\nM 947 1747 \nQ 947 1113 1208 752 \nQ 1469 391 1925 391 \nQ 2381 391 2643 752 \nQ 2906 1113 2906 1747 \nQ 2906 2381 2643 2742 \nQ 2381 3103 1925 3103 \nQ 1469 3103 1208 2742 \nQ 947 2381 947 1747 \nz\n\" transform=\"scale(0.015625)\"/>\n       <path id=\"DejaVuSans-48\" d=\"M 628 4666 \nL 1259 4666 \nL 1259 2753 \nL 3553 2753 \nL 3553 4666 \nL 4184 4666 \nL 4184 0 \nL 3553 0 \nL 3553 2222 \nL 1259 2222 \nL 1259 0 \nL 628 0 \nL 628 4666 \nz\n\" transform=\"scale(0.015625)\"/>\n       <path id=\"DejaVuSans-6f\" d=\"M 1959 3097 \nQ 1497 3097 1228 2736 \nQ 959 2375 959 1747 \nQ 959 1119 1226 758 \nQ 1494 397 1959 397 \nQ 2419 397 2687 759 \nQ 2956 1122 2956 1747 \nQ 2956 2369 2687 2733 \nQ 2419 3097 1959 3097 \nz\nM 1959 3584 \nQ 2709 3584 3137 3096 \nQ 3566 2609 3566 1747 \nQ 3566 888 3137 398 \nQ 2709 -91 1959 -91 \nQ 1206 -91 779 398 \nQ 353 888 353 1747 \nQ 353 2609 779 3096 \nQ 1206 3584 1959 3584 \nz\n\" transform=\"scale(0.015625)\"/>\n      </defs>\n      <use xlink:href=\"#DejaVuSans-42\"/>\n      <use xlink:href=\"#DejaVuSans-75\" x=\"68.603516\"/>\n      <use xlink:href=\"#DejaVuSans-79\" x=\"131.982422\"/>\n      <use xlink:href=\"#DejaVuSans-20\" x=\"191.162109\"/>\n      <use xlink:href=\"#DejaVuSans-61\" x=\"222.949219\"/>\n      <use xlink:href=\"#DejaVuSans-6e\" x=\"284.228516\"/>\n      <use xlink:href=\"#DejaVuSans-64\" x=\"347.607422\"/>\n      <use xlink:href=\"#DejaVuSans-20\" x=\"411.083984\"/>\n      <use xlink:href=\"#DejaVuSans-48\" x=\"442.871094\"/>\n      <use xlink:href=\"#DejaVuSans-6f\" x=\"518.066406\"/>\n      <use xlink:href=\"#DejaVuSans-6c\" x=\"579.248047\"/>\n      <use xlink:href=\"#DejaVuSans-64\" x=\"607.03125\"/>\n     </g>\n    </g>\n    <g id=\"line2d_22\">\n     <path d=\"M 62.328125 34.976562 \nL 72.328125 34.976562 \nL 82.328125 34.976562 \n\" style=\"fill: none; stroke-dasharray: 6,2.25; stroke-dashoffset: 0; stroke: #ff7f0e; stroke-width: 1.5\"/>\n    </g>\n    <g id=\"text_18\">\n     <!-- Ensemble Oracle -->\n     <g transform=\"translate(90.328125 38.476562) scale(0.1 -0.1)\">\n      <defs>\n       <path id=\"DejaVuSans-45\" d=\"M 628 4666 \nL 3578 4666 \nL 3578 4134 \nL 1259 4134 \nL 1259 2753 \nL 3481 2753 \nL 3481 2222 \nL 1259 2222 \nL 1259 531 \nL 3634 531 \nL 3634 0 \nL 628 0 \nL 628 4666 \nz\n\" transform=\"scale(0.015625)\"/>\n       <path id=\"DejaVuSans-62\" d=\"M 3116 1747 \nQ 3116 2381 2855 2742 \nQ 2594 3103 2138 3103 \nQ 1681 3103 1420 2742 \nQ 1159 2381 1159 1747 \nQ 1159 1113 1420 752 \nQ 1681 391 2138 391 \nQ 2594 391 2855 752 \nQ 3116 1113 3116 1747 \nz\nM 1159 2969 \nQ 1341 3281 1617 3432 \nQ 1894 3584 2278 3584 \nQ 2916 3584 3314 3078 \nQ 3713 2572 3713 1747 \nQ 3713 922 3314 415 \nQ 2916 -91 2278 -91 \nQ 1894 -91 1617 61 \nQ 1341 213 1159 525 \nL 1159 0 \nL 581 0 \nL 581 4863 \nL 1159 4863 \nL 1159 2969 \nz\n\" transform=\"scale(0.015625)\"/>\n      </defs>\n      <use xlink:href=\"#DejaVuSans-45\"/>\n      <use xlink:href=\"#DejaVuSans-6e\" x=\"63.183594\"/>\n      <use xlink:href=\"#DejaVuSans-73\" x=\"126.5625\"/>\n      <use xlink:href=\"#DejaVuSans-65\" x=\"178.662109\"/>\n      <use xlink:href=\"#DejaVuSans-6d\" x=\"240.185547\"/>\n      <use xlink:href=\"#DejaVuSans-62\" x=\"337.597656\"/>\n      <use xlink:href=\"#DejaVuSans-6c\" x=\"401.074219\"/>\n      <use xlink:href=\"#DejaVuSans-65\" x=\"428.857422\"/>\n      <use xlink:href=\"#DejaVuSans-20\" x=\"490.380859\"/>\n      <use xlink:href=\"#DejaVuSans-4f\" x=\"522.167969\"/>\n      <use xlink:href=\"#DejaVuSans-72\" x=\"600.878906\"/>\n      <use xlink:href=\"#DejaVuSans-61\" x=\"641.992188\"/>\n      <use xlink:href=\"#DejaVuSans-63\" x=\"703.271484\"/>\n      <use xlink:href=\"#DejaVuSans-6c\" x=\"758.251953\"/>\n      <use xlink:href=\"#DejaVuSans-65\" x=\"786.035156\"/>\n     </g>\n    </g>\n    <g id=\"line2d_23\">\n     <path d=\"M 62.328125 49.654687 \nL 72.328125 49.654687 \nL 82.328125 49.654687 \n\" style=\"fill: none; stroke-dasharray: 1.5,1.5; stroke-dashoffset: 0; stroke: #2ca02c; stroke-width: 1.5\"/>\n    </g>\n    <g id=\"text_19\">\n     <!-- W* Oracle -->\n     <g transform=\"translate(90.328125 53.154687) scale(0.1 -0.1)\">\n      <defs>\n       <path id=\"DejaVuSans-57\" d=\"M 213 4666 \nL 850 4666 \nL 1831 722 \nL 2809 4666 \nL 3519 4666 \nL 4500 722 \nL 5478 4666 \nL 6119 4666 \nL 4947 0 \nL 4153 0 \nL 3169 4050 \nL 2175 0 \nL 1381 0 \nL 213 4666 \nz\n\" transform=\"scale(0.015625)\"/>\n       <path id=\"DejaVuSans-2a\" d=\"M 3009 3897 \nL 1888 3291 \nL 3009 2681 \nL 2828 2375 \nL 1778 3009 \nL 1778 1831 \nL 1422 1831 \nL 1422 3009 \nL 372 2375 \nL 191 2681 \nL 1313 3291 \nL 191 3897 \nL 372 4206 \nL 1422 3572 \nL 1422 4750 \nL 1778 4750 \nL 1778 3572 \nL 2828 4206 \nL 3009 3897 \nz\n\" transform=\"scale(0.015625)\"/>\n      </defs>\n      <use xlink:href=\"#DejaVuSans-57\"/>\n      <use xlink:href=\"#DejaVuSans-2a\" x=\"98.876953\"/>\n      <use xlink:href=\"#DejaVuSans-20\" x=\"148.876953\"/>\n      <use xlink:href=\"#DejaVuSans-4f\" x=\"180.664062\"/>\n      <use xlink:href=\"#DejaVuSans-72\" x=\"259.375\"/>\n      <use xlink:href=\"#DejaVuSans-61\" x=\"300.488281\"/>\n      <use xlink:href=\"#DejaVuSans-63\" x=\"361.767578\"/>\n      <use xlink:href=\"#DejaVuSans-6c\" x=\"416.748047\"/>\n      <use xlink:href=\"#DejaVuSans-65\" x=\"444.53125\"/>\n     </g>\n    </g>\n   </g>\n  </g>\n </g>\n <defs>\n  <clipPath id=\"pc16300db05\">\n   <rect x=\"53.328125\" y=\"7.2\" width=\"331.776\" height=\"235.008\"/>\n  </clipPath>\n </defs>\n</svg>\n"
     },
     "metadata": {},
     "output_type": "display_data"
    }
   ],
   "source": [
    "# Display linechart for SONY.\n",
    "linechart(sony_testing_table)"
   ],
   "metadata": {
    "collapsed": false
   }
  },
  {
   "cell_type": "code",
   "execution_count": 50,
   "metadata": {},
   "outputs": [
    {
     "data": {
      "text/plain": "<IPython.core.display.Latex object>",
      "text/latex": " 2. Examine your chart. Any patterns? (e.g any differences in the year 4 and year 5)."
     },
     "execution_count": 50,
     "metadata": {},
     "output_type": "execute_result"
    }
   ],
   "source": [
    "Latex(\n",
    "    r' 2. Examine your chart. Any patterns? (e.g any differences in the year 4 and year 5).'\n",
    ")"
   ]
  },
  {
   "cell_type": "code",
   "execution_count": 51,
   "outputs": [
    {
     "data": {
      "text/plain": "<IPython.core.display.Latex object>",
      "text/latex": "After examining the plot for SONY stock, it is clear that the prediction strategies both had a significant positive impact on the buying strategy compared to the buy and hold strategy. It seems that having a \"W\" value that is higher increases the accuracy and is very close to the ensemble value. I do notice from the graph itself that there is a big dip early on into 2020, and a similar looking dip at around the same time in early 2019, so that could be something to look into as an investor."
     },
     "execution_count": 51,
     "metadata": {},
     "output_type": "execute_result"
    }
   ],
   "source": [
    "Latex(\n",
    "    r'After examining the plot for SONY stock, it is clear that the prediction strategies both had a significant positive impact on the buying strategy compared to the buy and hold strategy. It seems that having a \"W\" value that is higher increases the accuracy and is very close to the ensemble value. I do notice from the graph itself that there is a big dip early on into 2020, and a similar looking dip at around the same time in early 2019, so that could be something to look into as an investor.'\n",
    ")"
   ],
   "metadata": {
    "collapsed": false
   }
  },
  {
   "cell_type": "markdown",
   "metadata": {},
   "source": [
    "#### References\n",
    "- https://pandas.pydata.org/docs/user_guide/style.html\n",
    "- https://pandas.pydata.org/docs/user_guide/window.html\n",
    "- https://pandas.pydata.org/pandas-docs/stable/user_guide/style.html#Optimization\n",
    "- https://seaborn.pydata.org/generated/seaborn.lineplot.html\n",
    "- https://matplotlib.org/stable/api/dates_api.html\n",
    "- https://pandas.pydata.org/docs/reference/api/pandas.DataFrame.html\n",
    "- https://pandas.pydata.org/docs/getting_started/intro_tutorials/03_subset_data.html\n",
    "- https://pandas.pydata.org/docs/getting_started/intro_tutorials/05_add_columns.html\n",
    "- https://pandas.pydata.org/pandas-docs/stable/user_guide/indexing.html#returning-a-view-versus-a-copy\n",
    "- https://ipython.readthedocs.io/en/stable/interactive/magics.html#cell-magics\n",
    "- https://pandas.pydata.org/docs/getting_started/intro_tutorials/06_calculate_statistics.html\n",
    "- https://docs.mathjax.org/en/latest/options/index.html#configuring-mathjax"
   ]
  }
 ],
 "metadata": {
  "kernelspec": {
   "display_name": "assignment2 jupyter kernel",
   "language": "python",
   "name": "assignment2-kernel"
  },
  "language_info": {
   "codemirror_mode": {
    "name": "ipython",
    "version": 3
   },
   "file_extension": ".py",
   "mimetype": "text/x-python",
   "name": "python",
   "nbconvert_exporter": "python",
   "pygments_lexer": "ipython3",
   "version": "3.10.6"
  }
 },
 "nbformat": 4,
 "nbformat_minor": 4
}
