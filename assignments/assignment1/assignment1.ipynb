{
 "cells": [
  {
   "cell_type": "markdown",
   "metadata": {},
   "source": [
    "## MET CS677 Data Science with Python - Assignment 1\n",
    "### Alan Szmyt\n",
    "#### Built with Python 3.10.6"
   ]
  },
  {
   "cell_type": "markdown",
   "metadata": {},
   "source": [
    "In this assignment, you will use Python to analyze the distribution of returns and a number of trading strategies.\n",
    "This assignment has to be done in Python only (no NumPy or Pandas) except for generating daily returns data and saving it to a file.\n",
    "<br>\n",
    "As part of the preliminary assignment, you have generated a daily stock file for your stock and a daily file \"SPY.csv\" for the S&P-500 (using the symbol \"SPY\").\n",
    "For both files, you have data for **2015 - 2019** (5 years). In this assignment, you will investigate 2 sets of questions concerning daily returns.\n",
    "<br>\n",
    "In this assignment, you will investigate 2 sets of questions concerning daily returns:\n",
    "1. If you buy a stock for just one day, what is the best day of the week to do so? Specifically, you will analyze the daily returns for each day of the week. A \"Monday\" return is the percent change in (adjusted) closing price from the previous Friday to Monday. A \"Tuesday\" return is the percent change in price from Monday to Tuesday and so on.\n",
    "2. Comparison of returns if you have an \"oracle\" that can predict the future behavior of your stock price."
   ]
  },
  {
   "cell_type": "markdown",
   "metadata": {},
   "source": [
    "We start with introducing some notation. Let $R = {r1, . . . , rn}$ denote your daily returns for your stock for $n$ days.\n",
    "<br>\n",
    "The mean of the daily returns.\n",
    "\\begin{equation}\n",
    "\\mu(R)=\\frac{r_1 + ... + r_n}{n}\n",
    "\\end{equation}\n",
    "To compute the standard deviation $\\sigma(R)$ we can use:\n",
    "\\begin{equation}\n",
    "\\sigma^2 (R)=\\frac{r_1^2 + ... + r_n^2}{n} - \\mu^2(R)\n",
    "\\end{equation}\n",
    "Let us split the daily returns $R$ into two sets.\n",
    "1. $R^-$: all negative returns\n",
    "2. $R^+$: all non-negative returns\n",
    "\n",
    "Finally, let $|R^-|$ denote the number of days with negative returns and let $|R^+|$ denote the number of days with non-negative returns."
   ]
  },
  {
   "cell_type": "markdown",
   "metadata": {},
   "source": [
    "Current Python Version:"
   ]
  },
  {
   "cell_type": "code",
   "execution_count": 42,
   "metadata": {},
   "outputs": [
    {
     "name": "stdout",
     "output_type": "stream",
     "text": [
      "Python 3.10.6\r\n"
     ]
    }
   ],
   "source": [
    "!python --version"
   ]
  },
  {
   "cell_type": "code",
   "execution_count": 43,
   "metadata": {},
   "outputs": [],
   "source": [
    "import os\n",
    "from pathlib import Path\n",
    "from tabulate import tabulate\n",
    "from IPython.display import display, Markdown\n",
    "from collections import Counter\n",
    "from assignment1 import Assignment1Error, read_ticker_file, StockDataEntry, StockData, mean, StockDataTable, float_to_currency, difference, percent_change, Oracle, LossGain, RevengeScenarioA, RevengeScenarioB, RevengeScenarioC\n",
    "\n",
    "# Directory path to the 'resources' folder.\n",
    "resources: Path = Path(os.path.abspath('')).joinpath(\"resources\").resolve()"
   ]
  },
  {
   "cell_type": "code",
   "execution_count": 44,
   "metadata": {},
   "outputs": [],
   "source": [
    "# Sony stock ticker file path and ticker abbreviation.\n",
    "sony_ticker: str = \"SONY\"\n",
    "sony_ticker_file: Path = resources.joinpath(\"SONY.csv\")"
   ]
  },
  {
   "cell_type": "code",
   "execution_count": 45,
   "metadata": {},
   "outputs": [
    {
     "name": "stdout",
     "output_type": "stream",
     "text": [
      "Opening file /home/alan/src/bu/cs677/assignment1/assignment1/resources/SONY.csv for ticker: SONY\n"
     ]
    }
   ],
   "source": [
    "# Parse Sony stock data from csv file to a StockData instance.\n",
    "sony_stock_data: StockData = StockData.from_ticker_file(\n",
    "    sony_ticker_file, sony_ticker\n",
    ")"
   ]
  },
  {
   "cell_type": "code",
   "execution_count": 46,
   "metadata": {},
   "outputs": [],
   "source": [
    "# S&P-500 stock ticker file path and ticker abbreviation.\n",
    "spy_ticker: str = \"SPY\"\n",
    "spy_ticker_file: Path = resources.joinpath(\"SPY.csv\")"
   ]
  },
  {
   "cell_type": "code",
   "execution_count": 47,
   "metadata": {},
   "outputs": [
    {
     "name": "stdout",
     "output_type": "stream",
     "text": [
      "Opening file /home/alan/src/bu/cs677/assignment1/assignment1/resources/SPY.csv for ticker: SPY\n"
     ]
    }
   ],
   "source": [
    "# Parse S&P-500 stock data from csv file to a StockData instance.\n",
    "spy_stock_data: StockData = StockData.from_ticker_file(\n",
    "    spy_ticker_file, spy_ticker\n",
    ")"
   ]
  },
  {
   "cell_type": "markdown",
   "metadata": {},
   "source": [
    "### Question #1"
   ]
  },
  {
   "cell_type": "markdown",
   "metadata": {},
   "source": [
    "1. For each of the 5 years, compute the mean and standard\n",
    "deviation for the sets R, R− and R+ of daily returns for\n",
    "your stock for each day of the week."
   ]
  },
  {
   "cell_type": "code",
   "execution_count": 48,
   "metadata": {},
   "outputs": [],
   "source": [
    "# Print the parsed Sony stock data with pretty format.\n",
    "# sony_stock_data.pretty_print()"
   ]
  },
  {
   "cell_type": "markdown",
   "metadata": {},
   "source": [
    "2. Summarize your results in the table as shown below (5 tables total)."
   ]
  },
  {
   "cell_type": "code",
   "execution_count": 49,
   "metadata": {},
   "outputs": [],
   "source": [
    "# Get stock data for each year in the main dataset.\n",
    "sony_stock_data_per_year: list[StockData] = sony_stock_data.stock_data_for_years()"
   ]
  },
  {
   "cell_type": "code",
   "execution_count": 50,
   "metadata": {},
   "outputs": [
    {
     "data": {
      "text/plain": "<IPython.core.display.Markdown object>",
      "text/markdown": "Data Table for SONY in 2016<br>\\begin{tabular}{lrrrrrrrr}\n\\hline\n Day       &     $\\mu(R)$ &   $\\sigma(R)$ &   |R− | &   $\\mu(R− )$ &   $\\sigma(R− )$ &   |R+ | &   $\\mu(R+ )$ &   $\\sigma(R+ )$ \\\\\n\\hline\n Monday    &  0.00024875  &     0.0161409 &      22 &   -0.0131527 &      0.00989557 &      24 &    0.0125334 &      0.00989557 \\\\\n Tuesday   &  0.00360813  &     0.0205048 &      22 &   -0.0145336 &      0.0148977  &      30 &    0.0169121 &      0.0148977  \\\\\n Wednesday & -0.000211196 &     0.021931  &      27 &   -0.0154648 &      0.0146296  &      25 &    0.0162627 &      0.0146296  \\\\\n Thursday  & -0.00236061  &     0.0182095 &      26 &   -0.0152625 &      0.0107077  &      25 &    0.0110574 &      0.0107077  \\\\\n Friday    &  0.00239639  &     0.0330681 &      29 &   -0.014616  &      0.0383568  &      22 &    0.0248218 &      0.0383568  \\\\\n\\hline\n\\end{tabular}"
     },
     "metadata": {},
     "output_type": "display_data"
    },
    {
     "data": {
      "text/plain": "<IPython.core.display.Markdown object>",
      "text/markdown": "Data Table for SONY in 2017<br>\\begin{tabular}{lrrrrrrrr}\n\\hline\n Day       &    $\\mu(R)$ &   $\\sigma(R)$ &   |R− | &   $\\mu(R− )$ &   $\\sigma(R− )$ &   |R+ | &   $\\mu(R+ )$ &   $\\sigma(R+ )$ \\\\\n\\hline\n Monday    & 0.00133615  &     0.0121869 &      23 &  -0.00734599 &      0.00895061 &      23 &   0.0100183  &      0.00895061 \\\\\n Tuesday   & 0.00200117  &     0.0187979 &      27 &  -0.00711846 &      0.0229975  &      24 &   0.0122607  &      0.0229975  \\\\\n Wednesday & 0.00158795  &     0.0118637 &      23 &  -0.00847699 &      0.00855503 &      29 &   0.00957049 &      0.00855503 \\\\\n Thursday  & 0.000887444 &     0.0152878 &      25 &  -0.0101982  &      0.0117666  &      26 &   0.0115467  &      0.0117666  \\\\\n Friday    & 0.00404438  &     0.0112905 &      15 &  -0.00824009 &      0.00797247 &      36 &   0.00916291 &      0.00797247 \\\\\n\\hline\n\\end{tabular}"
     },
     "metadata": {},
     "output_type": "display_data"
    },
    {
     "data": {
      "text/plain": "<IPython.core.display.Markdown object>",
      "text/markdown": "Data Table for SONY in 2018<br>\\begin{tabular}{lrrrrrrrr}\n\\hline\n Day       &     $\\mu(R)$ &   $\\sigma(R)$ &   |R− | &   $\\mu(R− )$ &   $\\sigma(R− )$ &   |R+ | &   $\\mu(R+ )$ &   $\\sigma(R+ )$ \\\\\n\\hline\n Monday    & -0.00161914  &     0.0198012 &      26 &   -0.0149583 &      0.0107943  &      22 &    0.0141453 &      0.0107943  \\\\\n Tuesday   &  0.000735536 &     0.0175744 &      24 &   -0.0133905 &      0.0119715  &      27 &    0.013292  &      0.0119715  \\\\\n Wednesday &  0.00495346  &     0.0165974 &      17 &   -0.0136767 &      0.00968424 &      33 &    0.0145508 &      0.00968424 \\\\\n Thursday  & -0.00171743  &     0.0169815 &      24 &   -0.0153328 &      0.00800603 &      27 &    0.0103851 &      0.00800603 \\\\\n Friday    & -6.99568e-05 &     0.0218275 &      25 &   -0.0153183 &      0.01258    &      26 &    0.0145919 &      0.01258    \\\\\n\\hline\n\\end{tabular}"
     },
     "metadata": {},
     "output_type": "display_data"
    },
    {
     "data": {
      "text/plain": "<IPython.core.display.Markdown object>",
      "text/markdown": "Data Table for SONY in 2019<br>\\begin{tabular}{lrrrrrrrr}\n\\hline\n Day       &     $\\mu(R)$ &   $\\sigma(R)$ &   |R− | &   $\\mu(R− )$ &   $\\sigma(R− )$ &   |R+ | &   $\\mu(R+ )$ &   $\\sigma(R+ )$ \\\\\n\\hline\n Monday    &  0.00340684  &     0.0163097 &      20 &  -0.00815489 &      0.015561   &      28 &   0.0116652  &      0.015561   \\\\\n Tuesday   &  9.70401e-06 &     0.0154279 &      26 &  -0.0112311  &      0.00978953 &      26 &   0.0112506  &      0.00978953 \\\\\n Wednesday &  0.00133888  &     0.0164509 &      22 &  -0.0126673  &      0.00819523 &      29 &   0.0119643  &      0.00819523 \\\\\n Thursday  & -0.000572659 &     0.0156412 &      21 &  -0.0145989  &      0.00908976 &      29 &   0.00958427 &      0.00908976 \\\\\n Friday    &  0.00345786  &     0.0211362 &      21 &  -0.0124346  &      0.0155949  &      30 &   0.0145826  &      0.0155949  \\\\\n\\hline\n\\end{tabular}"
     },
     "metadata": {},
     "output_type": "display_data"
    },
    {
     "data": {
      "text/plain": "<IPython.core.display.Markdown object>",
      "text/markdown": "Data Table for SONY in 2020<br>\\begin{tabular}{lrrrrrrrr}\n\\hline\n Day       &     $\\mu(R)$ &   $\\sigma(R)$ &   |R− | &   $\\mu(R− )$ &   $\\sigma(R− )$ &   |R+ | &   $\\mu(R+ )$ &   $\\sigma(R+ )$ \\\\\n\\hline\n Monday    &  0.00169048  &     0.0234772 &      16 &   -0.0215908 &       0.0127312 &      32 &    0.0133311 &       0.0127312 \\\\\n Tuesday   &  0.00352212  &     0.0210218 &      26 &   -0.0119665 &       0.0186082 &      26 &    0.0190107 &       0.0186082 \\\\\n Wednesday &  0.00299416  &     0.0197988 &      18 &   -0.0181206 &       0.0119293 &      34 &    0.0141725 &       0.0119293 \\\\\n Thursday  & -0.000298297 &     0.0224588 &      27 &   -0.0149837 &       0.0126194 &      24 &    0.0162228 &       0.0126194 \\\\\n Friday    &  0.00093815  &     0.0189705 &      24 &   -0.0136499 &       0.0148501 &      25 &    0.0149427 &       0.0148501 \\\\\n\\hline\n\\end{tabular}"
     },
     "metadata": {},
     "output_type": "display_data"
    }
   ],
   "source": [
    "# Display each year as a table.\n",
    "for data in sony_stock_data_per_year:\n",
    "    table: StockDataTable = data.as_table()\n",
    "    display(Markdown(f\"{table.title}<br>{tabulate(table.table_data, table.latex_headers, tablefmt='latex_raw')}\"))"
   ]
  },
  {
   "cell_type": "markdown",
   "metadata": {},
   "source": [
    "3. Are there more days with negative or non-negative returns?"
   ]
  },
  {
   "cell_type": "code",
   "execution_count": 51,
   "metadata": {},
   "outputs": [
    {
     "name": "stdout",
     "output_type": "stream",
     "text": [
      "Total Negative Days: 576\n",
      "Total Non-Negative Days: 682\n",
      "There are more non-negative days for this dataset!\n"
     ]
    }
   ],
   "source": [
    "# Separate lists of all negative and non-negative daily returns entries.\n",
    "negative_days: list[StockDataEntry] = sony_stock_data.negative_daily_returns\n",
    "non_negative_days: list[StockDataEntry] = sony_stock_data.non_negative_daily_returns\n",
    "\n",
    "overall_return_status: str = sony_stock_data.overall_return_status\n",
    "print(overall_return_status)"
   ]
  },
  {
   "cell_type": "markdown",
   "metadata": {},
   "source": [
    "4. Does your stock lose more on a \"down\" day than it gains on an \"up\" day?"
   ]
  },
  {
   "cell_type": "code",
   "execution_count": 52,
   "metadata": {},
   "outputs": [
    {
     "name": "stdout",
     "output_type": "stream",
     "text": [
      "You gain more on a 'up' day.\n"
     ]
    }
   ],
   "source": [
    "# Compare the overall loss/gain means for the entire dataset.\n",
    "loss_gain_comparison: LossGain = sony_stock_data.loss_gain_comparison()\n",
    "print(loss_gain_comparison.comparison)"
   ]
  },
  {
   "cell_type": "markdown",
   "metadata": {},
   "source": [
    "5. Are these results the same across days of the week?"
   ]
  },
  {
   "cell_type": "code",
   "execution_count": 53,
   "metadata": {},
   "outputs": [
    {
     "name": "stdout",
     "output_type": "stream",
     "text": [
      "Loss/gain for Thursday: You gain more on a 'up' day.\n",
      "Loss/gain for Tuesday: You gain more on a 'up' day.\n",
      "Loss/gain for Friday: You gain more on a 'up' day.\n",
      "Loss/gain for Wednesday: You gain more on a 'up' day.\n",
      "Loss/gain for Monday: You gain more on a 'up' day.\n"
     ]
    }
   ],
   "source": [
    "# Get the loss/gain mean for each day of the week in the dataset.\n",
    "loss_gain_per_day: dict[str, LossGain] = sony_stock_data.loss_gain_per_day()\n",
    "for day, loss_gain in loss_gain_per_day.items():\n",
    "    print(f\"Loss/gain for {day}: {loss_gain.comparison}\")"
   ]
  },
  {
   "cell_type": "markdown",
   "metadata": {},
   "source": [
    "### Question #2"
   ]
  },
  {
   "cell_type": "markdown",
   "metadata": {},
   "source": [
    "1. Are there any patterns across days of the week?"
   ]
  },
  {
   "cell_type": "markdown",
   "metadata": {},
   "source": [
    "When analyzing the data table for all five years, I see that there is a pattern where Thursday seems to be negative overall, whereas every other day is positive. This can be shown below in part 3 as well. Interestingly though, it seems that Friday has the highest standard deviation, which indicates that there are more swings in the stock price moving from Thursday to Friday. So, there could be a potential for earnings or loss on Friday because of the increased risk. It also means that there could be some common occurrence that happens on Thursdays to Friday that investors should look into to take advantage of that change."
   ]
  },
  {
   "cell_type": "markdown",
   "metadata": {},
   "source": [
    "2. Are there any patterns across different years for the same day of the week?"
   ]
  },
  {
   "cell_type": "code",
   "execution_count": 54,
   "metadata": {},
   "outputs": [
    {
     "name": "stdout",
     "output_type": "stream",
     "text": [
      "Counter({'Tuesday': 2, 'Friday': 2, 'Wednesday': 1})\n"
     ]
    }
   ],
   "source": [
    "# Get a count of how many times each day was the best over the years for SONY dataset.\n",
    "best_sony_days_count: Counter = Counter([entry.best_return_day for entry in sony_stock_data_per_year])\n",
    "print(best_sony_days_count)"
   ]
  },
  {
   "cell_type": "code",
   "execution_count": 55,
   "metadata": {},
   "outputs": [
    {
     "name": "stdout",
     "output_type": "stream",
     "text": [
      "Counter({'Tuesday': 2, 'Friday': 2, 'Wednesday': 1})\n"
     ]
    }
   ],
   "source": [
    "# Get a count of how many times each day was the best over the years for S&P-500 dataset.\n",
    "best_spy_days_count: Counter = Counter([entry.best_return_day for entry in spy_stock_data.stock_data_for_years()])\n",
    "print(best_spy_days_count)"
   ]
  },
  {
   "cell_type": "markdown",
   "metadata": {},
   "source": [
    "One pattern that I noticed looking across the weeks is that Tuesday seems to be a general positive day, so above I printed the counts for best days over the years.\n",
    "Interestingly, both the S&P-500 and SONY dataset have the same counts and Tuesday and Friday are the best days. I don't know why this pattern occurs, but this could be an area for investors to look into."
   ]
  },
  {
   "cell_type": "markdown",
   "metadata": {},
   "source": [
    "3. What are the best and worst days of the week to be invested for each year?"
   ]
  },
  {
   "cell_type": "code",
   "execution_count": 56,
   "metadata": {},
   "outputs": [
    {
     "name": "stdout",
     "output_type": "stream",
     "text": [
      "Best day for 2016: Tuesday\n",
      "Worst day for 2016: Thursday\n",
      "Best day for 2017: Friday\n",
      "Worst day for 2017: Thursday\n",
      "Best day for 2018: Wednesday\n",
      "Worst day for 2018: Thursday\n",
      "Best day for 2019: Friday\n",
      "Worst day for 2019: Thursday\n",
      "Best day for 2020: Tuesday\n",
      "Worst day for 2020: Thursday\n"
     ]
    }
   ],
   "source": [
    "# For each year, decide the best day and worst day based upon on average daily return for each day.\n",
    "for data in sony_stock_data_per_year:\n",
    "    print(f\"Best day for {data.years_str}: {data.best_return_day}\")\n",
    "    print(f\"Worst day for {data.years_str}: {data.worst_return_day}\")"
   ]
  },
  {
   "cell_type": "markdown",
   "metadata": {},
   "source": [
    "4. Do these days change from year to year for your stock?"
   ]
  },
  {
   "cell_type": "code",
   "execution_count": 57,
   "metadata": {},
   "outputs": [
    {
     "name": "stdout",
     "output_type": "stream",
     "text": [
      "{'Friday', 'Tuesday', 'Wednesday'}\n"
     ]
    }
   ],
   "source": [
    "# Best days across all years.\n",
    "best_days_across_years: set[str] = {entry.best_return_day for entry in sony_stock_data_per_year}\n",
    "print(best_days_across_years)"
   ]
  },
  {
   "cell_type": "code",
   "execution_count": 58,
   "metadata": {},
   "outputs": [
    {
     "name": "stdout",
     "output_type": "stream",
     "text": [
      "{'Thursday'}\n"
     ]
    }
   ],
   "source": [
    "# Worst days across all years.\n",
    "worst_days_across_years: set[str] = {entry.worst_return_day for entry in sony_stock_data_per_year}\n",
    "print(worst_days_across_years)"
   ]
  },
  {
   "cell_type": "markdown",
   "metadata": {},
   "source": [
    "The best day for SONY fluctuates each year between Tuesday, Friday, and Wednesday.\n",
    "The worst day is Thursday and is consistent across all years."
   ]
  },
  {
   "cell_type": "markdown",
   "metadata": {},
   "source": [
    "### Question #3\n",
    "\n",
    "Compute the aggregate table across all 5 years,\n",
    "one table for your stock and one table for S&P-500\n",
    "(using data for \"SPY\")."
   ]
  },
  {
   "cell_type": "code",
   "execution_count": 59,
   "metadata": {},
   "outputs": [
    {
     "data": {
      "text/plain": "<IPython.core.display.Markdown object>",
      "text/markdown": "Data Table for SONY in 2016 - 2020<br>\\begin{tabular}{lrrrrrrrr}\n\\hline\n Day       &     $\\mu(R)$ &   $\\sigma(R)$ &   |R− | &   $\\mu(R− )$ &   $\\sigma(R− )$ &   |R+ | &   $\\mu(R+ )$ &   $\\sigma(R+ )$ \\\\\n\\hline\n Monday    &  0.00101635  &     0.0181242 &     107 &   -0.0126709 &       0.0121245 &     129 &    0.0123693 &       0.0121245 \\\\\n Tuesday   &  0.00198004  &     0.0188358 &     125 &   -0.0114916 &       0.0164181 &     133 &    0.0146413 &       0.0164181 \\\\\n Wednesday &  0.00211379  &     0.0177596 &     107 &   -0.0135502 &       0.0109867 &     150 &    0.0132874 &       0.0109867 \\\\\n Thursday  & -0.000813254 &     0.017948  &     123 &   -0.0140724 &       0.0107337 &     131 &    0.0116362 &       0.0107337 \\\\\n Friday    &  0.00216297  &     0.0224562 &     114 &   -0.0133259 &       0.0198801 &     139 &    0.014866  &       0.0198801 \\\\\n\\hline\n\\end{tabular}"
     },
     "metadata": {},
     "output_type": "display_data"
    }
   ],
   "source": [
    "# Display the SONY stock data in a table.\n",
    "sony_stock_table: StockDataTable = sony_stock_data.as_table()\n",
    "display(Markdown(f\"{sony_stock_table.title}<br>{tabulate(sony_stock_table.table_data, sony_stock_table.latex_headers, tablefmt='latex_raw')}\"))"
   ]
  },
  {
   "cell_type": "code",
   "execution_count": 60,
   "metadata": {},
   "outputs": [
    {
     "data": {
      "text/plain": "<IPython.core.display.Markdown object>",
      "text/markdown": "Data Table for SPY in 2016 - 2020<br>\\begin{tabular}{lrrrrrrrr}\n\\hline\n Day       &     $\\mu(R)$ &   $\\sigma(R)$ &   |R− | &   $\\mu(R− )$ &   $\\sigma(R− )$ &   |R+ | &   $\\mu(R+ )$ &   $\\sigma(R+ )$ \\\\\n\\hline\n Monday    &  0.000508602 &     0.0139131 &      99 &  -0.00861271 &      0.00845957 &     137 &   0.00709992 &      0.00845957 \\\\\n Tuesday   &  0.00121495  &     0.0114646 &     112 &  -0.00670917 &      0.0105001  &     146 &   0.00729372 &      0.0105001  \\\\\n Wednesday &  0.000906286 &     0.0111153 &     106 &  -0.00736878 &      0.00751546 &     151 &   0.00671528 &      0.00751546 \\\\\n Thursday  & -2.13937e-05 &     0.0116764 &     117 &  -0.00713607 &      0.00636175 &     137 &   0.00605464 &      0.00636175 \\\\\n Friday    &  0.000555782 &     0.0111108 &     111 &  -0.00725718 &      0.00889529 &     142 &   0.0066631  &      0.00889529 \\\\\n\\hline\n\\end{tabular}"
     },
     "metadata": {},
     "output_type": "display_data"
    }
   ],
   "source": [
    "# Display the SPY stock data in a table.\n",
    "spy_stock_table: StockDataTable = spy_stock_data.as_table()\n",
    "display(Markdown(f\"{spy_stock_table.title}<br>{tabulate(spy_stock_table.table_data, spy_stock_table.latex_headers, tablefmt='latex_raw')}\"))"
   ]
  },
  {
   "cell_type": "markdown",
   "metadata": {},
   "source": [
    "1. What is the best and worst days of the week for each?"
   ]
  },
  {
   "cell_type": "code",
   "execution_count": 61,
   "metadata": {},
   "outputs": [
    {
     "name": "stdout",
     "output_type": "stream",
     "text": [
      "The best day of the week for the SONY dataset is Friday.\n"
     ]
    }
   ],
   "source": [
    "# Calculate the best day of week for the SONY dataset by taking the mean for all the entries for each day.\n",
    "best_sony_return_day: str = sony_stock_data.best_return_day\n",
    "print(f\"The best day of the week for the SONY dataset is {best_sony_return_day}.\")"
   ]
  },
  {
   "cell_type": "code",
   "execution_count": 62,
   "metadata": {},
   "outputs": [
    {
     "name": "stdout",
     "output_type": "stream",
     "text": [
      "The worst day of the week for the SONY dataset is Thursday.\n"
     ]
    }
   ],
   "source": [
    "# Calculate the worst day of week for the SONY dataset by taking the mean for all the entries for each day.\n",
    "worst_sony_return_day: str = sony_stock_data.worst_return_day\n",
    "print(f\"The worst day of the week for the SONY dataset is {worst_sony_return_day}.\")"
   ]
  },
  {
   "cell_type": "markdown",
   "metadata": {},
   "source": [
    "2. Are these days the same for your stock as they are for S&P-500?"
   ]
  },
  {
   "cell_type": "code",
   "execution_count": 63,
   "metadata": {},
   "outputs": [
    {
     "name": "stdout",
     "output_type": "stream",
     "text": [
      "The best day of the week for the S&P-500 dataset is Tuesday.\n"
     ]
    }
   ],
   "source": [
    "# Calculate the best day of week for the S&P-500 dataset by taking the mean for all the entries for each day.\n",
    "best_spy_return_day: str = spy_stock_data.best_return_day\n",
    "print(f\"The best day of the week for the S&P-500 dataset is {best_spy_return_day}.\")"
   ]
  },
  {
   "cell_type": "code",
   "execution_count": 64,
   "metadata": {},
   "outputs": [
    {
     "name": "stdout",
     "output_type": "stream",
     "text": [
      "The worst day of the week for the S&P-500 dataset is Thursday.\n"
     ]
    }
   ],
   "source": [
    "# Calculate the worst day of week for the S&P-500 dataset by taking the mean for all the entries for each day.\n",
    "worst_spy_return_day: str = spy_stock_data.worst_return_day\n",
    "print(f\"The worst day of the week for the S&P-500 dataset is {worst_spy_return_day}.\")"
   ]
  },
  {
   "cell_type": "markdown",
   "metadata": {},
   "source": [
    "For the next questions, suppose that you have an **\"oracle\"**.\n",
    "On any day, this oracle could tell you whether price of any stock would increase or decrease the next day.\n",
    "Assume that you have no transaction costs. You start with $\\$100 on the first trading day of 2016 to trade\n",
    "your stock and another $\\$100 to trade \"SPY\".\n"
   ]
  },
  {
   "cell_type": "markdown",
   "metadata": {},
   "source": [
    "### Question #4\n",
    "\n",
    "You listen to the oracle and follow its advice. How much money will you have on the last trading day of **2020**:"
   ]
  },
  {
   "cell_type": "code",
   "execution_count": 65,
   "metadata": {},
   "outputs": [],
   "source": [
    "# An Oracle instance to listen to.\n",
    "oracle: Oracle = Oracle()"
   ]
  },
  {
   "cell_type": "markdown",
   "metadata": {},
   "source": [
    "1. SONY"
   ]
  },
  {
   "cell_type": "code",
   "execution_count": 66,
   "metadata": {},
   "outputs": [
    {
     "name": "stdout",
     "output_type": "stream",
     "text": [
      "Current investment of SONY after listening to oracle: $809,108.93\n"
     ]
    }
   ],
   "source": [
    "# Listen to the oracle for the SONY stock.\n",
    "sony_oracle_return: float = oracle.make_predictions(stocks=sony_stock_data, initial_investment=100.0)\n",
    "print(f\"Current investment of SONY after listening to oracle: {float_to_currency(sony_oracle_return)}\")"
   ]
  },
  {
   "cell_type": "markdown",
   "metadata": {},
   "source": [
    "2. S&P-500"
   ]
  },
  {
   "cell_type": "code",
   "execution_count": 67,
   "metadata": {},
   "outputs": [
    {
     "name": "stdout",
     "output_type": "stream",
     "text": [
      "Current investment after of S&P-500 listening to oracle: $11,985.06\n"
     ]
    }
   ],
   "source": [
    "# Listen to the oracle for the SPY stock.\n",
    "spy_oracle_return: float = oracle.make_predictions(stocks=spy_stock_data, initial_investment=100.0)\n",
    "print(f\"Current investment after of S&P-500 listening to oracle: {float_to_currency(spy_oracle_return)}\")"
   ]
  },
  {
   "cell_type": "markdown",
   "metadata": {},
   "source": [
    "### Question #5\n",
    "\n",
    "Consider the \"buy-and-hold\" strategy: you buy on the first trading day and sell on the last day.\n",
    "So, you do not listen to your oracle at all. As before, assume that you start with $\\$100 for both your stock and \"SPY\"."
   ]
  },
  {
   "cell_type": "markdown",
   "metadata": {},
   "source": [
    "1. How much money will you have on the last trading day of **2020**?"
   ]
  },
  {
   "cell_type": "code",
   "execution_count": 68,
   "metadata": {},
   "outputs": [
    {
     "name": "stdout",
     "output_type": "stream",
     "text": [
      "Current investment of SONY after ignoring the oracle: $407.52\n"
     ]
    }
   ],
   "source": [
    "# Ignore the oracle and hold the stock throughout the duration of the dataset for SONY.\n",
    "sony_buy_and_hold_return: float = sony_stock_data.buy_and_hold(initial_investment=100.0)\n",
    "print(f\"Current investment of SONY after ignoring the oracle: {float_to_currency(sony_buy_and_hold_return)}\")"
   ]
  },
  {
   "cell_type": "code",
   "execution_count": 69,
   "metadata": {},
   "outputs": [
    {
     "name": "stdout",
     "output_type": "stream",
     "text": [
      "Current investment of SPY after ignoring the oracle: $203.81\n"
     ]
    }
   ],
   "source": [
    "# Ignore the oracle and hold the stock throughout the duration of the dataset for S&P-500.\n",
    "spy_buy_and_hold_return: float = spy_stock_data.buy_and_hold(initial_investment=100.0)\n",
    "print(f\"Current investment of SPY after ignoring the oracle: {float_to_currency(spy_buy_and_hold_return)}\")"
   ]
  },
  {
   "cell_type": "markdown",
   "metadata": {},
   "source": [
    "2. How do these results compare with results obtained in question 4?"
   ]
  },
  {
   "cell_type": "code",
   "execution_count": 70,
   "metadata": {},
   "outputs": [
    {
     "name": "stdout",
     "output_type": "stream",
     "text": [
      "By not listening to the oracle, you have lost 99.95% of your potential gains for the SONY stock!\n"
     ]
    }
   ],
   "source": [
    "# Difference between listening to the oracle and ignoring the oracle for SONY.\n",
    "sony_return_difference: float = percent_change(sony_buy_and_hold_return, sony_oracle_return)\n",
    "\n",
    "if sony_oracle_return > sony_buy_and_hold_return:\n",
    "    print(f\"By not listening to the oracle, you have lost {sony_return_difference:.2f}% of your potential gains for the SONY stock!\")\n",
    "else:\n",
    "    print(f\"You have overcome all odds and beat the oracle by {(100.0 - sony_return_difference):.3f}% for the SONY stock!\")"
   ]
  },
  {
   "cell_type": "code",
   "execution_count": 71,
   "metadata": {},
   "outputs": [
    {
     "name": "stdout",
     "output_type": "stream",
     "text": [
      "By not listening to the oracle, you have lost 98.30% of your potential gains for the S&P-500 stock!\n"
     ]
    }
   ],
   "source": [
    "# Difference between listening to the oracle and ignoring the oracle for S&P-500.\n",
    "spy_return_difference: float = percent_change(spy_buy_and_hold_return, spy_oracle_return)\n",
    "\n",
    "if spy_oracle_return > spy_buy_and_hold_return:\n",
    "    print(f\"By not listening to the oracle, you have lost {spy_return_difference:.2f}% of your potential gains for the S&P-500 stock!\")\n",
    "else:\n",
    "    print(f\"You have somehow overcome all odds and beat the oracle by {(100.0 - spy_return_difference):.3f}% for the S&P-500 stock!\")"
   ]
  },
  {
   "cell_type": "markdown",
   "metadata": {},
   "source": [
    "The result of not listening to the oracle is a huge loss in total earnings because over the duration of the stock period, the stocks price fluctuates up and down and by using the oracle and taking advantage of only positive days, the more that the stock swings up, the more you will gain and when the stock price dips, you are spared all the losses."
   ]
  },
  {
   "cell_type": "markdown",
   "metadata": {},
   "source": [
    "### Question #6\n",
    "\n",
    "Your oracle got very upset that you did not follow its advice. It decided to take revenge by giving you wrong advice from time to time.\n",
    "Specifically, let us consider the following three scenarios:\n",
    "\n",
    "(a) Oracle gave you the wrong results for the best 10 trading days.\n",
    "In other words, you missed the best 10 days, you missed the best 10 days and your overall profit will be lowered.\n",
    "\n",
    "(b) Oracle gave you the wrong results for the worst 10 trading days.\n",
    "In other words, you realize the worst 10 days and your overall profit will be lowered.\n",
    "\n",
    "(c) Oracle gave you the wrong results for the best 5 days and for the worst 5 days.\n",
    "\n",
    "Please answer the following:"
   ]
  },
  {
   "cell_type": "code",
   "execution_count": 72,
   "metadata": {},
   "outputs": [],
   "source": [
    "# An angry oracle instance.\n",
    "angry_oracle: Oracle = Oracle(RevengeScenarioA())"
   ]
  },
  {
   "cell_type": "markdown",
   "metadata": {},
   "source": [
    "1. For each of the scenarios above (a, b, and c), compute the final amount that you will have for both your stock and \"SPY\"."
   ]
  },
  {
   "cell_type": "code",
   "execution_count": 73,
   "metadata": {},
   "outputs": [
    {
     "name": "stdout",
     "output_type": "stream",
     "text": [
      "$350,479.65\n"
     ]
    }
   ],
   "source": [
    "# Scenario A for SONY: Missing the top 10 best trading days.\n",
    "revenge_sony_oracle_return_a: str = float_to_currency(\n",
    "    angry_oracle.make_predictions(stocks=sony_stock_data)\n",
    ")\n",
    "print(revenge_sony_oracle_return_a)"
   ]
  },
  {
   "cell_type": "code",
   "execution_count": 74,
   "metadata": {},
   "outputs": [
    {
     "name": "stdout",
     "output_type": "stream",
     "text": [
      "$6,849.91\n"
     ]
    }
   ],
   "source": [
    "# Scenario A for S&P-500: Missing the top 10 best trading days.\n",
    "revenge_spy_oracle_return_a: str = float_to_currency(\n",
    "    angry_oracle.make_predictions(stocks=spy_stock_data)\n",
    ")\n",
    "print(revenge_spy_oracle_return_a)"
   ]
  },
  {
   "cell_type": "code",
   "execution_count": 75,
   "metadata": {},
   "outputs": [],
   "source": [
    "# Switch oracle's strategy to scenario B.\n",
    "angry_oracle.strategy = RevengeScenarioB()"
   ]
  },
  {
   "cell_type": "code",
   "execution_count": 76,
   "metadata": {},
   "outputs": [
    {
     "name": "stdout",
     "output_type": "stream",
     "text": [
      "$384,000.45\n"
     ]
    }
   ],
   "source": [
    "# Scenario B for SONY: Realizing the top 10 worst trading days.\n",
    "revenge_sony_oracle_return_b: str = float_to_currency(\n",
    "    angry_oracle.make_predictions(stocks=sony_stock_data)\n",
    ")\n",
    "print(revenge_sony_oracle_return_b)"
   ]
  },
  {
   "cell_type": "code",
   "execution_count": 77,
   "metadata": {},
   "outputs": [
    {
     "name": "stdout",
     "output_type": "stream",
     "text": [
      "$6,333.20\n"
     ]
    }
   ],
   "source": [
    "# Scenario B for S&P-500: Realizing the top 10 worst trading days.\n",
    "revenge_spy_oracle_return_b: str = float_to_currency(\n",
    "    angry_oracle.make_predictions(stocks=spy_stock_data)\n",
    ")\n",
    "print(revenge_spy_oracle_return_b)"
   ]
  },
  {
   "cell_type": "code",
   "execution_count": 78,
   "metadata": {},
   "outputs": [],
   "source": [
    "# Switch oracle's strategy to scenario C.\n",
    "angry_oracle.strategy = RevengeScenarioC()"
   ]
  },
  {
   "cell_type": "code",
   "execution_count": 79,
   "metadata": {},
   "outputs": [
    {
     "name": "stdout",
     "output_type": "stream",
     "text": [
      "$313,186.28\n"
     ]
    }
   ],
   "source": [
    "# Scenario C for SONY: Realizing the top 5 worst trading days and missing the top 5\n",
    "# best days.\n",
    "revenge_sony_oracle_return_c: str = float_to_currency(\n",
    "    angry_oracle.make_predictions(stocks=sony_stock_data)\n",
    ")\n",
    "print(revenge_sony_oracle_return_c)"
   ]
  },
  {
   "cell_type": "code",
   "execution_count": 80,
   "metadata": {},
   "outputs": [
    {
     "name": "stdout",
     "output_type": "stream",
     "text": [
      "$5,648.88\n"
     ]
    }
   ],
   "source": [
    "# Scenario C for S&P-500: Realizing the top 5 worst trading days and missing the\n",
    "# top 5 best days.\n",
    "revenge_spy_oracle_return_c: str = float_to_currency(\n",
    "    angry_oracle.make_predictions(stocks=spy_stock_data)\n",
    ")\n",
    "print(revenge_spy_oracle_return_c)"
   ]
  },
  {
   "cell_type": "markdown",
   "metadata": {},
   "source": [
    "2. Do you gain more by missing the worst days or by missing the best days?"
   ]
  },
  {
   "cell_type": "code",
   "execution_count": 81,
   "metadata": {},
   "outputs": [
    {
     "name": "stdout",
     "output_type": "stream",
     "text": [
      "You gain more by missing the worst days for SONY.\n",
      "You gained more by missing the best days for S&P-500.\n"
     ]
    }
   ],
   "source": [
    "# Compare missing the best days versus missing the worst days for SONY.\n",
    "if revenge_sony_oracle_return_a >= revenge_sony_oracle_return_b:\n",
    "    print(\"You gained more by missing the best days for SONY.\")\n",
    "else:\n",
    "    print(\"You gain more by missing the worst days for SONY.\")\n",
    "\n",
    "# Compare missing the best days versus missing the worst days for S&P-500.\n",
    "if revenge_spy_oracle_return_a >= revenge_spy_oracle_return_b:\n",
    "    print(\"You gained more by missing the best days for S&P-500.\")\n",
    "else:\n",
    "    print(\"You gain more by missing the worst days for S&P-500.\")"
   ]
  },
  {
   "cell_type": "markdown",
   "metadata": {},
   "source": [
    "3. Are the results in part (c) different from the results that you obtained in question 4."
   ]
  },
  {
   "cell_type": "code",
   "execution_count": 82,
   "metadata": {},
   "outputs": [
    {
     "name": "stdout",
     "output_type": "stream",
     "text": [
      "The oracle's revenge in scenario c cost you $495,922.65 in losses.\n"
     ]
    }
   ],
   "source": [
    "# Compare question 4 to scenario c.\n",
    "revenge_versus_normal: str = float_to_currency(difference(\n",
    "    angry_oracle.make_predictions(stocks=sony_stock_data), sony_oracle_return\n",
    "))\n",
    "print(f\"The oracle's revenge in scenario c cost you {revenge_versus_normal} in losses.\")"
   ]
  },
  {
   "cell_type": "markdown",
   "metadata": {},
   "source": [
    "Yes, the oracle's revenge in scenario c and all scenarios created a decent sized loss compared to when the oracle makes accurate predictions."
   ]
  }
 ],
 "metadata": {
  "kernelspec": {
   "display_name": "Python 3 (ipykernel)",
   "language": "python",
   "name": "python3"
  },
  "language_info": {
   "codemirror_mode": {
    "name": "ipython",
    "version": 3
   },
   "file_extension": ".py",
   "mimetype": "text/x-python",
   "name": "python",
   "nbconvert_exporter": "python",
   "pygments_lexer": "ipython3",
   "version": "3.10.6"
  }
 },
 "nbformat": 4,
 "nbformat_minor": 1
}
